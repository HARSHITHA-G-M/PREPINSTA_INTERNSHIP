{
 "cells": [
  {
   "cell_type": "code",
   "execution_count": 94,
   "id": "0caf7113",
   "metadata": {},
   "outputs": [],
   "source": [
    "import numpy as np \n",
    "import matplotlib.pyplot as plt\n",
    "import pandas as pd \n",
    "import scipy.stats as stats"
   ]
  },
  {
   "cell_type": "code",
   "execution_count": 95,
   "id": "94d03dbe",
   "metadata": {},
   "outputs": [],
   "source": [
    "import scipy.stats as stats"
   ]
  },
  {
   "cell_type": "code",
   "execution_count": 96,
   "id": "87843b70",
   "metadata": {},
   "outputs": [],
   "source": [
    "data=pd.read_csv('cars_ds_final.csv',index_col=0)"
   ]
  },
  {
   "cell_type": "code",
   "execution_count": 97,
   "id": "c2e840d6",
   "metadata": {},
   "outputs": [
    {
     "data": {
      "text/html": [
       "<div>\n",
       "<style scoped>\n",
       "    .dataframe tbody tr th:only-of-type {\n",
       "        vertical-align: middle;\n",
       "    }\n",
       "\n",
       "    .dataframe tbody tr th {\n",
       "        vertical-align: top;\n",
       "    }\n",
       "\n",
       "    .dataframe thead th {\n",
       "        text-align: right;\n",
       "    }\n",
       "</style>\n",
       "<table border=\"1\" class=\"dataframe\">\n",
       "  <thead>\n",
       "    <tr style=\"text-align: right;\">\n",
       "      <th></th>\n",
       "      <th>Make</th>\n",
       "      <th>Model</th>\n",
       "      <th>Variant</th>\n",
       "      <th>Ex-Showroom_Price</th>\n",
       "      <th>Displacement</th>\n",
       "      <th>Cylinders</th>\n",
       "      <th>Valves_Per_Cylinder</th>\n",
       "      <th>Drivetrain</th>\n",
       "      <th>Cylinder_Configuration</th>\n",
       "      <th>Emission_Norm</th>\n",
       "      <th>...</th>\n",
       "      <th>Leather_Wrapped_Steering</th>\n",
       "      <th>Automatic_Headlamps</th>\n",
       "      <th>Engine_Type</th>\n",
       "      <th>ASR_/_Traction_Control</th>\n",
       "      <th>Cruise_Control</th>\n",
       "      <th>USB_Ports</th>\n",
       "      <th>Heads-Up_Display</th>\n",
       "      <th>Welcome_Lights</th>\n",
       "      <th>Battery</th>\n",
       "      <th>Electric_Range</th>\n",
       "    </tr>\n",
       "  </thead>\n",
       "  <tbody>\n",
       "    <tr>\n",
       "      <th>0</th>\n",
       "      <td>Tata</td>\n",
       "      <td>Nano Genx</td>\n",
       "      <td>Xt</td>\n",
       "      <td>Rs. 2,92,667</td>\n",
       "      <td>624 cc</td>\n",
       "      <td>2.0</td>\n",
       "      <td>2.0</td>\n",
       "      <td>RWD (Rear Wheel Drive)</td>\n",
       "      <td>In-line</td>\n",
       "      <td>BS IV</td>\n",
       "      <td>...</td>\n",
       "      <td>NaN</td>\n",
       "      <td>NaN</td>\n",
       "      <td>NaN</td>\n",
       "      <td>NaN</td>\n",
       "      <td>NaN</td>\n",
       "      <td>NaN</td>\n",
       "      <td>NaN</td>\n",
       "      <td>NaN</td>\n",
       "      <td>NaN</td>\n",
       "      <td>NaN</td>\n",
       "    </tr>\n",
       "    <tr>\n",
       "      <th>1</th>\n",
       "      <td>Tata</td>\n",
       "      <td>Nano Genx</td>\n",
       "      <td>Xe</td>\n",
       "      <td>Rs. 2,36,447</td>\n",
       "      <td>624 cc</td>\n",
       "      <td>2.0</td>\n",
       "      <td>2.0</td>\n",
       "      <td>RWD (Rear Wheel Drive)</td>\n",
       "      <td>In-line</td>\n",
       "      <td>BS IV</td>\n",
       "      <td>...</td>\n",
       "      <td>NaN</td>\n",
       "      <td>NaN</td>\n",
       "      <td>NaN</td>\n",
       "      <td>NaN</td>\n",
       "      <td>NaN</td>\n",
       "      <td>NaN</td>\n",
       "      <td>NaN</td>\n",
       "      <td>NaN</td>\n",
       "      <td>NaN</td>\n",
       "      <td>NaN</td>\n",
       "    </tr>\n",
       "    <tr>\n",
       "      <th>2</th>\n",
       "      <td>Tata</td>\n",
       "      <td>Nano Genx</td>\n",
       "      <td>Emax Xm</td>\n",
       "      <td>Rs. 2,96,661</td>\n",
       "      <td>624 cc</td>\n",
       "      <td>2.0</td>\n",
       "      <td>2.0</td>\n",
       "      <td>RWD (Rear Wheel Drive)</td>\n",
       "      <td>In-line</td>\n",
       "      <td>BS IV</td>\n",
       "      <td>...</td>\n",
       "      <td>NaN</td>\n",
       "      <td>NaN</td>\n",
       "      <td>NaN</td>\n",
       "      <td>NaN</td>\n",
       "      <td>NaN</td>\n",
       "      <td>NaN</td>\n",
       "      <td>NaN</td>\n",
       "      <td>NaN</td>\n",
       "      <td>NaN</td>\n",
       "      <td>NaN</td>\n",
       "    </tr>\n",
       "    <tr>\n",
       "      <th>3</th>\n",
       "      <td>Tata</td>\n",
       "      <td>Nano Genx</td>\n",
       "      <td>Xta</td>\n",
       "      <td>Rs. 3,34,768</td>\n",
       "      <td>624 cc</td>\n",
       "      <td>2.0</td>\n",
       "      <td>2.0</td>\n",
       "      <td>RWD (Rear Wheel Drive)</td>\n",
       "      <td>In-line</td>\n",
       "      <td>BS IV</td>\n",
       "      <td>...</td>\n",
       "      <td>NaN</td>\n",
       "      <td>NaN</td>\n",
       "      <td>NaN</td>\n",
       "      <td>NaN</td>\n",
       "      <td>NaN</td>\n",
       "      <td>NaN</td>\n",
       "      <td>NaN</td>\n",
       "      <td>NaN</td>\n",
       "      <td>NaN</td>\n",
       "      <td>NaN</td>\n",
       "    </tr>\n",
       "    <tr>\n",
       "      <th>4</th>\n",
       "      <td>Tata</td>\n",
       "      <td>Nano Genx</td>\n",
       "      <td>Xm</td>\n",
       "      <td>Rs. 2,72,223</td>\n",
       "      <td>624 cc</td>\n",
       "      <td>2.0</td>\n",
       "      <td>2.0</td>\n",
       "      <td>RWD (Rear Wheel Drive)</td>\n",
       "      <td>In-line</td>\n",
       "      <td>BS IV</td>\n",
       "      <td>...</td>\n",
       "      <td>NaN</td>\n",
       "      <td>NaN</td>\n",
       "      <td>NaN</td>\n",
       "      <td>NaN</td>\n",
       "      <td>NaN</td>\n",
       "      <td>NaN</td>\n",
       "      <td>NaN</td>\n",
       "      <td>NaN</td>\n",
       "      <td>NaN</td>\n",
       "      <td>NaN</td>\n",
       "    </tr>\n",
       "  </tbody>\n",
       "</table>\n",
       "<p>5 rows × 140 columns</p>\n",
       "</div>"
      ],
      "text/plain": [
       "   Make      Model  Variant Ex-Showroom_Price Displacement  Cylinders  \\\n",
       "0  Tata  Nano Genx       Xt      Rs. 2,92,667       624 cc        2.0   \n",
       "1  Tata  Nano Genx       Xe      Rs. 2,36,447       624 cc        2.0   \n",
       "2  Tata  Nano Genx  Emax Xm      Rs. 2,96,661       624 cc        2.0   \n",
       "3  Tata  Nano Genx      Xta      Rs. 3,34,768       624 cc        2.0   \n",
       "4  Tata  Nano Genx       Xm      Rs. 2,72,223       624 cc        2.0   \n",
       "\n",
       "   Valves_Per_Cylinder              Drivetrain Cylinder_Configuration  \\\n",
       "0                  2.0  RWD (Rear Wheel Drive)                In-line   \n",
       "1                  2.0  RWD (Rear Wheel Drive)                In-line   \n",
       "2                  2.0  RWD (Rear Wheel Drive)                In-line   \n",
       "3                  2.0  RWD (Rear Wheel Drive)                In-line   \n",
       "4                  2.0  RWD (Rear Wheel Drive)                In-line   \n",
       "\n",
       "  Emission_Norm  ... Leather_Wrapped_Steering Automatic_Headlamps Engine_Type  \\\n",
       "0         BS IV  ...                      NaN                 NaN         NaN   \n",
       "1         BS IV  ...                      NaN                 NaN         NaN   \n",
       "2         BS IV  ...                      NaN                 NaN         NaN   \n",
       "3         BS IV  ...                      NaN                 NaN         NaN   \n",
       "4         BS IV  ...                      NaN                 NaN         NaN   \n",
       "\n",
       "  ASR_/_Traction_Control Cruise_Control USB_Ports Heads-Up_Display  \\\n",
       "0                    NaN            NaN       NaN              NaN   \n",
       "1                    NaN            NaN       NaN              NaN   \n",
       "2                    NaN            NaN       NaN              NaN   \n",
       "3                    NaN            NaN       NaN              NaN   \n",
       "4                    NaN            NaN       NaN              NaN   \n",
       "\n",
       "  Welcome_Lights  Battery Electric_Range  \n",
       "0            NaN      NaN            NaN  \n",
       "1            NaN      NaN            NaN  \n",
       "2            NaN      NaN            NaN  \n",
       "3            NaN      NaN            NaN  \n",
       "4            NaN      NaN            NaN  \n",
       "\n",
       "[5 rows x 140 columns]"
      ]
     },
     "execution_count": 97,
     "metadata": {},
     "output_type": "execute_result"
    }
   ],
   "source": [
    "data.head(5)"
   ]
  },
  {
   "cell_type": "code",
   "execution_count": 98,
   "id": "b4d3e79b",
   "metadata": {},
   "outputs": [
    {
     "data": {
      "text/plain": [
       "(1276, 140)"
      ]
     },
     "execution_count": 98,
     "metadata": {},
     "output_type": "execute_result"
    }
   ],
   "source": [
    "data.shape"
   ]
  },
  {
   "cell_type": "code",
   "execution_count": 99,
   "id": "25e5f7b3",
   "metadata": {},
   "outputs": [
    {
     "name": "stdout",
     "output_type": "stream",
     "text": [
      "<class 'pandas.core.frame.DataFrame'>\n",
      "Int64Index: 1276 entries, 0 to 1275\n",
      "Data columns (total 140 columns):\n",
      " #    Column                                     Dtype  \n",
      "---   ------                                     -----  \n",
      " 0    Make                                       object \n",
      " 1    Model                                      object \n",
      " 2    Variant                                    object \n",
      " 3    Ex-Showroom_Price                          object \n",
      " 4    Displacement                               object \n",
      " 5    Cylinders                                  float64\n",
      " 6    Valves_Per_Cylinder                        float64\n",
      " 7    Drivetrain                                 object \n",
      " 8    Cylinder_Configuration                     object \n",
      " 9    Emission_Norm                              object \n",
      " 10   Engine_Location                            object \n",
      " 11   Fuel_System                                object \n",
      " 12   Fuel_Tank_Capacity                         object \n",
      " 13   Fuel_Type                                  object \n",
      " 14   Height                                     object \n",
      " 15   Length                                     object \n",
      " 16   Width                                      object \n",
      " 17   Body_Type                                  object \n",
      " 18   Doors                                      float64\n",
      " 19   City_Mileage                               object \n",
      " 20   Highway_Mileage                            object \n",
      " 21   ARAI_Certified_Mileage                     object \n",
      " 22   ARAI_Certified_Mileage_for_CNG             object \n",
      " 23   Kerb_Weight                                object \n",
      " 24   Gears                                      object \n",
      " 25   Ground_Clearance                           object \n",
      " 26   Front_Brakes                               object \n",
      " 27   Rear_Brakes                                object \n",
      " 28   Front_Suspension                           object \n",
      " 29   Rear_Suspension                            object \n",
      " 30   Front_Track                                object \n",
      " 31   Rear_Track                                 object \n",
      " 32   Front_Tyre_&_Rim                           object \n",
      " 33   Rear_Tyre_&_Rim                            object \n",
      " 34   Power_Steering                             object \n",
      " 35   Power_Windows                              object \n",
      " 36   Power_Seats                                object \n",
      " 37   Keyless_Entry                              object \n",
      " 38   Power                                      object \n",
      " 39   Torque                                     object \n",
      " 40   Odometer                                   object \n",
      " 41   Speedometer                                object \n",
      " 42   Tachometer                                 object \n",
      " 43   Tripmeter                                  object \n",
      " 44   Seating_Capacity                           float64\n",
      " 45   Seats_Material                             object \n",
      " 46   Type                                       object \n",
      " 47   Wheelbase                                  object \n",
      " 48   Wheels_Size                                object \n",
      " 49   Start_/_Stop_Button                        object \n",
      " 50   12v_Power_Outlet                           object \n",
      " 51   Audiosystem                                object \n",
      " 52   Aux-in_Compatibility                       object \n",
      " 53   Average_Fuel_Consumption                   object \n",
      " 54   Basic_Warranty                             object \n",
      " 55   Bluetooth                                  object \n",
      " 56   Boot-lid_Opener                            object \n",
      " 57   Boot_Space                                 object \n",
      " 58   CD_/_MP3_/_DVD_Player                      object \n",
      " 59   Central_Locking                            object \n",
      " 60   Child_Safety_Locks                         object \n",
      " 61   Clock                                      object \n",
      " 62   Cup_Holders                                object \n",
      " 63   Distance_to_Empty                          object \n",
      " 64   Door_Pockets                               object \n",
      " 65   Engine_Malfunction_Light                   object \n",
      " 66   Extended_Warranty                          object \n",
      " 67   FM_Radio                                   object \n",
      " 68   Fuel-lid_Opener                            object \n",
      " 69   Fuel_Gauge                                 object \n",
      " 70   Handbrake                                  object \n",
      " 71   Instrument_Console                         object \n",
      " 72   Low_Fuel_Warning                           object \n",
      " 73   Minimum_Turning_Radius                     object \n",
      " 74   Multifunction_Display                      object \n",
      " 75   Sun_Visor                                  object \n",
      " 76   Third_Row_AC_Vents                         object \n",
      " 77   Ventilation_System                         object \n",
      " 78   Auto-Dimming_Rear-View_Mirror              object \n",
      " 79   Hill_Assist                                object \n",
      " 80   Gear_Indicator                             object \n",
      " 81   3_Point_Seat-Belt_in_Middle_Rear_Seat      object \n",
      " 82   Ambient_Lightning                          object \n",
      " 83   Cargo/Boot_Lights                          object \n",
      " 84   Drive_Modes                                object \n",
      " 85   Engine_Immobilizer                         object \n",
      " 86   High_Speed_Alert_System                    object \n",
      " 87   Lane_Watch_Camera/_Side_Mirror_Camera      object \n",
      " 88   Passenger_Side_Seat-Belt_Reminder          object \n",
      " 89   Seat_Back_Pockets                          object \n",
      " 90   Voice_Recognition                          object \n",
      " 91   Walk_Away_Auto_Car_Lock                    object \n",
      " 92   ABS_(Anti-lock_Braking_System)             object \n",
      " 93   Headlight_Reminder                         object \n",
      " 94   Adjustable_Headrests                       object \n",
      " 95   Gross_Vehicle_Weight                       object \n",
      " 96   Airbags                                    object \n",
      " 97   Door_Ajar_Warning                          object \n",
      " 98   EBD_(Electronic_Brake-force_Distribution)  object \n",
      " 99   Fasten_Seat_Belt_Warning                   object \n",
      " 100  Gear_Shift_Reminder                        object \n",
      " 101  Number_of_Airbags                          float64\n",
      " 102  Compression_Ratio                          object \n",
      " 103  Adjustable_Steering_Column                 object \n",
      " 104  Other_Specs                                object \n",
      " 105  Other_specs                                object \n",
      " 106  Parking_Assistance                         object \n",
      " 107  Key_Off_Reminder                           object \n",
      " 108  USB_Compatibility                          object \n",
      " 109  Android_Auto                               object \n",
      " 110  Apple_CarPlay                              object \n",
      " 111  Cigarette_Lighter                          object \n",
      " 112  Infotainment_Screen                        object \n",
      " 113  Multifunction_Steering_Wheel               object \n",
      " 114  Average_Speed                              object \n",
      " 115  EBA_(Electronic_Brake_Assist)              object \n",
      " 116  Seat_Height_Adjustment                     object \n",
      " 117  Navigation_System                          object \n",
      " 118  Second_Row_AC_Vents                        object \n",
      " 119  Tyre_Pressure_Monitoring_System            object \n",
      " 120  Rear_Center_Armrest                        object \n",
      " 121  iPod_Compatibility                         object \n",
      " 122  ESP_(Electronic_Stability_Program)         object \n",
      " 123  Cooled_Glove_Box                           object \n",
      " 124  Recommended_Tyre_Pressure                  object \n",
      " 125  Heated_Seats                               object \n",
      " 126  Turbocharger                               object \n",
      " 127  ISOFIX_(Child-Seat_Mount)                  object \n",
      " 128  Rain_Sensing_Wipers                        object \n",
      " 129  Paddle_Shifters                            object \n",
      " 130  Leather_Wrapped_Steering                   object \n",
      " 131  Automatic_Headlamps                        object \n",
      " 132  Engine_Type                                object \n",
      " 133  ASR_/_Traction_Control                     object \n",
      " 134  Cruise_Control                             object \n",
      " 135  USB_Ports                                  float64\n",
      " 136  Heads-Up_Display                           object \n",
      " 137  Welcome_Lights                             object \n",
      " 138  Battery                                    object \n",
      " 139  Electric_Range                             object \n",
      "dtypes: float64(6), object(134)\n",
      "memory usage: 1.4+ MB\n"
     ]
    }
   ],
   "source": [
    "data.info(verbose=True)"
   ]
  },
  {
   "cell_type": "code",
   "execution_count": 100,
   "id": "0a0c8c92",
   "metadata": {},
   "outputs": [
    {
     "data": {
      "text/html": [
       "<div>\n",
       "<style scoped>\n",
       "    .dataframe tbody tr th:only-of-type {\n",
       "        vertical-align: middle;\n",
       "    }\n",
       "\n",
       "    .dataframe tbody tr th {\n",
       "        vertical-align: top;\n",
       "    }\n",
       "\n",
       "    .dataframe thead th {\n",
       "        text-align: right;\n",
       "    }\n",
       "</style>\n",
       "<table border=\"1\" class=\"dataframe\">\n",
       "  <thead>\n",
       "    <tr style=\"text-align: right;\">\n",
       "      <th></th>\n",
       "      <th>Make</th>\n",
       "      <th>Model</th>\n",
       "      <th>Variant</th>\n",
       "      <th>Ex-Showroom_Price</th>\n",
       "      <th>Displacement</th>\n",
       "      <th>Cylinders</th>\n",
       "      <th>Valves_Per_Cylinder</th>\n",
       "      <th>Drivetrain</th>\n",
       "      <th>Cylinder_Configuration</th>\n",
       "      <th>Emission_Norm</th>\n",
       "      <th>...</th>\n",
       "      <th>Leather_Wrapped_Steering</th>\n",
       "      <th>Automatic_Headlamps</th>\n",
       "      <th>Engine_Type</th>\n",
       "      <th>ASR_/_Traction_Control</th>\n",
       "      <th>Cruise_Control</th>\n",
       "      <th>USB_Ports</th>\n",
       "      <th>Heads-Up_Display</th>\n",
       "      <th>Welcome_Lights</th>\n",
       "      <th>Battery</th>\n",
       "      <th>Electric_Range</th>\n",
       "    </tr>\n",
       "  </thead>\n",
       "  <tbody>\n",
       "    <tr>\n",
       "      <th>0</th>\n",
       "      <td>False</td>\n",
       "      <td>False</td>\n",
       "      <td>False</td>\n",
       "      <td>False</td>\n",
       "      <td>False</td>\n",
       "      <td>False</td>\n",
       "      <td>False</td>\n",
       "      <td>False</td>\n",
       "      <td>False</td>\n",
       "      <td>False</td>\n",
       "      <td>...</td>\n",
       "      <td>True</td>\n",
       "      <td>True</td>\n",
       "      <td>True</td>\n",
       "      <td>True</td>\n",
       "      <td>True</td>\n",
       "      <td>True</td>\n",
       "      <td>True</td>\n",
       "      <td>True</td>\n",
       "      <td>True</td>\n",
       "      <td>True</td>\n",
       "    </tr>\n",
       "    <tr>\n",
       "      <th>1</th>\n",
       "      <td>False</td>\n",
       "      <td>False</td>\n",
       "      <td>False</td>\n",
       "      <td>False</td>\n",
       "      <td>False</td>\n",
       "      <td>False</td>\n",
       "      <td>False</td>\n",
       "      <td>False</td>\n",
       "      <td>False</td>\n",
       "      <td>False</td>\n",
       "      <td>...</td>\n",
       "      <td>True</td>\n",
       "      <td>True</td>\n",
       "      <td>True</td>\n",
       "      <td>True</td>\n",
       "      <td>True</td>\n",
       "      <td>True</td>\n",
       "      <td>True</td>\n",
       "      <td>True</td>\n",
       "      <td>True</td>\n",
       "      <td>True</td>\n",
       "    </tr>\n",
       "    <tr>\n",
       "      <th>2</th>\n",
       "      <td>False</td>\n",
       "      <td>False</td>\n",
       "      <td>False</td>\n",
       "      <td>False</td>\n",
       "      <td>False</td>\n",
       "      <td>False</td>\n",
       "      <td>False</td>\n",
       "      <td>False</td>\n",
       "      <td>False</td>\n",
       "      <td>False</td>\n",
       "      <td>...</td>\n",
       "      <td>True</td>\n",
       "      <td>True</td>\n",
       "      <td>True</td>\n",
       "      <td>True</td>\n",
       "      <td>True</td>\n",
       "      <td>True</td>\n",
       "      <td>True</td>\n",
       "      <td>True</td>\n",
       "      <td>True</td>\n",
       "      <td>True</td>\n",
       "    </tr>\n",
       "    <tr>\n",
       "      <th>3</th>\n",
       "      <td>False</td>\n",
       "      <td>False</td>\n",
       "      <td>False</td>\n",
       "      <td>False</td>\n",
       "      <td>False</td>\n",
       "      <td>False</td>\n",
       "      <td>False</td>\n",
       "      <td>False</td>\n",
       "      <td>False</td>\n",
       "      <td>False</td>\n",
       "      <td>...</td>\n",
       "      <td>True</td>\n",
       "      <td>True</td>\n",
       "      <td>True</td>\n",
       "      <td>True</td>\n",
       "      <td>True</td>\n",
       "      <td>True</td>\n",
       "      <td>True</td>\n",
       "      <td>True</td>\n",
       "      <td>True</td>\n",
       "      <td>True</td>\n",
       "    </tr>\n",
       "    <tr>\n",
       "      <th>4</th>\n",
       "      <td>False</td>\n",
       "      <td>False</td>\n",
       "      <td>False</td>\n",
       "      <td>False</td>\n",
       "      <td>False</td>\n",
       "      <td>False</td>\n",
       "      <td>False</td>\n",
       "      <td>False</td>\n",
       "      <td>False</td>\n",
       "      <td>False</td>\n",
       "      <td>...</td>\n",
       "      <td>True</td>\n",
       "      <td>True</td>\n",
       "      <td>True</td>\n",
       "      <td>True</td>\n",
       "      <td>True</td>\n",
       "      <td>True</td>\n",
       "      <td>True</td>\n",
       "      <td>True</td>\n",
       "      <td>True</td>\n",
       "      <td>True</td>\n",
       "    </tr>\n",
       "    <tr>\n",
       "      <th>...</th>\n",
       "      <td>...</td>\n",
       "      <td>...</td>\n",
       "      <td>...</td>\n",
       "      <td>...</td>\n",
       "      <td>...</td>\n",
       "      <td>...</td>\n",
       "      <td>...</td>\n",
       "      <td>...</td>\n",
       "      <td>...</td>\n",
       "      <td>...</td>\n",
       "      <td>...</td>\n",
       "      <td>...</td>\n",
       "      <td>...</td>\n",
       "      <td>...</td>\n",
       "      <td>...</td>\n",
       "      <td>...</td>\n",
       "      <td>...</td>\n",
       "      <td>...</td>\n",
       "      <td>...</td>\n",
       "      <td>...</td>\n",
       "      <td>...</td>\n",
       "    </tr>\n",
       "    <tr>\n",
       "      <th>1271</th>\n",
       "      <td>False</td>\n",
       "      <td>False</td>\n",
       "      <td>False</td>\n",
       "      <td>False</td>\n",
       "      <td>False</td>\n",
       "      <td>False</td>\n",
       "      <td>False</td>\n",
       "      <td>False</td>\n",
       "      <td>False</td>\n",
       "      <td>False</td>\n",
       "      <td>...</td>\n",
       "      <td>False</td>\n",
       "      <td>True</td>\n",
       "      <td>True</td>\n",
       "      <td>True</td>\n",
       "      <td>False</td>\n",
       "      <td>True</td>\n",
       "      <td>True</td>\n",
       "      <td>True</td>\n",
       "      <td>True</td>\n",
       "      <td>True</td>\n",
       "    </tr>\n",
       "    <tr>\n",
       "      <th>1272</th>\n",
       "      <td>False</td>\n",
       "      <td>False</td>\n",
       "      <td>False</td>\n",
       "      <td>False</td>\n",
       "      <td>False</td>\n",
       "      <td>False</td>\n",
       "      <td>False</td>\n",
       "      <td>False</td>\n",
       "      <td>False</td>\n",
       "      <td>False</td>\n",
       "      <td>...</td>\n",
       "      <td>False</td>\n",
       "      <td>False</td>\n",
       "      <td>True</td>\n",
       "      <td>True</td>\n",
       "      <td>False</td>\n",
       "      <td>True</td>\n",
       "      <td>True</td>\n",
       "      <td>True</td>\n",
       "      <td>True</td>\n",
       "      <td>True</td>\n",
       "    </tr>\n",
       "    <tr>\n",
       "      <th>1273</th>\n",
       "      <td>False</td>\n",
       "      <td>False</td>\n",
       "      <td>False</td>\n",
       "      <td>False</td>\n",
       "      <td>False</td>\n",
       "      <td>False</td>\n",
       "      <td>False</td>\n",
       "      <td>False</td>\n",
       "      <td>False</td>\n",
       "      <td>False</td>\n",
       "      <td>...</td>\n",
       "      <td>False</td>\n",
       "      <td>False</td>\n",
       "      <td>True</td>\n",
       "      <td>True</td>\n",
       "      <td>False</td>\n",
       "      <td>True</td>\n",
       "      <td>True</td>\n",
       "      <td>True</td>\n",
       "      <td>True</td>\n",
       "      <td>True</td>\n",
       "    </tr>\n",
       "    <tr>\n",
       "      <th>1274</th>\n",
       "      <td>False</td>\n",
       "      <td>False</td>\n",
       "      <td>False</td>\n",
       "      <td>False</td>\n",
       "      <td>False</td>\n",
       "      <td>False</td>\n",
       "      <td>False</td>\n",
       "      <td>False</td>\n",
       "      <td>False</td>\n",
       "      <td>False</td>\n",
       "      <td>...</td>\n",
       "      <td>True</td>\n",
       "      <td>True</td>\n",
       "      <td>True</td>\n",
       "      <td>True</td>\n",
       "      <td>False</td>\n",
       "      <td>True</td>\n",
       "      <td>True</td>\n",
       "      <td>True</td>\n",
       "      <td>True</td>\n",
       "      <td>True</td>\n",
       "    </tr>\n",
       "    <tr>\n",
       "      <th>1275</th>\n",
       "      <td>False</td>\n",
       "      <td>False</td>\n",
       "      <td>False</td>\n",
       "      <td>False</td>\n",
       "      <td>False</td>\n",
       "      <td>False</td>\n",
       "      <td>False</td>\n",
       "      <td>False</td>\n",
       "      <td>False</td>\n",
       "      <td>False</td>\n",
       "      <td>...</td>\n",
       "      <td>False</td>\n",
       "      <td>True</td>\n",
       "      <td>True</td>\n",
       "      <td>False</td>\n",
       "      <td>False</td>\n",
       "      <td>True</td>\n",
       "      <td>True</td>\n",
       "      <td>True</td>\n",
       "      <td>True</td>\n",
       "      <td>True</td>\n",
       "    </tr>\n",
       "  </tbody>\n",
       "</table>\n",
       "<p>1276 rows × 140 columns</p>\n",
       "</div>"
      ],
      "text/plain": [
       "       Make  Model  Variant  Ex-Showroom_Price  Displacement  Cylinders  \\\n",
       "0     False  False    False              False         False      False   \n",
       "1     False  False    False              False         False      False   \n",
       "2     False  False    False              False         False      False   \n",
       "3     False  False    False              False         False      False   \n",
       "4     False  False    False              False         False      False   \n",
       "...     ...    ...      ...                ...           ...        ...   \n",
       "1271  False  False    False              False         False      False   \n",
       "1272  False  False    False              False         False      False   \n",
       "1273  False  False    False              False         False      False   \n",
       "1274  False  False    False              False         False      False   \n",
       "1275  False  False    False              False         False      False   \n",
       "\n",
       "      Valves_Per_Cylinder  Drivetrain  Cylinder_Configuration  Emission_Norm  \\\n",
       "0                   False       False                   False          False   \n",
       "1                   False       False                   False          False   \n",
       "2                   False       False                   False          False   \n",
       "3                   False       False                   False          False   \n",
       "4                   False       False                   False          False   \n",
       "...                   ...         ...                     ...            ...   \n",
       "1271                False       False                   False          False   \n",
       "1272                False       False                   False          False   \n",
       "1273                False       False                   False          False   \n",
       "1274                False       False                   False          False   \n",
       "1275                False       False                   False          False   \n",
       "\n",
       "      ...  Leather_Wrapped_Steering  Automatic_Headlamps  Engine_Type  \\\n",
       "0     ...                      True                 True         True   \n",
       "1     ...                      True                 True         True   \n",
       "2     ...                      True                 True         True   \n",
       "3     ...                      True                 True         True   \n",
       "4     ...                      True                 True         True   \n",
       "...   ...                       ...                  ...          ...   \n",
       "1271  ...                     False                 True         True   \n",
       "1272  ...                     False                False         True   \n",
       "1273  ...                     False                False         True   \n",
       "1274  ...                      True                 True         True   \n",
       "1275  ...                     False                 True         True   \n",
       "\n",
       "      ASR_/_Traction_Control  Cruise_Control  USB_Ports  Heads-Up_Display  \\\n",
       "0                       True            True       True              True   \n",
       "1                       True            True       True              True   \n",
       "2                       True            True       True              True   \n",
       "3                       True            True       True              True   \n",
       "4                       True            True       True              True   \n",
       "...                      ...             ...        ...               ...   \n",
       "1271                    True           False       True              True   \n",
       "1272                    True           False       True              True   \n",
       "1273                    True           False       True              True   \n",
       "1274                    True           False       True              True   \n",
       "1275                   False           False       True              True   \n",
       "\n",
       "      Welcome_Lights  Battery  Electric_Range  \n",
       "0               True     True            True  \n",
       "1               True     True            True  \n",
       "2               True     True            True  \n",
       "3               True     True            True  \n",
       "4               True     True            True  \n",
       "...              ...      ...             ...  \n",
       "1271            True     True            True  \n",
       "1272            True     True            True  \n",
       "1273            True     True            True  \n",
       "1274            True     True            True  \n",
       "1275            True     True            True  \n",
       "\n",
       "[1276 rows x 140 columns]"
      ]
     },
     "execution_count": 100,
     "metadata": {},
     "output_type": "execute_result"
    }
   ],
   "source": [
    "data.isna()"
   ]
  },
  {
   "cell_type": "code",
   "execution_count": 101,
   "id": "f0393d5e",
   "metadata": {},
   "outputs": [
    {
     "data": {
      "text/plain": [
       "58433"
      ]
     },
     "execution_count": 101,
     "metadata": {},
     "output_type": "execute_result"
    }
   ],
   "source": [
    "data.isna().sum().sum()"
   ]
  },
  {
   "cell_type": "code",
   "execution_count": 102,
   "id": "0f128e0f",
   "metadata": {
    "scrolled": false
   },
   "outputs": [
    {
     "data": {
      "text/html": [
       "<div>\n",
       "<style scoped>\n",
       "    .dataframe tbody tr th:only-of-type {\n",
       "        vertical-align: middle;\n",
       "    }\n",
       "\n",
       "    .dataframe tbody tr th {\n",
       "        vertical-align: top;\n",
       "    }\n",
       "\n",
       "    .dataframe thead th {\n",
       "        text-align: right;\n",
       "    }\n",
       "</style>\n",
       "<table border=\"1\" class=\"dataframe\">\n",
       "  <thead>\n",
       "    <tr style=\"text-align: right;\">\n",
       "      <th></th>\n",
       "      <th>Make</th>\n",
       "      <th>Model</th>\n",
       "      <th>Variant</th>\n",
       "      <th>Ex-Showroom_Price</th>\n",
       "      <th>Displacement</th>\n",
       "      <th>Cylinders</th>\n",
       "      <th>Valves_Per_Cylinder</th>\n",
       "      <th>Drivetrain</th>\n",
       "      <th>Cylinder_Configuration</th>\n",
       "      <th>Emission_Norm</th>\n",
       "      <th>...</th>\n",
       "      <th>Leather_Wrapped_Steering</th>\n",
       "      <th>Automatic_Headlamps</th>\n",
       "      <th>Engine_Type</th>\n",
       "      <th>ASR_/_Traction_Control</th>\n",
       "      <th>Cruise_Control</th>\n",
       "      <th>USB_Ports</th>\n",
       "      <th>Heads-Up_Display</th>\n",
       "      <th>Welcome_Lights</th>\n",
       "      <th>Battery</th>\n",
       "      <th>Electric_Range</th>\n",
       "    </tr>\n",
       "  </thead>\n",
       "  <tbody>\n",
       "    <tr>\n",
       "      <th>1272</th>\n",
       "      <td>Honda</td>\n",
       "      <td>City</td>\n",
       "      <td>Zx Mt Diesel</td>\n",
       "      <td>Rs. 14,21,000</td>\n",
       "      <td>1498 cc</td>\n",
       "      <td>4.0</td>\n",
       "      <td>4.0</td>\n",
       "      <td>FWD (Front Wheel Drive)</td>\n",
       "      <td>In-line</td>\n",
       "      <td>BS IV</td>\n",
       "      <td>...</td>\n",
       "      <td>Yes</td>\n",
       "      <td>Yes</td>\n",
       "      <td>NaN</td>\n",
       "      <td>NaN</td>\n",
       "      <td>Yes</td>\n",
       "      <td>NaN</td>\n",
       "      <td>NaN</td>\n",
       "      <td>NaN</td>\n",
       "      <td>NaN</td>\n",
       "      <td>NaN</td>\n",
       "    </tr>\n",
       "    <tr>\n",
       "      <th>1273</th>\n",
       "      <td>Honda</td>\n",
       "      <td>City</td>\n",
       "      <td>Zx Cvt Petrol</td>\n",
       "      <td>Rs. 14,31,000</td>\n",
       "      <td>1497 cc</td>\n",
       "      <td>4.0</td>\n",
       "      <td>4.0</td>\n",
       "      <td>FWD (Front Wheel Drive)</td>\n",
       "      <td>In-line</td>\n",
       "      <td>BS 6</td>\n",
       "      <td>...</td>\n",
       "      <td>Yes</td>\n",
       "      <td>Yes</td>\n",
       "      <td>NaN</td>\n",
       "      <td>NaN</td>\n",
       "      <td>Yes</td>\n",
       "      <td>NaN</td>\n",
       "      <td>NaN</td>\n",
       "      <td>NaN</td>\n",
       "      <td>NaN</td>\n",
       "      <td>NaN</td>\n",
       "    </tr>\n",
       "    <tr>\n",
       "      <th>1274</th>\n",
       "      <td>Honda</td>\n",
       "      <td>City</td>\n",
       "      <td>V Cvt Petrol</td>\n",
       "      <td>Rs. 12,01,000</td>\n",
       "      <td>1497 cc</td>\n",
       "      <td>4.0</td>\n",
       "      <td>4.0</td>\n",
       "      <td>FWD (Front Wheel Drive)</td>\n",
       "      <td>In-line</td>\n",
       "      <td>BS 6</td>\n",
       "      <td>...</td>\n",
       "      <td>NaN</td>\n",
       "      <td>NaN</td>\n",
       "      <td>NaN</td>\n",
       "      <td>NaN</td>\n",
       "      <td>Yes</td>\n",
       "      <td>NaN</td>\n",
       "      <td>NaN</td>\n",
       "      <td>NaN</td>\n",
       "      <td>NaN</td>\n",
       "      <td>NaN</td>\n",
       "    </tr>\n",
       "    <tr>\n",
       "      <th>1275</th>\n",
       "      <td>Mitsubishi</td>\n",
       "      <td>Montero</td>\n",
       "      <td>3.2 At</td>\n",
       "      <td>Rs. 68,62,560</td>\n",
       "      <td>3200 cc</td>\n",
       "      <td>4.0</td>\n",
       "      <td>4.0</td>\n",
       "      <td>AWD (All Wheel Drive)</td>\n",
       "      <td>In-line</td>\n",
       "      <td>BS IV</td>\n",
       "      <td>...</td>\n",
       "      <td>Yes</td>\n",
       "      <td>NaN</td>\n",
       "      <td>NaN</td>\n",
       "      <td>Yes</td>\n",
       "      <td>Yes</td>\n",
       "      <td>NaN</td>\n",
       "      <td>NaN</td>\n",
       "      <td>NaN</td>\n",
       "      <td>NaN</td>\n",
       "      <td>NaN</td>\n",
       "    </tr>\n",
       "  </tbody>\n",
       "</table>\n",
       "<p>4 rows × 140 columns</p>\n",
       "</div>"
      ],
      "text/plain": [
       "            Make    Model        Variant Ex-Showroom_Price Displacement  \\\n",
       "1272       Honda     City   Zx Mt Diesel     Rs. 14,21,000      1498 cc   \n",
       "1273       Honda     City  Zx Cvt Petrol     Rs. 14,31,000      1497 cc   \n",
       "1274       Honda     City   V Cvt Petrol     Rs. 12,01,000      1497 cc   \n",
       "1275  Mitsubishi  Montero         3.2 At     Rs. 68,62,560      3200 cc   \n",
       "\n",
       "      Cylinders  Valves_Per_Cylinder               Drivetrain  \\\n",
       "1272        4.0                  4.0  FWD (Front Wheel Drive)   \n",
       "1273        4.0                  4.0  FWD (Front Wheel Drive)   \n",
       "1274        4.0                  4.0  FWD (Front Wheel Drive)   \n",
       "1275        4.0                  4.0    AWD (All Wheel Drive)   \n",
       "\n",
       "     Cylinder_Configuration Emission_Norm  ... Leather_Wrapped_Steering  \\\n",
       "1272                In-line         BS IV  ...                      Yes   \n",
       "1273                In-line          BS 6  ...                      Yes   \n",
       "1274                In-line          BS 6  ...                      NaN   \n",
       "1275                In-line         BS IV  ...                      Yes   \n",
       "\n",
       "     Automatic_Headlamps Engine_Type ASR_/_Traction_Control Cruise_Control  \\\n",
       "1272                 Yes         NaN                    NaN            Yes   \n",
       "1273                 Yes         NaN                    NaN            Yes   \n",
       "1274                 NaN         NaN                    NaN            Yes   \n",
       "1275                 NaN         NaN                    Yes            Yes   \n",
       "\n",
       "     USB_Ports Heads-Up_Display Welcome_Lights  Battery Electric_Range  \n",
       "1272       NaN              NaN            NaN      NaN            NaN  \n",
       "1273       NaN              NaN            NaN      NaN            NaN  \n",
       "1274       NaN              NaN            NaN      NaN            NaN  \n",
       "1275       NaN              NaN            NaN      NaN            NaN  \n",
       "\n",
       "[4 rows x 140 columns]"
      ]
     },
     "execution_count": 102,
     "metadata": {},
     "output_type": "execute_result"
    }
   ],
   "source": [
    "data.tail(4)"
   ]
  },
  {
   "cell_type": "code",
   "execution_count": 103,
   "id": "bec6310e",
   "metadata": {},
   "outputs": [
    {
     "data": {
      "text/plain": [
       "75"
      ]
     },
     "execution_count": 103,
     "metadata": {},
     "output_type": "execute_result"
    }
   ],
   "source": [
    "data['Make'].isna().sum()"
   ]
  },
  {
   "cell_type": "code",
   "execution_count": 104,
   "id": "77f125a0",
   "metadata": {},
   "outputs": [
    {
     "data": {
      "text/plain": [
       "0    Maruti Suzuki\n",
       "Name: Make, dtype: object"
      ]
     },
     "execution_count": 104,
     "metadata": {},
     "output_type": "execute_result"
    }
   ],
   "source": [
    "data['Make'].mode()"
   ]
  },
  {
   "cell_type": "code",
   "execution_count": 105,
   "id": "7c9ab8a5",
   "metadata": {},
   "outputs": [],
   "source": [
    "data['Make']=data['Make'].fillna('Maruti Suzuki')"
   ]
  },
  {
   "cell_type": "code",
   "execution_count": 106,
   "id": "3035d865",
   "metadata": {},
   "outputs": [
    {
     "data": {
      "text/plain": [
       "0             Tata\n",
       "1             Tata\n",
       "2             Tata\n",
       "3             Tata\n",
       "4             Tata\n",
       "           ...    \n",
       "1271         Honda\n",
       "1272         Honda\n",
       "1273         Honda\n",
       "1274         Honda\n",
       "1275    Mitsubishi\n",
       "Name: Make, Length: 1276, dtype: object"
      ]
     },
     "execution_count": 106,
     "metadata": {},
     "output_type": "execute_result"
    }
   ],
   "source": [
    "data['Make']"
   ]
  },
  {
   "cell_type": "code",
   "execution_count": 107,
   "id": "af805ee7",
   "metadata": {},
   "outputs": [
    {
     "data": {
      "text/plain": [
       "0"
      ]
     },
     "execution_count": 107,
     "metadata": {},
     "output_type": "execute_result"
    }
   ],
   "source": [
    "data['Make'].isna().sum()"
   ]
  },
  {
   "cell_type": "code",
   "execution_count": 108,
   "id": "3ee8ca3b",
   "metadata": {},
   "outputs": [
    {
     "data": {
      "text/plain": [
       "0"
      ]
     },
     "execution_count": 108,
     "metadata": {},
     "output_type": "execute_result"
    }
   ],
   "source": [
    "data['Model'].isna().sum()"
   ]
  },
  {
   "cell_type": "code",
   "execution_count": 109,
   "id": "65258063",
   "metadata": {},
   "outputs": [
    {
     "data": {
      "text/plain": [
       "0"
      ]
     },
     "execution_count": 109,
     "metadata": {},
     "output_type": "execute_result"
    }
   ],
   "source": [
    "data['Variant'].isna().sum()"
   ]
  },
  {
   "cell_type": "code",
   "execution_count": 110,
   "id": "8d1df09b",
   "metadata": {},
   "outputs": [
    {
     "data": {
      "text/plain": [
       "0"
      ]
     },
     "execution_count": 110,
     "metadata": {},
     "output_type": "execute_result"
    }
   ],
   "source": [
    "data['Ex-Showroom_Price'].isna().sum()"
   ]
  },
  {
   "cell_type": "code",
   "execution_count": 111,
   "id": "696f7e48",
   "metadata": {},
   "outputs": [
    {
     "data": {
      "text/plain": [
       "dtype('O')"
      ]
     },
     "execution_count": 111,
     "metadata": {},
     "output_type": "execute_result"
    }
   ],
   "source": [
    "data['Ex-Showroom_Price'].dtype"
   ]
  },
  {
   "cell_type": "code",
   "execution_count": 112,
   "id": "d896e6f8",
   "metadata": {},
   "outputs": [
    {
     "name": "stderr",
     "output_type": "stream",
     "text": [
      "C:\\Users\\RAKSHITHA\\AppData\\Local\\Temp\\ipykernel_8800\\411166382.py:1: FutureWarning: The default value of regex will change from True to False in a future version.\n",
      "  data['Ex-Showroom_Price']=data['Ex-Showroom_Price'].str.replace('Rs.','')\n"
     ]
    }
   ],
   "source": [
    "data['Ex-Showroom_Price']=data['Ex-Showroom_Price'].str.replace('Rs.','')"
   ]
  },
  {
   "cell_type": "code",
   "execution_count": 113,
   "id": "ff12f261",
   "metadata": {},
   "outputs": [
    {
     "data": {
      "text/plain": [
       "0         2,92,667\n",
       "1         2,36,447\n",
       "2         2,96,661\n",
       "3         3,34,768\n",
       "4         2,72,223\n",
       "           ...    \n",
       "1271     13,02,000\n",
       "1272     14,21,000\n",
       "1273     14,31,000\n",
       "1274     12,01,000\n",
       "1275     68,62,560\n",
       "Name: Ex-Showroom_Price, Length: 1276, dtype: object"
      ]
     },
     "execution_count": 113,
     "metadata": {},
     "output_type": "execute_result"
    }
   ],
   "source": [
    "data['Ex-Showroom_Price']"
   ]
  },
  {
   "cell_type": "code",
   "execution_count": 114,
   "id": "04b3db43",
   "metadata": {},
   "outputs": [],
   "source": [
    "data['Ex-Showroom_Price'] = data['Ex-Showroom_Price'].replace(',','')"
   ]
  },
  {
   "cell_type": "code",
   "execution_count": 115,
   "id": "60447392",
   "metadata": {},
   "outputs": [
    {
     "data": {
      "text/plain": [
       "dtype('O')"
      ]
     },
     "execution_count": 115,
     "metadata": {},
     "output_type": "execute_result"
    }
   ],
   "source": [
    "data['Ex-Showroom_Price'].dtype"
   ]
  },
  {
   "cell_type": "code",
   "execution_count": 116,
   "id": "ea0ad845",
   "metadata": {},
   "outputs": [],
   "source": [
    "data['Ex-Showroom_Price'] = data['Ex-Showroom_Price'].str.replace(',', '').str.strip().astype(int)"
   ]
  },
  {
   "cell_type": "code",
   "execution_count": 117,
   "id": "04dc5ee3",
   "metadata": {},
   "outputs": [
    {
     "data": {
      "text/plain": [
       "dtype('int32')"
      ]
     },
     "execution_count": 117,
     "metadata": {},
     "output_type": "execute_result"
    }
   ],
   "source": [
    "data['Ex-Showroom_Price'].dtype"
   ]
  },
  {
   "cell_type": "code",
   "execution_count": 118,
   "id": "dbacdd1a",
   "metadata": {},
   "outputs": [
    {
     "data": {
      "text/plain": [
       "0    292667\n",
       "1    236447\n",
       "2    296661\n",
       "3    334768\n",
       "4    272223\n",
       "Name: Ex-Showroom_Price, dtype: int32"
      ]
     },
     "execution_count": 118,
     "metadata": {},
     "output_type": "execute_result"
    }
   ],
   "source": [
    "data['Ex-Showroom_Price'].head()"
   ]
  },
  {
   "cell_type": "code",
   "execution_count": 119,
   "id": "db13bc27",
   "metadata": {},
   "outputs": [
    {
     "data": {
      "text/plain": [
       "212155397"
      ]
     },
     "execution_count": 119,
     "metadata": {},
     "output_type": "execute_result"
    }
   ],
   "source": [
    "data['Ex-Showroom_Price'].max()"
   ]
  },
  {
   "cell_type": "code",
   "execution_count": 120,
   "id": "837320df",
   "metadata": {},
   "outputs": [
    {
     "data": {
      "text/plain": [
       "236447"
      ]
     },
     "execution_count": 120,
     "metadata": {},
     "output_type": "execute_result"
    }
   ],
   "source": [
    "data['Ex-Showroom_Price'].min()"
   ]
  },
  {
   "cell_type": "code",
   "execution_count": 121,
   "id": "525c8d6d",
   "metadata": {},
   "outputs": [],
   "source": [
    "df=data.describe()"
   ]
  },
  {
   "cell_type": "code",
   "execution_count": 122,
   "id": "56c3d38e",
   "metadata": {},
   "outputs": [
    {
     "data": {
      "text/html": [
       "<div>\n",
       "<style scoped>\n",
       "    .dataframe tbody tr th:only-of-type {\n",
       "        vertical-align: middle;\n",
       "    }\n",
       "\n",
       "    .dataframe tbody tr th {\n",
       "        vertical-align: top;\n",
       "    }\n",
       "\n",
       "    .dataframe thead th {\n",
       "        text-align: right;\n",
       "    }\n",
       "</style>\n",
       "<table border=\"1\" class=\"dataframe\">\n",
       "  <thead>\n",
       "    <tr style=\"text-align: right;\">\n",
       "      <th></th>\n",
       "      <th>Ex-Showroom_Price</th>\n",
       "      <th>Cylinders</th>\n",
       "      <th>Valves_Per_Cylinder</th>\n",
       "      <th>Doors</th>\n",
       "      <th>Seating_Capacity</th>\n",
       "      <th>Number_of_Airbags</th>\n",
       "      <th>USB_Ports</th>\n",
       "    </tr>\n",
       "  </thead>\n",
       "  <tbody>\n",
       "    <tr>\n",
       "      <th>count</th>\n",
       "      <td>1.276000e+03</td>\n",
       "      <td>1210.000000</td>\n",
       "      <td>1174.000000</td>\n",
       "      <td>1272.000000</td>\n",
       "      <td>1270.000000</td>\n",
       "      <td>1141.000000</td>\n",
       "      <td>29.000000</td>\n",
       "    </tr>\n",
       "    <tr>\n",
       "      <th>mean</th>\n",
       "      <td>4.596538e+06</td>\n",
       "      <td>4.380992</td>\n",
       "      <td>3.977853</td>\n",
       "      <td>4.550314</td>\n",
       "      <td>5.270079</td>\n",
       "      <td>3.787029</td>\n",
       "      <td>1.793103</td>\n",
       "    </tr>\n",
       "    <tr>\n",
       "      <th>std</th>\n",
       "      <td>1.214735e+07</td>\n",
       "      <td>1.660957</td>\n",
       "      <td>0.833763</td>\n",
       "      <td>0.747816</td>\n",
       "      <td>1.145231</td>\n",
       "      <td>2.522399</td>\n",
       "      <td>0.773642</td>\n",
       "    </tr>\n",
       "    <tr>\n",
       "      <th>min</th>\n",
       "      <td>2.364470e+05</td>\n",
       "      <td>2.000000</td>\n",
       "      <td>1.000000</td>\n",
       "      <td>2.000000</td>\n",
       "      <td>2.000000</td>\n",
       "      <td>1.000000</td>\n",
       "      <td>1.000000</td>\n",
       "    </tr>\n",
       "    <tr>\n",
       "      <th>25%</th>\n",
       "      <td>7.438760e+05</td>\n",
       "      <td>4.000000</td>\n",
       "      <td>4.000000</td>\n",
       "      <td>4.000000</td>\n",
       "      <td>5.000000</td>\n",
       "      <td>2.000000</td>\n",
       "      <td>1.000000</td>\n",
       "    </tr>\n",
       "    <tr>\n",
       "      <th>50%</th>\n",
       "      <td>1.060064e+06</td>\n",
       "      <td>4.000000</td>\n",
       "      <td>4.000000</td>\n",
       "      <td>5.000000</td>\n",
       "      <td>5.000000</td>\n",
       "      <td>2.000000</td>\n",
       "      <td>2.000000</td>\n",
       "    </tr>\n",
       "    <tr>\n",
       "      <th>75%</th>\n",
       "      <td>2.979828e+06</td>\n",
       "      <td>4.000000</td>\n",
       "      <td>4.000000</td>\n",
       "      <td>5.000000</td>\n",
       "      <td>5.000000</td>\n",
       "      <td>6.000000</td>\n",
       "      <td>2.000000</td>\n",
       "    </tr>\n",
       "    <tr>\n",
       "      <th>max</th>\n",
       "      <td>2.121554e+08</td>\n",
       "      <td>16.000000</td>\n",
       "      <td>16.000000</td>\n",
       "      <td>5.000000</td>\n",
       "      <td>16.000000</td>\n",
       "      <td>14.000000</td>\n",
       "      <td>3.000000</td>\n",
       "    </tr>\n",
       "  </tbody>\n",
       "</table>\n",
       "</div>"
      ],
      "text/plain": [
       "       Ex-Showroom_Price    Cylinders  Valves_Per_Cylinder        Doors  \\\n",
       "count       1.276000e+03  1210.000000          1174.000000  1272.000000   \n",
       "mean        4.596538e+06     4.380992             3.977853     4.550314   \n",
       "std         1.214735e+07     1.660957             0.833763     0.747816   \n",
       "min         2.364470e+05     2.000000             1.000000     2.000000   \n",
       "25%         7.438760e+05     4.000000             4.000000     4.000000   \n",
       "50%         1.060064e+06     4.000000             4.000000     5.000000   \n",
       "75%         2.979828e+06     4.000000             4.000000     5.000000   \n",
       "max         2.121554e+08    16.000000            16.000000     5.000000   \n",
       "\n",
       "       Seating_Capacity  Number_of_Airbags  USB_Ports  \n",
       "count       1270.000000        1141.000000  29.000000  \n",
       "mean           5.270079           3.787029   1.793103  \n",
       "std            1.145231           2.522399   0.773642  \n",
       "min            2.000000           1.000000   1.000000  \n",
       "25%            5.000000           2.000000   1.000000  \n",
       "50%            5.000000           2.000000   2.000000  \n",
       "75%            5.000000           6.000000   2.000000  \n",
       "max           16.000000          14.000000   3.000000  "
      ]
     },
     "execution_count": 122,
     "metadata": {},
     "output_type": "execute_result"
    }
   ],
   "source": [
    "df"
   ]
  },
  {
   "cell_type": "code",
   "execution_count": 123,
   "id": "c4a4c2dc",
   "metadata": {},
   "outputs": [
    {
     "data": {
      "text/plain": [
       "66"
      ]
     },
     "execution_count": 123,
     "metadata": {},
     "output_type": "execute_result"
    }
   ],
   "source": [
    "data['Cylinders'].isna().sum()"
   ]
  },
  {
   "cell_type": "code",
   "execution_count": 124,
   "id": "d2200d06",
   "metadata": {},
   "outputs": [
    {
     "data": {
      "text/plain": [
       "4.38099173553719"
      ]
     },
     "execution_count": 124,
     "metadata": {},
     "output_type": "execute_result"
    }
   ],
   "source": [
    "data['Cylinders'].mean()"
   ]
  },
  {
   "cell_type": "code",
   "execution_count": 125,
   "id": "b5e80db2",
   "metadata": {},
   "outputs": [],
   "source": [
    "data['Cylinders']=data['Cylinders'].fillna(4)"
   ]
  },
  {
   "cell_type": "code",
   "execution_count": 126,
   "id": "5f207081",
   "metadata": {},
   "outputs": [
    {
     "data": {
      "text/plain": [
       "0"
      ]
     },
     "execution_count": 126,
     "metadata": {},
     "output_type": "execute_result"
    }
   ],
   "source": [
    "data['Cylinders'].isna().sum()"
   ]
  },
  {
   "cell_type": "code",
   "execution_count": 127,
   "id": "4a3742ef",
   "metadata": {},
   "outputs": [
    {
     "data": {
      "text/plain": [
       "0       2.0\n",
       "1       2.0\n",
       "2       2.0\n",
       "3       2.0\n",
       "4       2.0\n",
       "       ... \n",
       "1271    4.0\n",
       "1272    4.0\n",
       "1273    4.0\n",
       "1274    4.0\n",
       "1275    4.0\n",
       "Name: Cylinders, Length: 1276, dtype: float64"
      ]
     },
     "execution_count": 127,
     "metadata": {},
     "output_type": "execute_result"
    }
   ],
   "source": [
    "data['Cylinders']=data['Cylinders'].apply(lambda x: round(x, 1))\n",
    "data['Cylinders']"
   ]
  },
  {
   "cell_type": "code",
   "execution_count": 128,
   "id": "e1184325",
   "metadata": {},
   "outputs": [
    {
     "data": {
      "text/plain": [
       "102"
      ]
     },
     "execution_count": 128,
     "metadata": {},
     "output_type": "execute_result"
    }
   ],
   "source": [
    "data['Valves_Per_Cylinder'].isna().sum()"
   ]
  },
  {
   "cell_type": "code",
   "execution_count": 129,
   "id": "77286145",
   "metadata": {},
   "outputs": [
    {
     "data": {
      "text/plain": [
       "4.0"
      ]
     },
     "execution_count": 129,
     "metadata": {},
     "output_type": "execute_result"
    }
   ],
   "source": [
    "data['Valves_Per_Cylinder'].median()"
   ]
  },
  {
   "cell_type": "code",
   "execution_count": 130,
   "id": "e1c1767c",
   "metadata": {},
   "outputs": [],
   "source": [
    "data['Valves_Per_Cylinder']=data['Valves_Per_Cylinder'].fillna(4.0)"
   ]
  },
  {
   "cell_type": "code",
   "execution_count": 131,
   "id": "a4c9a440",
   "metadata": {},
   "outputs": [
    {
     "data": {
      "text/plain": [
       "0"
      ]
     },
     "execution_count": 131,
     "metadata": {},
     "output_type": "execute_result"
    }
   ],
   "source": [
    "data['Valves_Per_Cylinder'].isna().sum()"
   ]
  },
  {
   "cell_type": "code",
   "execution_count": 132,
   "id": "c42d30b7",
   "metadata": {},
   "outputs": [],
   "source": [
    "data['Valves_Per_Cylinder']=data['Doors']"
   ]
  },
  {
   "cell_type": "code",
   "execution_count": 133,
   "id": "ea003dee",
   "metadata": {},
   "outputs": [
    {
     "data": {
      "text/plain": [
       "4"
      ]
     },
     "execution_count": 133,
     "metadata": {},
     "output_type": "execute_result"
    }
   ],
   "source": [
    "data['Doors'].isna().sum()"
   ]
  },
  {
   "cell_type": "code",
   "execution_count": 134,
   "id": "d04bc7f7",
   "metadata": {},
   "outputs": [
    {
     "data": {
      "text/plain": [
       "1271    4.0\n",
       "1272    4.0\n",
       "1273    4.0\n",
       "1274    4.0\n",
       "1275    5.0\n",
       "Name: Doors, dtype: float64"
      ]
     },
     "execution_count": 134,
     "metadata": {},
     "output_type": "execute_result"
    }
   ],
   "source": [
    "data['Doors']=data['Doors'].apply(lambda x: round(x, 1))\n",
    "data['Doors'].tail()"
   ]
  },
  {
   "cell_type": "code",
   "execution_count": 135,
   "id": "4389a134",
   "metadata": {},
   "outputs": [
    {
     "data": {
      "text/plain": [
       "6"
      ]
     },
     "execution_count": 135,
     "metadata": {},
     "output_type": "execute_result"
    }
   ],
   "source": [
    "data['Seating_Capacity'].isna().sum()"
   ]
  },
  {
   "cell_type": "code",
   "execution_count": 136,
   "id": "3e2f8c4b",
   "metadata": {},
   "outputs": [
    {
     "data": {
      "text/plain": [
       "5.27007874015748"
      ]
     },
     "execution_count": 136,
     "metadata": {},
     "output_type": "execute_result"
    }
   ],
   "source": [
    "data['Seating_Capacity'].mean()"
   ]
  },
  {
   "cell_type": "code",
   "execution_count": 137,
   "id": "76dd046e",
   "metadata": {},
   "outputs": [],
   "source": [
    "data['Seating_Capacity']=data['Seating_Capacity'].fillna(5.2)"
   ]
  },
  {
   "cell_type": "code",
   "execution_count": 138,
   "id": "3473259a",
   "metadata": {},
   "outputs": [],
   "source": [
    "data['Seating_Capacity']=data['Seating_Capacity'].apply(lambda x: round(x, 1))"
   ]
  },
  {
   "cell_type": "code",
   "execution_count": 139,
   "id": "d581d00a",
   "metadata": {},
   "outputs": [
    {
     "data": {
      "text/plain": [
       "0     4.0\n",
       "1     4.0\n",
       "2     4.0\n",
       "3     4.0\n",
       "4     4.0\n",
       "5     4.0\n",
       "6     5.0\n",
       "7     5.0\n",
       "8     5.0\n",
       "9     5.0\n",
       "10    5.0\n",
       "11    5.0\n",
       "12    5.0\n",
       "13    5.0\n",
       "14    5.0\n",
       "15    5.0\n",
       "16    5.0\n",
       "17    5.0\n",
       "18    5.0\n",
       "19    5.0\n",
       "20    5.0\n",
       "21    5.0\n",
       "22    5.0\n",
       "23    5.0\n",
       "24    5.0\n",
       "Name: Seating_Capacity, dtype: float64"
      ]
     },
     "execution_count": 139,
     "metadata": {},
     "output_type": "execute_result"
    }
   ],
   "source": [
    "data['Seating_Capacity'].head(25)"
   ]
  },
  {
   "cell_type": "code",
   "execution_count": 140,
   "id": "97e90585",
   "metadata": {},
   "outputs": [
    {
     "data": {
      "text/plain": [
       "135"
      ]
     },
     "execution_count": 140,
     "metadata": {},
     "output_type": "execute_result"
    }
   ],
   "source": [
    "data['Number_of_Airbags'].isna().sum()"
   ]
  },
  {
   "cell_type": "code",
   "execution_count": 141,
   "id": "0e86fefc",
   "metadata": {},
   "outputs": [],
   "source": [
    "data['Number_of_Airbags']=data['Number_of_Airbags'].apply(lambda x: round(x, 1))"
   ]
  },
  {
   "cell_type": "code",
   "execution_count": 142,
   "id": "41e5ee45",
   "metadata": {},
   "outputs": [
    {
     "data": {
      "text/plain": [
       "1247"
      ]
     },
     "execution_count": 142,
     "metadata": {},
     "output_type": "execute_result"
    }
   ],
   "source": [
    "data['USB_Ports'].isna().sum()"
   ]
  },
  {
   "cell_type": "code",
   "execution_count": 143,
   "id": "5cb34117",
   "metadata": {},
   "outputs": [
    {
     "data": {
      "text/plain": [
       "1.793103448275862"
      ]
     },
     "execution_count": 143,
     "metadata": {},
     "output_type": "execute_result"
    }
   ],
   "source": [
    "data['USB_Ports'].mean()"
   ]
  },
  {
   "cell_type": "code",
   "execution_count": 144,
   "id": "147588ed",
   "metadata": {},
   "outputs": [
    {
     "data": {
      "text/plain": [
       "0       1.79\n",
       "1       1.79\n",
       "2       1.79\n",
       "3       1.79\n",
       "4       1.79\n",
       "        ... \n",
       "1271    1.79\n",
       "1272    1.79\n",
       "1273    1.79\n",
       "1274    1.79\n",
       "1275    1.79\n",
       "Name: USB_Ports, Length: 1276, dtype: float64"
      ]
     },
     "execution_count": 144,
     "metadata": {},
     "output_type": "execute_result"
    }
   ],
   "source": [
    "data['USB_Ports']=data['USB_Ports'].fillna(1.79)\n",
    "data['USB_Ports']"
   ]
  },
  {
   "cell_type": "code",
   "execution_count": 145,
   "id": "d19c3844",
   "metadata": {},
   "outputs": [
    {
     "data": {
      "text/plain": [
       "0       2\n",
       "1       2\n",
       "2       2\n",
       "3       2\n",
       "4       2\n",
       "       ..\n",
       "1271    2\n",
       "1272    2\n",
       "1273    2\n",
       "1274    2\n",
       "1275    2\n",
       "Name: USB_Ports, Length: 1276, dtype: int64"
      ]
     },
     "execution_count": 145,
     "metadata": {},
     "output_type": "execute_result"
    }
   ],
   "source": [
    "data['USB_Ports']=data['USB_Ports'].apply(lambda x: int(round(x)))\n",
    "data['USB_Ports']"
   ]
  },
  {
   "cell_type": "code",
   "execution_count": 146,
   "id": "516eca9d",
   "metadata": {},
   "outputs": [
    {
     "data": {
      "text/plain": [
       "1263"
      ]
     },
     "execution_count": 146,
     "metadata": {},
     "output_type": "execute_result"
    }
   ],
   "source": [
    "data['Battery'].isna().sum()"
   ]
  },
  {
   "cell_type": "code",
   "execution_count": 147,
   "id": "0183b276",
   "metadata": {},
   "outputs": [
    {
     "data": {
      "text/plain": [
       "21.5 kWh,Battery Placed Under Rear Seats                                                 3\n",
       "200 ampere-hour                                                                          3\n",
       "30.2 kWh* Advanced Li-ion polymer, liquid cooled battery pack with IP67 certification    3\n",
       "210 ampere-hour                                                                          2\n",
       "44.5 (kWh), Lithium Ion                                                                  2\n",
       "Name: Battery, dtype: int64"
      ]
     },
     "execution_count": 147,
     "metadata": {},
     "output_type": "execute_result"
    }
   ],
   "source": [
    "data['Battery'].value_counts()"
   ]
  },
  {
   "cell_type": "code",
   "execution_count": 148,
   "id": "9c348b3e",
   "metadata": {},
   "outputs": [
    {
     "data": {
      "text/html": [
       "<div>\n",
       "<style scoped>\n",
       "    .dataframe tbody tr th:only-of-type {\n",
       "        vertical-align: middle;\n",
       "    }\n",
       "\n",
       "    .dataframe tbody tr th {\n",
       "        vertical-align: top;\n",
       "    }\n",
       "\n",
       "    .dataframe thead th {\n",
       "        text-align: right;\n",
       "    }\n",
       "</style>\n",
       "<table border=\"1\" class=\"dataframe\">\n",
       "  <thead>\n",
       "    <tr style=\"text-align: right;\">\n",
       "      <th></th>\n",
       "      <th>Make</th>\n",
       "      <th>Model</th>\n",
       "      <th>Variant</th>\n",
       "      <th>Ex-Showroom_Price</th>\n",
       "      <th>Displacement</th>\n",
       "      <th>Cylinders</th>\n",
       "      <th>Valves_Per_Cylinder</th>\n",
       "      <th>Drivetrain</th>\n",
       "      <th>Cylinder_Configuration</th>\n",
       "      <th>Emission_Norm</th>\n",
       "      <th>...</th>\n",
       "      <th>Leather_Wrapped_Steering</th>\n",
       "      <th>Automatic_Headlamps</th>\n",
       "      <th>Engine_Type</th>\n",
       "      <th>ASR_/_Traction_Control</th>\n",
       "      <th>Cruise_Control</th>\n",
       "      <th>USB_Ports</th>\n",
       "      <th>Heads-Up_Display</th>\n",
       "      <th>Welcome_Lights</th>\n",
       "      <th>Battery</th>\n",
       "      <th>Electric_Range</th>\n",
       "    </tr>\n",
       "  </thead>\n",
       "  <tbody>\n",
       "    <tr>\n",
       "      <th>615</th>\n",
       "      <td>Mahindra</td>\n",
       "      <td>E2O Plus</td>\n",
       "      <td>P4</td>\n",
       "      <td>881425</td>\n",
       "      <td>NaN</td>\n",
       "      <td>4.0</td>\n",
       "      <td>4.0</td>\n",
       "      <td>RWD (Rear Wheel Drive)</td>\n",
       "      <td>In-line</td>\n",
       "      <td>BS IV</td>\n",
       "      <td>...</td>\n",
       "      <td>NaN</td>\n",
       "      <td>NaN</td>\n",
       "      <td>NaN</td>\n",
       "      <td>NaN</td>\n",
       "      <td>NaN</td>\n",
       "      <td>2</td>\n",
       "      <td>NaN</td>\n",
       "      <td>NaN</td>\n",
       "      <td>210 ampere-hour</td>\n",
       "      <td>110 km/full charge</td>\n",
       "    </tr>\n",
       "    <tr>\n",
       "      <th>616</th>\n",
       "      <td>Mahindra</td>\n",
       "      <td>E2O Plus</td>\n",
       "      <td>P6</td>\n",
       "      <td>957177</td>\n",
       "      <td>NaN</td>\n",
       "      <td>4.0</td>\n",
       "      <td>4.0</td>\n",
       "      <td>RWD (Rear Wheel Drive)</td>\n",
       "      <td>In-line</td>\n",
       "      <td>BS IV</td>\n",
       "      <td>...</td>\n",
       "      <td>NaN</td>\n",
       "      <td>NaN</td>\n",
       "      <td>NaN</td>\n",
       "      <td>NaN</td>\n",
       "      <td>NaN</td>\n",
       "      <td>2</td>\n",
       "      <td>NaN</td>\n",
       "      <td>NaN</td>\n",
       "      <td>210 ampere-hour</td>\n",
       "      <td>110 km/full charge</td>\n",
       "    </tr>\n",
       "    <tr>\n",
       "      <th>617</th>\n",
       "      <td>Tata</td>\n",
       "      <td>Tigor Ev</td>\n",
       "      <td>Xm+</td>\n",
       "      <td>960868</td>\n",
       "      <td>NaN</td>\n",
       "      <td>4.0</td>\n",
       "      <td>5.0</td>\n",
       "      <td>FWD (Front Wheel Drive)</td>\n",
       "      <td>NaN</td>\n",
       "      <td>BS VI</td>\n",
       "      <td>...</td>\n",
       "      <td>NaN</td>\n",
       "      <td>NaN</td>\n",
       "      <td>M1 Category</td>\n",
       "      <td>NaN</td>\n",
       "      <td>NaN</td>\n",
       "      <td>2</td>\n",
       "      <td>NaN</td>\n",
       "      <td>NaN</td>\n",
       "      <td>21.5 kWh,Battery Placed Under Rear Seats</td>\n",
       "      <td>213 km/full charge</td>\n",
       "    </tr>\n",
       "    <tr>\n",
       "      <th>618</th>\n",
       "      <td>Tata</td>\n",
       "      <td>Tigor Ev</td>\n",
       "      <td>Xt+</td>\n",
       "      <td>975868</td>\n",
       "      <td>NaN</td>\n",
       "      <td>4.0</td>\n",
       "      <td>5.0</td>\n",
       "      <td>FWD (Front Wheel Drive)</td>\n",
       "      <td>NaN</td>\n",
       "      <td>BS VI</td>\n",
       "      <td>...</td>\n",
       "      <td>NaN</td>\n",
       "      <td>NaN</td>\n",
       "      <td>M1 Category</td>\n",
       "      <td>NaN</td>\n",
       "      <td>NaN</td>\n",
       "      <td>2</td>\n",
       "      <td>NaN</td>\n",
       "      <td>NaN</td>\n",
       "      <td>21.5 kWh,Battery Placed Under Rear Seats</td>\n",
       "      <td>213 km/full charge</td>\n",
       "    </tr>\n",
       "    <tr>\n",
       "      <th>619</th>\n",
       "      <td>Tata</td>\n",
       "      <td>Tigor Ev</td>\n",
       "      <td>Xe+</td>\n",
       "      <td>944175</td>\n",
       "      <td>NaN</td>\n",
       "      <td>4.0</td>\n",
       "      <td>5.0</td>\n",
       "      <td>FWD (Front Wheel Drive)</td>\n",
       "      <td>NaN</td>\n",
       "      <td>BS VI</td>\n",
       "      <td>...</td>\n",
       "      <td>NaN</td>\n",
       "      <td>NaN</td>\n",
       "      <td>M1 Category</td>\n",
       "      <td>NaN</td>\n",
       "      <td>NaN</td>\n",
       "      <td>2</td>\n",
       "      <td>NaN</td>\n",
       "      <td>NaN</td>\n",
       "      <td>21.5 kWh,Battery Placed Under Rear Seats</td>\n",
       "      <td>213 km/full charge</td>\n",
       "    </tr>\n",
       "    <tr>\n",
       "      <th>687</th>\n",
       "      <td>Mahindra</td>\n",
       "      <td>E Verito</td>\n",
       "      <td>D4</td>\n",
       "      <td>1293214</td>\n",
       "      <td>72 cc</td>\n",
       "      <td>4.0</td>\n",
       "      <td>4.0</td>\n",
       "      <td>FWD (Front Wheel Drive)</td>\n",
       "      <td>NaN</td>\n",
       "      <td>NaN</td>\n",
       "      <td>...</td>\n",
       "      <td>NaN</td>\n",
       "      <td>NaN</td>\n",
       "      <td>NaN</td>\n",
       "      <td>NaN</td>\n",
       "      <td>NaN</td>\n",
       "      <td>2</td>\n",
       "      <td>NaN</td>\n",
       "      <td>NaN</td>\n",
       "      <td>200 ampere-hour</td>\n",
       "      <td>110 km/full charge</td>\n",
       "    </tr>\n",
       "    <tr>\n",
       "      <th>688</th>\n",
       "      <td>Mahindra</td>\n",
       "      <td>E Verito</td>\n",
       "      <td>D2</td>\n",
       "      <td>1267208</td>\n",
       "      <td>72 cc</td>\n",
       "      <td>4.0</td>\n",
       "      <td>4.0</td>\n",
       "      <td>FWD (Front Wheel Drive)</td>\n",
       "      <td>NaN</td>\n",
       "      <td>NaN</td>\n",
       "      <td>...</td>\n",
       "      <td>NaN</td>\n",
       "      <td>NaN</td>\n",
       "      <td>NaN</td>\n",
       "      <td>NaN</td>\n",
       "      <td>NaN</td>\n",
       "      <td>2</td>\n",
       "      <td>NaN</td>\n",
       "      <td>NaN</td>\n",
       "      <td>200 ampere-hour</td>\n",
       "      <td>110 km/full charge</td>\n",
       "    </tr>\n",
       "    <tr>\n",
       "      <th>689</th>\n",
       "      <td>Mahindra</td>\n",
       "      <td>E Verito</td>\n",
       "      <td>D6</td>\n",
       "      <td>1303241</td>\n",
       "      <td>72 cc</td>\n",
       "      <td>4.0</td>\n",
       "      <td>4.0</td>\n",
       "      <td>FWD (Front Wheel Drive)</td>\n",
       "      <td>NaN</td>\n",
       "      <td>NaN</td>\n",
       "      <td>...</td>\n",
       "      <td>NaN</td>\n",
       "      <td>NaN</td>\n",
       "      <td>NaN</td>\n",
       "      <td>NaN</td>\n",
       "      <td>NaN</td>\n",
       "      <td>2</td>\n",
       "      <td>NaN</td>\n",
       "      <td>NaN</td>\n",
       "      <td>200 ampere-hour</td>\n",
       "      <td>110 km/full charge</td>\n",
       "    </tr>\n",
       "    <tr>\n",
       "      <th>745</th>\n",
       "      <td>Mg</td>\n",
       "      <td>Zs Ev</td>\n",
       "      <td>Excite</td>\n",
       "      <td>2088000</td>\n",
       "      <td>NaN</td>\n",
       "      <td>4.0</td>\n",
       "      <td>5.0</td>\n",
       "      <td>RWD (Rear Wheel Drive)</td>\n",
       "      <td>In-line</td>\n",
       "      <td>BS 6</td>\n",
       "      <td>...</td>\n",
       "      <td>Yes</td>\n",
       "      <td>Yes</td>\n",
       "      <td>NaN</td>\n",
       "      <td>Yes</td>\n",
       "      <td>Yes</td>\n",
       "      <td>2</td>\n",
       "      <td>Yes</td>\n",
       "      <td>NaN</td>\n",
       "      <td>44.5 (kWh), Lithium Ion</td>\n",
       "      <td>340 km/full charge</td>\n",
       "    </tr>\n",
       "    <tr>\n",
       "      <th>746</th>\n",
       "      <td>Mg</td>\n",
       "      <td>Zs Ev</td>\n",
       "      <td>Exclusive</td>\n",
       "      <td>2358000</td>\n",
       "      <td>NaN</td>\n",
       "      <td>4.0</td>\n",
       "      <td>5.0</td>\n",
       "      <td>RWD (Rear Wheel Drive)</td>\n",
       "      <td>In-line</td>\n",
       "      <td>BS 6</td>\n",
       "      <td>...</td>\n",
       "      <td>Yes</td>\n",
       "      <td>Yes</td>\n",
       "      <td>NaN</td>\n",
       "      <td>Yes</td>\n",
       "      <td>Yes</td>\n",
       "      <td>2</td>\n",
       "      <td>Yes</td>\n",
       "      <td>NaN</td>\n",
       "      <td>44.5 (kWh), Lithium Ion</td>\n",
       "      <td>340 km/full charge</td>\n",
       "    </tr>\n",
       "    <tr>\n",
       "      <th>1006</th>\n",
       "      <td>Tata</td>\n",
       "      <td>Nexon Ev</td>\n",
       "      <td>Xm</td>\n",
       "      <td>1399000</td>\n",
       "      <td>NaN</td>\n",
       "      <td>4.0</td>\n",
       "      <td>5.0</td>\n",
       "      <td>FWD (Front Wheel Drive)</td>\n",
       "      <td>In-line</td>\n",
       "      <td>BS VI</td>\n",
       "      <td>...</td>\n",
       "      <td>NaN</td>\n",
       "      <td>NaN</td>\n",
       "      <td>NaN</td>\n",
       "      <td>Yes</td>\n",
       "      <td>NaN</td>\n",
       "      <td>2</td>\n",
       "      <td>Yes</td>\n",
       "      <td>NaN</td>\n",
       "      <td>30.2 kWh* Advanced Li-ion polymer, liquid cool...</td>\n",
       "      <td>312 km/full charge</td>\n",
       "    </tr>\n",
       "    <tr>\n",
       "      <th>1007</th>\n",
       "      <td>Tata</td>\n",
       "      <td>Nexon Ev</td>\n",
       "      <td>Xz Plus</td>\n",
       "      <td>1499000</td>\n",
       "      <td>NaN</td>\n",
       "      <td>4.0</td>\n",
       "      <td>5.0</td>\n",
       "      <td>FWD (Front Wheel Drive)</td>\n",
       "      <td>In-line</td>\n",
       "      <td>BS VI</td>\n",
       "      <td>...</td>\n",
       "      <td>NaN</td>\n",
       "      <td>NaN</td>\n",
       "      <td>NaN</td>\n",
       "      <td>Yes</td>\n",
       "      <td>NaN</td>\n",
       "      <td>2</td>\n",
       "      <td>Yes</td>\n",
       "      <td>NaN</td>\n",
       "      <td>30.2 kWh* Advanced Li-ion polymer, liquid cool...</td>\n",
       "      <td>312 km/full charge</td>\n",
       "    </tr>\n",
       "    <tr>\n",
       "      <th>1008</th>\n",
       "      <td>Tata</td>\n",
       "      <td>Nexon Ev</td>\n",
       "      <td>Xz Plus Lux</td>\n",
       "      <td>1599000</td>\n",
       "      <td>NaN</td>\n",
       "      <td>4.0</td>\n",
       "      <td>5.0</td>\n",
       "      <td>FWD (Front Wheel Drive)</td>\n",
       "      <td>In-line</td>\n",
       "      <td>BS VI</td>\n",
       "      <td>...</td>\n",
       "      <td>NaN</td>\n",
       "      <td>Yes</td>\n",
       "      <td>NaN</td>\n",
       "      <td>Yes</td>\n",
       "      <td>NaN</td>\n",
       "      <td>2</td>\n",
       "      <td>Yes</td>\n",
       "      <td>NaN</td>\n",
       "      <td>30.2 kWh* Advanced Li-ion polymer, liquid cool...</td>\n",
       "      <td>300 km/full charge</td>\n",
       "    </tr>\n",
       "  </tbody>\n",
       "</table>\n",
       "<p>13 rows × 140 columns</p>\n",
       "</div>"
      ],
      "text/plain": [
       "          Make     Model      Variant  Ex-Showroom_Price Displacement  \\\n",
       "615   Mahindra  E2O Plus           P4             881425          NaN   \n",
       "616   Mahindra  E2O Plus           P6             957177          NaN   \n",
       "617       Tata  Tigor Ev          Xm+             960868          NaN   \n",
       "618       Tata  Tigor Ev          Xt+             975868          NaN   \n",
       "619       Tata  Tigor Ev          Xe+             944175          NaN   \n",
       "687   Mahindra  E Verito           D4            1293214        72 cc   \n",
       "688   Mahindra  E Verito           D2            1267208        72 cc   \n",
       "689   Mahindra  E Verito           D6            1303241        72 cc   \n",
       "745         Mg     Zs Ev       Excite            2088000          NaN   \n",
       "746         Mg     Zs Ev    Exclusive            2358000          NaN   \n",
       "1006      Tata  Nexon Ev           Xm            1399000          NaN   \n",
       "1007      Tata  Nexon Ev      Xz Plus            1499000          NaN   \n",
       "1008      Tata  Nexon Ev  Xz Plus Lux            1599000          NaN   \n",
       "\n",
       "      Cylinders  Valves_Per_Cylinder               Drivetrain  \\\n",
       "615         4.0                  4.0   RWD (Rear Wheel Drive)   \n",
       "616         4.0                  4.0   RWD (Rear Wheel Drive)   \n",
       "617         4.0                  5.0  FWD (Front Wheel Drive)   \n",
       "618         4.0                  5.0  FWD (Front Wheel Drive)   \n",
       "619         4.0                  5.0  FWD (Front Wheel Drive)   \n",
       "687         4.0                  4.0  FWD (Front Wheel Drive)   \n",
       "688         4.0                  4.0  FWD (Front Wheel Drive)   \n",
       "689         4.0                  4.0  FWD (Front Wheel Drive)   \n",
       "745         4.0                  5.0   RWD (Rear Wheel Drive)   \n",
       "746         4.0                  5.0   RWD (Rear Wheel Drive)   \n",
       "1006        4.0                  5.0  FWD (Front Wheel Drive)   \n",
       "1007        4.0                  5.0  FWD (Front Wheel Drive)   \n",
       "1008        4.0                  5.0  FWD (Front Wheel Drive)   \n",
       "\n",
       "     Cylinder_Configuration Emission_Norm  ... Leather_Wrapped_Steering  \\\n",
       "615                 In-line         BS IV  ...                      NaN   \n",
       "616                 In-line         BS IV  ...                      NaN   \n",
       "617                     NaN         BS VI  ...                      NaN   \n",
       "618                     NaN         BS VI  ...                      NaN   \n",
       "619                     NaN         BS VI  ...                      NaN   \n",
       "687                     NaN           NaN  ...                      NaN   \n",
       "688                     NaN           NaN  ...                      NaN   \n",
       "689                     NaN           NaN  ...                      NaN   \n",
       "745                 In-line          BS 6  ...                      Yes   \n",
       "746                 In-line          BS 6  ...                      Yes   \n",
       "1006                In-line         BS VI  ...                      NaN   \n",
       "1007                In-line         BS VI  ...                      NaN   \n",
       "1008                In-line         BS VI  ...                      NaN   \n",
       "\n",
       "     Automatic_Headlamps  Engine_Type ASR_/_Traction_Control Cruise_Control  \\\n",
       "615                  NaN          NaN                    NaN            NaN   \n",
       "616                  NaN          NaN                    NaN            NaN   \n",
       "617                  NaN  M1 Category                    NaN            NaN   \n",
       "618                  NaN  M1 Category                    NaN            NaN   \n",
       "619                  NaN  M1 Category                    NaN            NaN   \n",
       "687                  NaN          NaN                    NaN            NaN   \n",
       "688                  NaN          NaN                    NaN            NaN   \n",
       "689                  NaN          NaN                    NaN            NaN   \n",
       "745                  Yes          NaN                    Yes            Yes   \n",
       "746                  Yes          NaN                    Yes            Yes   \n",
       "1006                 NaN          NaN                    Yes            NaN   \n",
       "1007                 NaN          NaN                    Yes            NaN   \n",
       "1008                 Yes          NaN                    Yes            NaN   \n",
       "\n",
       "     USB_Ports Heads-Up_Display Welcome_Lights  \\\n",
       "615          2              NaN            NaN   \n",
       "616          2              NaN            NaN   \n",
       "617          2              NaN            NaN   \n",
       "618          2              NaN            NaN   \n",
       "619          2              NaN            NaN   \n",
       "687          2              NaN            NaN   \n",
       "688          2              NaN            NaN   \n",
       "689          2              NaN            NaN   \n",
       "745          2              Yes            NaN   \n",
       "746          2              Yes            NaN   \n",
       "1006         2              Yes            NaN   \n",
       "1007         2              Yes            NaN   \n",
       "1008         2              Yes            NaN   \n",
       "\n",
       "                                                Battery      Electric_Range  \n",
       "615                                     210 ampere-hour  110 km/full charge  \n",
       "616                                     210 ampere-hour  110 km/full charge  \n",
       "617            21.5 kWh,Battery Placed Under Rear Seats  213 km/full charge  \n",
       "618            21.5 kWh,Battery Placed Under Rear Seats  213 km/full charge  \n",
       "619            21.5 kWh,Battery Placed Under Rear Seats  213 km/full charge  \n",
       "687                                     200 ampere-hour  110 km/full charge  \n",
       "688                                     200 ampere-hour  110 km/full charge  \n",
       "689                                     200 ampere-hour  110 km/full charge  \n",
       "745                             44.5 (kWh), Lithium Ion  340 km/full charge  \n",
       "746                             44.5 (kWh), Lithium Ion  340 km/full charge  \n",
       "1006  30.2 kWh* Advanced Li-ion polymer, liquid cool...  312 km/full charge  \n",
       "1007  30.2 kWh* Advanced Li-ion polymer, liquid cool...  312 km/full charge  \n",
       "1008  30.2 kWh* Advanced Li-ion polymer, liquid cool...  300 km/full charge  \n",
       "\n",
       "[13 rows x 140 columns]"
      ]
     },
     "execution_count": 148,
     "metadata": {},
     "output_type": "execute_result"
    }
   ],
   "source": [
    "data[~data['Battery'].isna()]"
   ]
  },
  {
   "cell_type": "code",
   "execution_count": 149,
   "id": "c77706f1",
   "metadata": {},
   "outputs": [
    {
     "data": {
      "text/plain": [
       "12"
      ]
     },
     "execution_count": 149,
     "metadata": {},
     "output_type": "execute_result"
    }
   ],
   "source": [
    "data['Displacement'].isna().sum()"
   ]
  },
  {
   "cell_type": "code",
   "execution_count": 150,
   "id": "2d47d955",
   "metadata": {},
   "outputs": [
    {
     "data": {
      "text/plain": [
       "0        624 cc\n",
       "1        624 cc\n",
       "2        624 cc\n",
       "3        624 cc\n",
       "4        624 cc\n",
       "         ...   \n",
       "1271    1498 cc\n",
       "1272    1498 cc\n",
       "1273    1497 cc\n",
       "1274    1497 cc\n",
       "1275    3200 cc\n",
       "Name: Displacement, Length: 1276, dtype: object"
      ]
     },
     "execution_count": 150,
     "metadata": {},
     "output_type": "execute_result"
    }
   ],
   "source": [
    "data['Displacement']=data['Displacement'].replace('NaN','NULL')\n",
    "data['Displacement']"
   ]
  },
  {
   "cell_type": "code",
   "execution_count": 151,
   "id": "d9660544",
   "metadata": {},
   "outputs": [
    {
     "data": {
      "text/plain": [
       "0    TataModel\n",
       "1    TataModel\n",
       "2    TataModel\n",
       "3    TataModel\n",
       "4    TataModel\n",
       "Name: car_type, dtype: object"
      ]
     },
     "execution_count": 151,
     "metadata": {},
     "output_type": "execute_result"
    }
   ],
   "source": [
    "data['car_type']=data['Make']+['Model']\n",
    "data['car_type'].head(5)"
   ]
  },
  {
   "cell_type": "code",
   "execution_count": 152,
   "id": "cae4620e",
   "metadata": {},
   "outputs": [
    {
     "data": {
      "text/html": [
       "<div>\n",
       "<style scoped>\n",
       "    .dataframe tbody tr th:only-of-type {\n",
       "        vertical-align: middle;\n",
       "    }\n",
       "\n",
       "    .dataframe tbody tr th {\n",
       "        vertical-align: top;\n",
       "    }\n",
       "\n",
       "    .dataframe thead th {\n",
       "        text-align: right;\n",
       "    }\n",
       "</style>\n",
       "<table border=\"1\" class=\"dataframe\">\n",
       "  <thead>\n",
       "    <tr style=\"text-align: right;\">\n",
       "      <th></th>\n",
       "      <th>Make</th>\n",
       "      <th>Model</th>\n",
       "      <th>Variant</th>\n",
       "      <th>Ex-Showroom_Price</th>\n",
       "      <th>Displacement</th>\n",
       "      <th>Cylinders</th>\n",
       "      <th>Valves_Per_Cylinder</th>\n",
       "      <th>Drivetrain</th>\n",
       "      <th>Cylinder_Configuration</th>\n",
       "      <th>Emission_Norm</th>\n",
       "      <th>...</th>\n",
       "      <th>Automatic_Headlamps</th>\n",
       "      <th>Engine_Type</th>\n",
       "      <th>ASR_/_Traction_Control</th>\n",
       "      <th>Cruise_Control</th>\n",
       "      <th>USB_Ports</th>\n",
       "      <th>Heads-Up_Display</th>\n",
       "      <th>Welcome_Lights</th>\n",
       "      <th>Battery</th>\n",
       "      <th>Electric_Range</th>\n",
       "      <th>car_type</th>\n",
       "    </tr>\n",
       "  </thead>\n",
       "  <tbody>\n",
       "    <tr>\n",
       "      <th>0</th>\n",
       "      <td>Tata</td>\n",
       "      <td>Nano Genx</td>\n",
       "      <td>Xt</td>\n",
       "      <td>292667</td>\n",
       "      <td>624 cc</td>\n",
       "      <td>2.0</td>\n",
       "      <td>5.0</td>\n",
       "      <td>RWD (Rear Wheel Drive)</td>\n",
       "      <td>In-line</td>\n",
       "      <td>BS IV</td>\n",
       "      <td>...</td>\n",
       "      <td>NaN</td>\n",
       "      <td>NaN</td>\n",
       "      <td>NaN</td>\n",
       "      <td>NaN</td>\n",
       "      <td>2</td>\n",
       "      <td>NaN</td>\n",
       "      <td>NaN</td>\n",
       "      <td>NaN</td>\n",
       "      <td>NaN</td>\n",
       "      <td>TataModel</td>\n",
       "    </tr>\n",
       "    <tr>\n",
       "      <th>1</th>\n",
       "      <td>Tata</td>\n",
       "      <td>Nano Genx</td>\n",
       "      <td>Xe</td>\n",
       "      <td>236447</td>\n",
       "      <td>624 cc</td>\n",
       "      <td>2.0</td>\n",
       "      <td>5.0</td>\n",
       "      <td>RWD (Rear Wheel Drive)</td>\n",
       "      <td>In-line</td>\n",
       "      <td>BS IV</td>\n",
       "      <td>...</td>\n",
       "      <td>NaN</td>\n",
       "      <td>NaN</td>\n",
       "      <td>NaN</td>\n",
       "      <td>NaN</td>\n",
       "      <td>2</td>\n",
       "      <td>NaN</td>\n",
       "      <td>NaN</td>\n",
       "      <td>NaN</td>\n",
       "      <td>NaN</td>\n",
       "      <td>TataModel</td>\n",
       "    </tr>\n",
       "    <tr>\n",
       "      <th>2</th>\n",
       "      <td>Tata</td>\n",
       "      <td>Nano Genx</td>\n",
       "      <td>Emax Xm</td>\n",
       "      <td>296661</td>\n",
       "      <td>624 cc</td>\n",
       "      <td>2.0</td>\n",
       "      <td>4.0</td>\n",
       "      <td>RWD (Rear Wheel Drive)</td>\n",
       "      <td>In-line</td>\n",
       "      <td>BS IV</td>\n",
       "      <td>...</td>\n",
       "      <td>NaN</td>\n",
       "      <td>NaN</td>\n",
       "      <td>NaN</td>\n",
       "      <td>NaN</td>\n",
       "      <td>2</td>\n",
       "      <td>NaN</td>\n",
       "      <td>NaN</td>\n",
       "      <td>NaN</td>\n",
       "      <td>NaN</td>\n",
       "      <td>TataModel</td>\n",
       "    </tr>\n",
       "    <tr>\n",
       "      <th>3</th>\n",
       "      <td>Tata</td>\n",
       "      <td>Nano Genx</td>\n",
       "      <td>Xta</td>\n",
       "      <td>334768</td>\n",
       "      <td>624 cc</td>\n",
       "      <td>2.0</td>\n",
       "      <td>5.0</td>\n",
       "      <td>RWD (Rear Wheel Drive)</td>\n",
       "      <td>In-line</td>\n",
       "      <td>BS IV</td>\n",
       "      <td>...</td>\n",
       "      <td>NaN</td>\n",
       "      <td>NaN</td>\n",
       "      <td>NaN</td>\n",
       "      <td>NaN</td>\n",
       "      <td>2</td>\n",
       "      <td>NaN</td>\n",
       "      <td>NaN</td>\n",
       "      <td>NaN</td>\n",
       "      <td>NaN</td>\n",
       "      <td>TataModel</td>\n",
       "    </tr>\n",
       "    <tr>\n",
       "      <th>4</th>\n",
       "      <td>Tata</td>\n",
       "      <td>Nano Genx</td>\n",
       "      <td>Xm</td>\n",
       "      <td>272223</td>\n",
       "      <td>624 cc</td>\n",
       "      <td>2.0</td>\n",
       "      <td>5.0</td>\n",
       "      <td>RWD (Rear Wheel Drive)</td>\n",
       "      <td>In-line</td>\n",
       "      <td>BS IV</td>\n",
       "      <td>...</td>\n",
       "      <td>NaN</td>\n",
       "      <td>NaN</td>\n",
       "      <td>NaN</td>\n",
       "      <td>NaN</td>\n",
       "      <td>2</td>\n",
       "      <td>NaN</td>\n",
       "      <td>NaN</td>\n",
       "      <td>NaN</td>\n",
       "      <td>NaN</td>\n",
       "      <td>TataModel</td>\n",
       "    </tr>\n",
       "  </tbody>\n",
       "</table>\n",
       "<p>5 rows × 141 columns</p>\n",
       "</div>"
      ],
      "text/plain": [
       "   Make      Model  Variant  Ex-Showroom_Price Displacement  Cylinders  \\\n",
       "0  Tata  Nano Genx       Xt             292667       624 cc        2.0   \n",
       "1  Tata  Nano Genx       Xe             236447       624 cc        2.0   \n",
       "2  Tata  Nano Genx  Emax Xm             296661       624 cc        2.0   \n",
       "3  Tata  Nano Genx      Xta             334768       624 cc        2.0   \n",
       "4  Tata  Nano Genx       Xm             272223       624 cc        2.0   \n",
       "\n",
       "   Valves_Per_Cylinder              Drivetrain Cylinder_Configuration  \\\n",
       "0                  5.0  RWD (Rear Wheel Drive)                In-line   \n",
       "1                  5.0  RWD (Rear Wheel Drive)                In-line   \n",
       "2                  4.0  RWD (Rear Wheel Drive)                In-line   \n",
       "3                  5.0  RWD (Rear Wheel Drive)                In-line   \n",
       "4                  5.0  RWD (Rear Wheel Drive)                In-line   \n",
       "\n",
       "  Emission_Norm  ... Automatic_Headlamps Engine_Type ASR_/_Traction_Control  \\\n",
       "0         BS IV  ...                 NaN         NaN                    NaN   \n",
       "1         BS IV  ...                 NaN         NaN                    NaN   \n",
       "2         BS IV  ...                 NaN         NaN                    NaN   \n",
       "3         BS IV  ...                 NaN         NaN                    NaN   \n",
       "4         BS IV  ...                 NaN         NaN                    NaN   \n",
       "\n",
       "  Cruise_Control USB_Ports Heads-Up_Display Welcome_Lights Battery  \\\n",
       "0            NaN         2              NaN            NaN     NaN   \n",
       "1            NaN         2              NaN            NaN     NaN   \n",
       "2            NaN         2              NaN            NaN     NaN   \n",
       "3            NaN         2              NaN            NaN     NaN   \n",
       "4            NaN         2              NaN            NaN     NaN   \n",
       "\n",
       "   Electric_Range   car_type  \n",
       "0             NaN  TataModel  \n",
       "1             NaN  TataModel  \n",
       "2             NaN  TataModel  \n",
       "3             NaN  TataModel  \n",
       "4             NaN  TataModel  \n",
       "\n",
       "[5 rows x 141 columns]"
      ]
     },
     "execution_count": 152,
     "metadata": {},
     "output_type": "execute_result"
    }
   ],
   "source": [
    "data.head()"
   ]
  },
  {
   "cell_type": "code",
   "execution_count": 153,
   "id": "fb6d8283",
   "metadata": {},
   "outputs": [
    {
     "data": {
      "text/plain": [
       "array(['RWD (Rear Wheel Drive)', 'FWD (Front Wheel Drive)',\n",
       "       'AWD (All Wheel Drive)', '4WD', nan], dtype=object)"
      ]
     },
     "execution_count": 153,
     "metadata": {},
     "output_type": "execute_result"
    }
   ],
   "source": [
    "data['Drivetrain'].unique()"
   ]
  },
  {
   "cell_type": "code",
   "execution_count": 154,
   "id": "1d92e009",
   "metadata": {},
   "outputs": [
    {
     "data": {
      "text/plain": [
       "0       RWD (Rear Wheel Drive)\n",
       "1       RWD (Rear Wheel Drive)\n",
       "2       RWD (Rear Wheel Drive)\n",
       "3       RWD (Rear Wheel Drive)\n",
       "4       RWD (Rear Wheel Drive)\n",
       "                 ...          \n",
       "1271                       4WD\n",
       "1272                       4WD\n",
       "1273                       4WD\n",
       "1274                       4WD\n",
       "1275                       4WD\n",
       "Name: Drivetrain, Length: 1276, dtype: object"
      ]
     },
     "execution_count": 154,
     "metadata": {},
     "output_type": "execute_result"
    }
   ],
   "source": [
    "data['Drivetrain']=data['Drivetrain'].replace(['RWD (Rear Wheel Drive)','RWD','FWD (Front Wheel Drive)','FWD','AWD (All Wheel Drive)','AWD','nan','NULL'])\n",
    "data['Drivetrain']"
   ]
  },
  {
   "cell_type": "code",
   "execution_count": 155,
   "id": "4bcd6ceb",
   "metadata": {},
   "outputs": [
    {
     "data": {
      "text/html": [
       "<div>\n",
       "<style scoped>\n",
       "    .dataframe tbody tr th:only-of-type {\n",
       "        vertical-align: middle;\n",
       "    }\n",
       "\n",
       "    .dataframe tbody tr th {\n",
       "        vertical-align: top;\n",
       "    }\n",
       "\n",
       "    .dataframe thead th {\n",
       "        text-align: right;\n",
       "    }\n",
       "</style>\n",
       "<table border=\"1\" class=\"dataframe\">\n",
       "  <thead>\n",
       "    <tr style=\"text-align: right;\">\n",
       "      <th></th>\n",
       "      <th>Make</th>\n",
       "      <th>Model</th>\n",
       "      <th>Variant</th>\n",
       "      <th>Ex-Showroom_Price</th>\n",
       "      <th>Displacement</th>\n",
       "      <th>Cylinders</th>\n",
       "      <th>Valves_Per_Cylinder</th>\n",
       "      <th>Drivetrain</th>\n",
       "      <th>Cylinder_Configuration</th>\n",
       "      <th>Emission_Norm</th>\n",
       "      <th>...</th>\n",
       "      <th>Automatic_Headlamps</th>\n",
       "      <th>Engine_Type</th>\n",
       "      <th>ASR_/_Traction_Control</th>\n",
       "      <th>Cruise_Control</th>\n",
       "      <th>USB_Ports</th>\n",
       "      <th>Heads-Up_Display</th>\n",
       "      <th>Welcome_Lights</th>\n",
       "      <th>Battery</th>\n",
       "      <th>Electric_Range</th>\n",
       "      <th>car_type</th>\n",
       "    </tr>\n",
       "  </thead>\n",
       "  <tbody>\n",
       "    <tr>\n",
       "      <th>0</th>\n",
       "      <td>Tata</td>\n",
       "      <td>Nano Genx</td>\n",
       "      <td>Xt</td>\n",
       "      <td>292667</td>\n",
       "      <td>624 cc</td>\n",
       "      <td>2.0</td>\n",
       "      <td>5.0</td>\n",
       "      <td>RWD (Rear Wheel Drive)</td>\n",
       "      <td>In-line</td>\n",
       "      <td>BS IV</td>\n",
       "      <td>...</td>\n",
       "      <td>NaN</td>\n",
       "      <td>NaN</td>\n",
       "      <td>NaN</td>\n",
       "      <td>NaN</td>\n",
       "      <td>2</td>\n",
       "      <td>NaN</td>\n",
       "      <td>NaN</td>\n",
       "      <td>NaN</td>\n",
       "      <td>NaN</td>\n",
       "      <td>TataModel</td>\n",
       "    </tr>\n",
       "    <tr>\n",
       "      <th>1</th>\n",
       "      <td>Tata</td>\n",
       "      <td>Nano Genx</td>\n",
       "      <td>Xe</td>\n",
       "      <td>236447</td>\n",
       "      <td>624 cc</td>\n",
       "      <td>2.0</td>\n",
       "      <td>5.0</td>\n",
       "      <td>RWD (Rear Wheel Drive)</td>\n",
       "      <td>In-line</td>\n",
       "      <td>BS IV</td>\n",
       "      <td>...</td>\n",
       "      <td>NaN</td>\n",
       "      <td>NaN</td>\n",
       "      <td>NaN</td>\n",
       "      <td>NaN</td>\n",
       "      <td>2</td>\n",
       "      <td>NaN</td>\n",
       "      <td>NaN</td>\n",
       "      <td>NaN</td>\n",
       "      <td>NaN</td>\n",
       "      <td>TataModel</td>\n",
       "    </tr>\n",
       "    <tr>\n",
       "      <th>2</th>\n",
       "      <td>Tata</td>\n",
       "      <td>Nano Genx</td>\n",
       "      <td>Emax Xm</td>\n",
       "      <td>296661</td>\n",
       "      <td>624 cc</td>\n",
       "      <td>2.0</td>\n",
       "      <td>4.0</td>\n",
       "      <td>RWD (Rear Wheel Drive)</td>\n",
       "      <td>In-line</td>\n",
       "      <td>BS IV</td>\n",
       "      <td>...</td>\n",
       "      <td>NaN</td>\n",
       "      <td>NaN</td>\n",
       "      <td>NaN</td>\n",
       "      <td>NaN</td>\n",
       "      <td>2</td>\n",
       "      <td>NaN</td>\n",
       "      <td>NaN</td>\n",
       "      <td>NaN</td>\n",
       "      <td>NaN</td>\n",
       "      <td>TataModel</td>\n",
       "    </tr>\n",
       "    <tr>\n",
       "      <th>3</th>\n",
       "      <td>Tata</td>\n",
       "      <td>Nano Genx</td>\n",
       "      <td>Xta</td>\n",
       "      <td>334768</td>\n",
       "      <td>624 cc</td>\n",
       "      <td>2.0</td>\n",
       "      <td>5.0</td>\n",
       "      <td>RWD (Rear Wheel Drive)</td>\n",
       "      <td>In-line</td>\n",
       "      <td>BS IV</td>\n",
       "      <td>...</td>\n",
       "      <td>NaN</td>\n",
       "      <td>NaN</td>\n",
       "      <td>NaN</td>\n",
       "      <td>NaN</td>\n",
       "      <td>2</td>\n",
       "      <td>NaN</td>\n",
       "      <td>NaN</td>\n",
       "      <td>NaN</td>\n",
       "      <td>NaN</td>\n",
       "      <td>TataModel</td>\n",
       "    </tr>\n",
       "    <tr>\n",
       "      <th>4</th>\n",
       "      <td>Tata</td>\n",
       "      <td>Nano Genx</td>\n",
       "      <td>Xm</td>\n",
       "      <td>272223</td>\n",
       "      <td>624 cc</td>\n",
       "      <td>2.0</td>\n",
       "      <td>5.0</td>\n",
       "      <td>RWD (Rear Wheel Drive)</td>\n",
       "      <td>In-line</td>\n",
       "      <td>BS IV</td>\n",
       "      <td>...</td>\n",
       "      <td>NaN</td>\n",
       "      <td>NaN</td>\n",
       "      <td>NaN</td>\n",
       "      <td>NaN</td>\n",
       "      <td>2</td>\n",
       "      <td>NaN</td>\n",
       "      <td>NaN</td>\n",
       "      <td>NaN</td>\n",
       "      <td>NaN</td>\n",
       "      <td>TataModel</td>\n",
       "    </tr>\n",
       "  </tbody>\n",
       "</table>\n",
       "<p>5 rows × 141 columns</p>\n",
       "</div>"
      ],
      "text/plain": [
       "   Make      Model  Variant  Ex-Showroom_Price Displacement  Cylinders  \\\n",
       "0  Tata  Nano Genx       Xt             292667       624 cc        2.0   \n",
       "1  Tata  Nano Genx       Xe             236447       624 cc        2.0   \n",
       "2  Tata  Nano Genx  Emax Xm             296661       624 cc        2.0   \n",
       "3  Tata  Nano Genx      Xta             334768       624 cc        2.0   \n",
       "4  Tata  Nano Genx       Xm             272223       624 cc        2.0   \n",
       "\n",
       "   Valves_Per_Cylinder              Drivetrain Cylinder_Configuration  \\\n",
       "0                  5.0  RWD (Rear Wheel Drive)                In-line   \n",
       "1                  5.0  RWD (Rear Wheel Drive)                In-line   \n",
       "2                  4.0  RWD (Rear Wheel Drive)                In-line   \n",
       "3                  5.0  RWD (Rear Wheel Drive)                In-line   \n",
       "4                  5.0  RWD (Rear Wheel Drive)                In-line   \n",
       "\n",
       "  Emission_Norm  ... Automatic_Headlamps Engine_Type ASR_/_Traction_Control  \\\n",
       "0         BS IV  ...                 NaN         NaN                    NaN   \n",
       "1         BS IV  ...                 NaN         NaN                    NaN   \n",
       "2         BS IV  ...                 NaN         NaN                    NaN   \n",
       "3         BS IV  ...                 NaN         NaN                    NaN   \n",
       "4         BS IV  ...                 NaN         NaN                    NaN   \n",
       "\n",
       "  Cruise_Control USB_Ports Heads-Up_Display Welcome_Lights Battery  \\\n",
       "0            NaN         2              NaN            NaN     NaN   \n",
       "1            NaN         2              NaN            NaN     NaN   \n",
       "2            NaN         2              NaN            NaN     NaN   \n",
       "3            NaN         2              NaN            NaN     NaN   \n",
       "4            NaN         2              NaN            NaN     NaN   \n",
       "\n",
       "   Electric_Range   car_type  \n",
       "0             NaN  TataModel  \n",
       "1             NaN  TataModel  \n",
       "2             NaN  TataModel  \n",
       "3             NaN  TataModel  \n",
       "4             NaN  TataModel  \n",
       "\n",
       "[5 rows x 141 columns]"
      ]
     },
     "execution_count": 155,
     "metadata": {},
     "output_type": "execute_result"
    }
   ],
   "source": [
    "data.head(5)"
   ]
  },
  {
   "cell_type": "code",
   "execution_count": 156,
   "id": "8a8bb2c6",
   "metadata": {},
   "outputs": [
    {
     "data": {
      "text/plain": [
       "array(['In-line', 'V', 'Flat', 'W', nan], dtype=object)"
      ]
     },
     "execution_count": 156,
     "metadata": {},
     "output_type": "execute_result"
    }
   ],
   "source": [
    "data['Cylinder_Configuration'].unique()"
   ]
  },
  {
   "cell_type": "code",
   "execution_count": 157,
   "id": "80701aff",
   "metadata": {},
   "outputs": [],
   "source": [
    "data['Cylinder_Configuration']=data['Cylinder_Configuration'].str.replace('nan','NULL')\n"
   ]
  },
  {
   "cell_type": "code",
   "execution_count": 158,
   "id": "10ee4da1",
   "metadata": {},
   "outputs": [
    {
     "data": {
      "text/html": [
       "<div>\n",
       "<style scoped>\n",
       "    .dataframe tbody tr th:only-of-type {\n",
       "        vertical-align: middle;\n",
       "    }\n",
       "\n",
       "    .dataframe tbody tr th {\n",
       "        vertical-align: top;\n",
       "    }\n",
       "\n",
       "    .dataframe thead th {\n",
       "        text-align: right;\n",
       "    }\n",
       "</style>\n",
       "<table border=\"1\" class=\"dataframe\">\n",
       "  <thead>\n",
       "    <tr style=\"text-align: right;\">\n",
       "      <th></th>\n",
       "      <th>Make</th>\n",
       "      <th>Model</th>\n",
       "      <th>Variant</th>\n",
       "      <th>Ex-Showroom_Price</th>\n",
       "      <th>Displacement</th>\n",
       "      <th>Cylinders</th>\n",
       "      <th>Valves_Per_Cylinder</th>\n",
       "      <th>Drivetrain</th>\n",
       "      <th>Cylinder_Configuration</th>\n",
       "      <th>Emission_Norm</th>\n",
       "      <th>...</th>\n",
       "      <th>Automatic_Headlamps</th>\n",
       "      <th>Engine_Type</th>\n",
       "      <th>ASR_/_Traction_Control</th>\n",
       "      <th>Cruise_Control</th>\n",
       "      <th>USB_Ports</th>\n",
       "      <th>Heads-Up_Display</th>\n",
       "      <th>Welcome_Lights</th>\n",
       "      <th>Battery</th>\n",
       "      <th>Electric_Range</th>\n",
       "      <th>car_type</th>\n",
       "    </tr>\n",
       "  </thead>\n",
       "  <tbody>\n",
       "    <tr>\n",
       "      <th>0</th>\n",
       "      <td>Tata</td>\n",
       "      <td>Nano Genx</td>\n",
       "      <td>Xt</td>\n",
       "      <td>292667</td>\n",
       "      <td>624 cc</td>\n",
       "      <td>2.0</td>\n",
       "      <td>5.0</td>\n",
       "      <td>RWD (Rear Wheel Drive)</td>\n",
       "      <td>In-line</td>\n",
       "      <td>BS IV</td>\n",
       "      <td>...</td>\n",
       "      <td>NaN</td>\n",
       "      <td>NaN</td>\n",
       "      <td>NaN</td>\n",
       "      <td>NaN</td>\n",
       "      <td>2</td>\n",
       "      <td>NaN</td>\n",
       "      <td>NaN</td>\n",
       "      <td>NaN</td>\n",
       "      <td>NaN</td>\n",
       "      <td>TataModel</td>\n",
       "    </tr>\n",
       "    <tr>\n",
       "      <th>1</th>\n",
       "      <td>Tata</td>\n",
       "      <td>Nano Genx</td>\n",
       "      <td>Xe</td>\n",
       "      <td>236447</td>\n",
       "      <td>624 cc</td>\n",
       "      <td>2.0</td>\n",
       "      <td>5.0</td>\n",
       "      <td>RWD (Rear Wheel Drive)</td>\n",
       "      <td>In-line</td>\n",
       "      <td>BS IV</td>\n",
       "      <td>...</td>\n",
       "      <td>NaN</td>\n",
       "      <td>NaN</td>\n",
       "      <td>NaN</td>\n",
       "      <td>NaN</td>\n",
       "      <td>2</td>\n",
       "      <td>NaN</td>\n",
       "      <td>NaN</td>\n",
       "      <td>NaN</td>\n",
       "      <td>NaN</td>\n",
       "      <td>TataModel</td>\n",
       "    </tr>\n",
       "    <tr>\n",
       "      <th>2</th>\n",
       "      <td>Tata</td>\n",
       "      <td>Nano Genx</td>\n",
       "      <td>Emax Xm</td>\n",
       "      <td>296661</td>\n",
       "      <td>624 cc</td>\n",
       "      <td>2.0</td>\n",
       "      <td>4.0</td>\n",
       "      <td>RWD (Rear Wheel Drive)</td>\n",
       "      <td>In-line</td>\n",
       "      <td>BS IV</td>\n",
       "      <td>...</td>\n",
       "      <td>NaN</td>\n",
       "      <td>NaN</td>\n",
       "      <td>NaN</td>\n",
       "      <td>NaN</td>\n",
       "      <td>2</td>\n",
       "      <td>NaN</td>\n",
       "      <td>NaN</td>\n",
       "      <td>NaN</td>\n",
       "      <td>NaN</td>\n",
       "      <td>TataModel</td>\n",
       "    </tr>\n",
       "  </tbody>\n",
       "</table>\n",
       "<p>3 rows × 141 columns</p>\n",
       "</div>"
      ],
      "text/plain": [
       "   Make      Model  Variant  Ex-Showroom_Price Displacement  Cylinders  \\\n",
       "0  Tata  Nano Genx       Xt             292667       624 cc        2.0   \n",
       "1  Tata  Nano Genx       Xe             236447       624 cc        2.0   \n",
       "2  Tata  Nano Genx  Emax Xm             296661       624 cc        2.0   \n",
       "\n",
       "   Valves_Per_Cylinder              Drivetrain Cylinder_Configuration  \\\n",
       "0                  5.0  RWD (Rear Wheel Drive)                In-line   \n",
       "1                  5.0  RWD (Rear Wheel Drive)                In-line   \n",
       "2                  4.0  RWD (Rear Wheel Drive)                In-line   \n",
       "\n",
       "  Emission_Norm  ... Automatic_Headlamps Engine_Type ASR_/_Traction_Control  \\\n",
       "0         BS IV  ...                 NaN         NaN                    NaN   \n",
       "1         BS IV  ...                 NaN         NaN                    NaN   \n",
       "2         BS IV  ...                 NaN         NaN                    NaN   \n",
       "\n",
       "  Cruise_Control USB_Ports Heads-Up_Display Welcome_Lights Battery  \\\n",
       "0            NaN         2              NaN            NaN     NaN   \n",
       "1            NaN         2              NaN            NaN     NaN   \n",
       "2            NaN         2              NaN            NaN     NaN   \n",
       "\n",
       "   Electric_Range   car_type  \n",
       "0             NaN  TataModel  \n",
       "1             NaN  TataModel  \n",
       "2             NaN  TataModel  \n",
       "\n",
       "[3 rows x 141 columns]"
      ]
     },
     "execution_count": 158,
     "metadata": {},
     "output_type": "execute_result"
    }
   ],
   "source": [
    "data.head(3)"
   ]
  },
  {
   "cell_type": "code",
   "execution_count": 159,
   "id": "bb07c4e5",
   "metadata": {},
   "outputs": [
    {
     "data": {
      "text/html": [
       "<div>\n",
       "<style scoped>\n",
       "    .dataframe tbody tr th:only-of-type {\n",
       "        vertical-align: middle;\n",
       "    }\n",
       "\n",
       "    .dataframe tbody tr th {\n",
       "        vertical-align: top;\n",
       "    }\n",
       "\n",
       "    .dataframe thead th {\n",
       "        text-align: right;\n",
       "    }\n",
       "</style>\n",
       "<table border=\"1\" class=\"dataframe\">\n",
       "  <thead>\n",
       "    <tr style=\"text-align: right;\">\n",
       "      <th></th>\n",
       "      <th>Make</th>\n",
       "      <th>Model</th>\n",
       "      <th>Variant</th>\n",
       "      <th>Ex-Showroom_Price</th>\n",
       "      <th>Displacement</th>\n",
       "      <th>Cylinders</th>\n",
       "      <th>Valves_Per_Cylinder</th>\n",
       "      <th>Drivetrain</th>\n",
       "      <th>Cylinder_Configuration</th>\n",
       "      <th>Emission_Norm</th>\n",
       "      <th>...</th>\n",
       "      <th>Automatic_Headlamps</th>\n",
       "      <th>Engine_Type</th>\n",
       "      <th>ASR_/_Traction_Control</th>\n",
       "      <th>Cruise_Control</th>\n",
       "      <th>USB_Ports</th>\n",
       "      <th>Heads-Up_Display</th>\n",
       "      <th>Welcome_Lights</th>\n",
       "      <th>Battery</th>\n",
       "      <th>Electric_Range</th>\n",
       "      <th>car_type</th>\n",
       "    </tr>\n",
       "  </thead>\n",
       "  <tbody>\n",
       "    <tr>\n",
       "      <th>0</th>\n",
       "      <td>Tata</td>\n",
       "      <td>Nano Genx</td>\n",
       "      <td>Xt</td>\n",
       "      <td>292667</td>\n",
       "      <td>624 cc</td>\n",
       "      <td>2.0</td>\n",
       "      <td>5.0</td>\n",
       "      <td>RWD (Rear Wheel Drive)</td>\n",
       "      <td>In-line</td>\n",
       "      <td>BS IV</td>\n",
       "      <td>...</td>\n",
       "      <td>NaN</td>\n",
       "      <td>NaN</td>\n",
       "      <td>NaN</td>\n",
       "      <td>NaN</td>\n",
       "      <td>2</td>\n",
       "      <td>NaN</td>\n",
       "      <td>NaN</td>\n",
       "      <td>NaN</td>\n",
       "      <td>NaN</td>\n",
       "      <td>TataModel</td>\n",
       "    </tr>\n",
       "    <tr>\n",
       "      <th>1</th>\n",
       "      <td>Tata</td>\n",
       "      <td>Nano Genx</td>\n",
       "      <td>Xe</td>\n",
       "      <td>236447</td>\n",
       "      <td>624 cc</td>\n",
       "      <td>2.0</td>\n",
       "      <td>5.0</td>\n",
       "      <td>RWD (Rear Wheel Drive)</td>\n",
       "      <td>In-line</td>\n",
       "      <td>BS IV</td>\n",
       "      <td>...</td>\n",
       "      <td>NaN</td>\n",
       "      <td>NaN</td>\n",
       "      <td>NaN</td>\n",
       "      <td>NaN</td>\n",
       "      <td>2</td>\n",
       "      <td>NaN</td>\n",
       "      <td>NaN</td>\n",
       "      <td>NaN</td>\n",
       "      <td>NaN</td>\n",
       "      <td>TataModel</td>\n",
       "    </tr>\n",
       "    <tr>\n",
       "      <th>2</th>\n",
       "      <td>Tata</td>\n",
       "      <td>Nano Genx</td>\n",
       "      <td>Emax Xm</td>\n",
       "      <td>296661</td>\n",
       "      <td>624 cc</td>\n",
       "      <td>2.0</td>\n",
       "      <td>4.0</td>\n",
       "      <td>RWD (Rear Wheel Drive)</td>\n",
       "      <td>In-line</td>\n",
       "      <td>BS IV</td>\n",
       "      <td>...</td>\n",
       "      <td>NaN</td>\n",
       "      <td>NaN</td>\n",
       "      <td>NaN</td>\n",
       "      <td>NaN</td>\n",
       "      <td>2</td>\n",
       "      <td>NaN</td>\n",
       "      <td>NaN</td>\n",
       "      <td>NaN</td>\n",
       "      <td>NaN</td>\n",
       "      <td>TataModel</td>\n",
       "    </tr>\n",
       "    <tr>\n",
       "      <th>3</th>\n",
       "      <td>Tata</td>\n",
       "      <td>Nano Genx</td>\n",
       "      <td>Xta</td>\n",
       "      <td>334768</td>\n",
       "      <td>624 cc</td>\n",
       "      <td>2.0</td>\n",
       "      <td>5.0</td>\n",
       "      <td>RWD (Rear Wheel Drive)</td>\n",
       "      <td>In-line</td>\n",
       "      <td>BS IV</td>\n",
       "      <td>...</td>\n",
       "      <td>NaN</td>\n",
       "      <td>NaN</td>\n",
       "      <td>NaN</td>\n",
       "      <td>NaN</td>\n",
       "      <td>2</td>\n",
       "      <td>NaN</td>\n",
       "      <td>NaN</td>\n",
       "      <td>NaN</td>\n",
       "      <td>NaN</td>\n",
       "      <td>TataModel</td>\n",
       "    </tr>\n",
       "  </tbody>\n",
       "</table>\n",
       "<p>4 rows × 141 columns</p>\n",
       "</div>"
      ],
      "text/plain": [
       "   Make      Model  Variant  Ex-Showroom_Price Displacement  Cylinders  \\\n",
       "0  Tata  Nano Genx       Xt             292667       624 cc        2.0   \n",
       "1  Tata  Nano Genx       Xe             236447       624 cc        2.0   \n",
       "2  Tata  Nano Genx  Emax Xm             296661       624 cc        2.0   \n",
       "3  Tata  Nano Genx      Xta             334768       624 cc        2.0   \n",
       "\n",
       "   Valves_Per_Cylinder              Drivetrain Cylinder_Configuration  \\\n",
       "0                  5.0  RWD (Rear Wheel Drive)                In-line   \n",
       "1                  5.0  RWD (Rear Wheel Drive)                In-line   \n",
       "2                  4.0  RWD (Rear Wheel Drive)                In-line   \n",
       "3                  5.0  RWD (Rear Wheel Drive)                In-line   \n",
       "\n",
       "  Emission_Norm  ... Automatic_Headlamps Engine_Type ASR_/_Traction_Control  \\\n",
       "0         BS IV  ...                 NaN         NaN                    NaN   \n",
       "1         BS IV  ...                 NaN         NaN                    NaN   \n",
       "2         BS IV  ...                 NaN         NaN                    NaN   \n",
       "3         BS IV  ...                 NaN         NaN                    NaN   \n",
       "\n",
       "  Cruise_Control USB_Ports Heads-Up_Display Welcome_Lights Battery  \\\n",
       "0            NaN         2              NaN            NaN     NaN   \n",
       "1            NaN         2              NaN            NaN     NaN   \n",
       "2            NaN         2              NaN            NaN     NaN   \n",
       "3            NaN         2              NaN            NaN     NaN   \n",
       "\n",
       "   Electric_Range   car_type  \n",
       "0             NaN  TataModel  \n",
       "1             NaN  TataModel  \n",
       "2             NaN  TataModel  \n",
       "3             NaN  TataModel  \n",
       "\n",
       "[4 rows x 141 columns]"
      ]
     },
     "execution_count": 159,
     "metadata": {},
     "output_type": "execute_result"
    }
   ],
   "source": [
    "data.head(4)"
   ]
  },
  {
   "cell_type": "code",
   "execution_count": 160,
   "id": "b6b4bcb4",
   "metadata": {},
   "outputs": [
    {
     "data": {
      "text/plain": [
       "array(['BS IV', 'BS 6', nan, 'BS III', 'BS VI'], dtype=object)"
      ]
     },
     "execution_count": 160,
     "metadata": {},
     "output_type": "execute_result"
    }
   ],
   "source": [
    "data['Emission_Norm'].unique()"
   ]
  },
  {
   "cell_type": "code",
   "execution_count": 161,
   "id": "013852b1",
   "metadata": {},
   "outputs": [],
   "source": [
    "data['Emission_Norm']=data['Emission_Norm'].replace(\"nan\",\"NULL\")\n"
   ]
  },
  {
   "cell_type": "code",
   "execution_count": 162,
   "id": "8e9d6ccf",
   "metadata": {},
   "outputs": [
    {
     "data": {
      "text/html": [
       "<div>\n",
       "<style scoped>\n",
       "    .dataframe tbody tr th:only-of-type {\n",
       "        vertical-align: middle;\n",
       "    }\n",
       "\n",
       "    .dataframe tbody tr th {\n",
       "        vertical-align: top;\n",
       "    }\n",
       "\n",
       "    .dataframe thead th {\n",
       "        text-align: right;\n",
       "    }\n",
       "</style>\n",
       "<table border=\"1\" class=\"dataframe\">\n",
       "  <thead>\n",
       "    <tr style=\"text-align: right;\">\n",
       "      <th></th>\n",
       "      <th>Make</th>\n",
       "      <th>Model</th>\n",
       "      <th>Variant</th>\n",
       "      <th>Ex-Showroom_Price</th>\n",
       "      <th>Displacement</th>\n",
       "      <th>Cylinders</th>\n",
       "      <th>Valves_Per_Cylinder</th>\n",
       "      <th>Drivetrain</th>\n",
       "      <th>Cylinder_Configuration</th>\n",
       "      <th>Emission_Norm</th>\n",
       "      <th>...</th>\n",
       "      <th>Automatic_Headlamps</th>\n",
       "      <th>Engine_Type</th>\n",
       "      <th>ASR_/_Traction_Control</th>\n",
       "      <th>Cruise_Control</th>\n",
       "      <th>USB_Ports</th>\n",
       "      <th>Heads-Up_Display</th>\n",
       "      <th>Welcome_Lights</th>\n",
       "      <th>Battery</th>\n",
       "      <th>Electric_Range</th>\n",
       "      <th>car_type</th>\n",
       "    </tr>\n",
       "  </thead>\n",
       "  <tbody>\n",
       "    <tr>\n",
       "      <th>0</th>\n",
       "      <td>Tata</td>\n",
       "      <td>Nano Genx</td>\n",
       "      <td>Xt</td>\n",
       "      <td>292667</td>\n",
       "      <td>624 cc</td>\n",
       "      <td>2.0</td>\n",
       "      <td>5.0</td>\n",
       "      <td>RWD (Rear Wheel Drive)</td>\n",
       "      <td>In-line</td>\n",
       "      <td>BS IV</td>\n",
       "      <td>...</td>\n",
       "      <td>NaN</td>\n",
       "      <td>NaN</td>\n",
       "      <td>NaN</td>\n",
       "      <td>NaN</td>\n",
       "      <td>2</td>\n",
       "      <td>NaN</td>\n",
       "      <td>NaN</td>\n",
       "      <td>NaN</td>\n",
       "      <td>NaN</td>\n",
       "      <td>TataModel</td>\n",
       "    </tr>\n",
       "    <tr>\n",
       "      <th>1</th>\n",
       "      <td>Tata</td>\n",
       "      <td>Nano Genx</td>\n",
       "      <td>Xe</td>\n",
       "      <td>236447</td>\n",
       "      <td>624 cc</td>\n",
       "      <td>2.0</td>\n",
       "      <td>5.0</td>\n",
       "      <td>RWD (Rear Wheel Drive)</td>\n",
       "      <td>In-line</td>\n",
       "      <td>BS IV</td>\n",
       "      <td>...</td>\n",
       "      <td>NaN</td>\n",
       "      <td>NaN</td>\n",
       "      <td>NaN</td>\n",
       "      <td>NaN</td>\n",
       "      <td>2</td>\n",
       "      <td>NaN</td>\n",
       "      <td>NaN</td>\n",
       "      <td>NaN</td>\n",
       "      <td>NaN</td>\n",
       "      <td>TataModel</td>\n",
       "    </tr>\n",
       "    <tr>\n",
       "      <th>2</th>\n",
       "      <td>Tata</td>\n",
       "      <td>Nano Genx</td>\n",
       "      <td>Emax Xm</td>\n",
       "      <td>296661</td>\n",
       "      <td>624 cc</td>\n",
       "      <td>2.0</td>\n",
       "      <td>4.0</td>\n",
       "      <td>RWD (Rear Wheel Drive)</td>\n",
       "      <td>In-line</td>\n",
       "      <td>BS IV</td>\n",
       "      <td>...</td>\n",
       "      <td>NaN</td>\n",
       "      <td>NaN</td>\n",
       "      <td>NaN</td>\n",
       "      <td>NaN</td>\n",
       "      <td>2</td>\n",
       "      <td>NaN</td>\n",
       "      <td>NaN</td>\n",
       "      <td>NaN</td>\n",
       "      <td>NaN</td>\n",
       "      <td>TataModel</td>\n",
       "    </tr>\n",
       "    <tr>\n",
       "      <th>3</th>\n",
       "      <td>Tata</td>\n",
       "      <td>Nano Genx</td>\n",
       "      <td>Xta</td>\n",
       "      <td>334768</td>\n",
       "      <td>624 cc</td>\n",
       "      <td>2.0</td>\n",
       "      <td>5.0</td>\n",
       "      <td>RWD (Rear Wheel Drive)</td>\n",
       "      <td>In-line</td>\n",
       "      <td>BS IV</td>\n",
       "      <td>...</td>\n",
       "      <td>NaN</td>\n",
       "      <td>NaN</td>\n",
       "      <td>NaN</td>\n",
       "      <td>NaN</td>\n",
       "      <td>2</td>\n",
       "      <td>NaN</td>\n",
       "      <td>NaN</td>\n",
       "      <td>NaN</td>\n",
       "      <td>NaN</td>\n",
       "      <td>TataModel</td>\n",
       "    </tr>\n",
       "    <tr>\n",
       "      <th>4</th>\n",
       "      <td>Tata</td>\n",
       "      <td>Nano Genx</td>\n",
       "      <td>Xm</td>\n",
       "      <td>272223</td>\n",
       "      <td>624 cc</td>\n",
       "      <td>2.0</td>\n",
       "      <td>5.0</td>\n",
       "      <td>RWD (Rear Wheel Drive)</td>\n",
       "      <td>In-line</td>\n",
       "      <td>BS IV</td>\n",
       "      <td>...</td>\n",
       "      <td>NaN</td>\n",
       "      <td>NaN</td>\n",
       "      <td>NaN</td>\n",
       "      <td>NaN</td>\n",
       "      <td>2</td>\n",
       "      <td>NaN</td>\n",
       "      <td>NaN</td>\n",
       "      <td>NaN</td>\n",
       "      <td>NaN</td>\n",
       "      <td>TataModel</td>\n",
       "    </tr>\n",
       "  </tbody>\n",
       "</table>\n",
       "<p>5 rows × 141 columns</p>\n",
       "</div>"
      ],
      "text/plain": [
       "   Make      Model  Variant  Ex-Showroom_Price Displacement  Cylinders  \\\n",
       "0  Tata  Nano Genx       Xt             292667       624 cc        2.0   \n",
       "1  Tata  Nano Genx       Xe             236447       624 cc        2.0   \n",
       "2  Tata  Nano Genx  Emax Xm             296661       624 cc        2.0   \n",
       "3  Tata  Nano Genx      Xta             334768       624 cc        2.0   \n",
       "4  Tata  Nano Genx       Xm             272223       624 cc        2.0   \n",
       "\n",
       "   Valves_Per_Cylinder              Drivetrain Cylinder_Configuration  \\\n",
       "0                  5.0  RWD (Rear Wheel Drive)                In-line   \n",
       "1                  5.0  RWD (Rear Wheel Drive)                In-line   \n",
       "2                  4.0  RWD (Rear Wheel Drive)                In-line   \n",
       "3                  5.0  RWD (Rear Wheel Drive)                In-line   \n",
       "4                  5.0  RWD (Rear Wheel Drive)                In-line   \n",
       "\n",
       "  Emission_Norm  ... Automatic_Headlamps Engine_Type ASR_/_Traction_Control  \\\n",
       "0         BS IV  ...                 NaN         NaN                    NaN   \n",
       "1         BS IV  ...                 NaN         NaN                    NaN   \n",
       "2         BS IV  ...                 NaN         NaN                    NaN   \n",
       "3         BS IV  ...                 NaN         NaN                    NaN   \n",
       "4         BS IV  ...                 NaN         NaN                    NaN   \n",
       "\n",
       "  Cruise_Control USB_Ports Heads-Up_Display Welcome_Lights Battery  \\\n",
       "0            NaN         2              NaN            NaN     NaN   \n",
       "1            NaN         2              NaN            NaN     NaN   \n",
       "2            NaN         2              NaN            NaN     NaN   \n",
       "3            NaN         2              NaN            NaN     NaN   \n",
       "4            NaN         2              NaN            NaN     NaN   \n",
       "\n",
       "   Electric_Range   car_type  \n",
       "0             NaN  TataModel  \n",
       "1             NaN  TataModel  \n",
       "2             NaN  TataModel  \n",
       "3             NaN  TataModel  \n",
       "4             NaN  TataModel  \n",
       "\n",
       "[5 rows x 141 columns]"
      ]
     },
     "execution_count": 162,
     "metadata": {},
     "output_type": "execute_result"
    }
   ],
   "source": [
    "data.head()"
   ]
  },
  {
   "cell_type": "code",
   "execution_count": 163,
   "id": "4884e5ba",
   "metadata": {},
   "outputs": [
    {
     "data": {
      "text/plain": [
       "array(['Xt', 'Xe', 'Emax Xm', ..., 'Zx Mt Diesel', 'Zx Cvt Petrol',\n",
       "       '3.2 At'], dtype=object)"
      ]
     },
     "execution_count": 163,
     "metadata": {},
     "output_type": "execute_result"
    }
   ],
   "source": [
    "data['Variant'].unique()"
   ]
  },
  {
   "cell_type": "code",
   "execution_count": 164,
   "id": "6306f72b",
   "metadata": {},
   "outputs": [],
   "source": [
    "data['Variant']=data['Variant'].replace('...','NULL')"
   ]
  },
  {
   "cell_type": "code",
   "execution_count": 165,
   "id": "10b611c1",
   "metadata": {},
   "outputs": [
    {
     "data": {
      "text/plain": [
       "0"
      ]
     },
     "execution_count": 165,
     "metadata": {},
     "output_type": "execute_result"
    }
   ],
   "source": [
    "data['Variant'].isna().sum()"
   ]
  },
  {
   "cell_type": "code",
   "execution_count": 166,
   "id": "31530769",
   "metadata": {},
   "outputs": [
    {
     "data": {
      "text/plain": [
       "array([nan, 'Yes'], dtype=object)"
      ]
     },
     "execution_count": 166,
     "metadata": {},
     "output_type": "execute_result"
    }
   ],
   "source": [
    "data['Automatic_Headlamps'].unique()"
   ]
  },
  {
   "cell_type": "code",
   "execution_count": 167,
   "id": "ce81f1ee",
   "metadata": {},
   "outputs": [
    {
     "data": {
      "image/png": "[encoded data removed]",
      "text/plain": [
       "<Figure size 640x480 with 1 Axes>"
      ]
     },
     "metadata": {},
     "output_type": "display_data"
    }
   ],
   "source": [
    "import seaborn as sns\n",
    "import matplotlib.pyplot as plt\n",
    "plt.ticklabel_format(style='plain')\n",
    "\n",
    "sns.histplot(df['Ex-Showroom_Price'], kde=True)\n",
    "plt.xlabel('Ex-showroom Price')\n",
    "plt.title('Histogram Plot')\n",
    "plt.show()"
   ]
  },
  {
   "cell_type": "code",
   "execution_count": 178,
   "id": "2539e992",
   "metadata": {},
   "outputs": [
    {
     "data": {
      "image/png": "[encoded data removed]",
      "text/plain": [
       "<Figure size 640x480 with 1 Axes>"
      ]
     },
     "metadata": {},
     "output_type": "display_data"
    }
   ],
   "source": [
    "import seaborn as sns\n",
    "import matplotlib.pyplot as plt\n",
    "plt.ticklabel_format(style='plain')\n",
    "\n",
    "sns.histplot(df['USB_Ports'], kde=True)\n",
    "plt.xlabel('USB_Ports')\n",
    "plt.title('Histogram Plot')\n",
    "plt.show()"
   ]
  },
  {
   "cell_type": "code",
   "execution_count": 179,
   "id": "af4600c9",
   "metadata": {},
   "outputs": [
    {
     "data": {
      "image/png": "[encoded data removed]",
      "text/plain": [
       "<Figure size 640x480 with 1 Axes>"
      ]
     },
     "metadata": {},
     "output_type": "display_data"
    }
   ],
   "source": [
    "plt.scatter(data.index,data['Doors'])\n",
    "plt.show()"
   ]
  },
  {
   "cell_type": "code",
   "execution_count": 180,
   "id": "2b7cd07f",
   "metadata": {},
   "outputs": [
    {
     "data": {
      "text/plain": [
       "(array([  12.,    0.,    0.,    0.,    0., 1258.,    0.,    0.,    0.,\n",
       "           6.]),\n",
       " array([1. , 1.2, 1.4, 1.6, 1.8, 2. , 2.2, 2.4, 2.6, 2.8, 3. ]),\n",
       " <BarContainer object of 10 artists>)"
      ]
     },
     "execution_count": 180,
     "metadata": {},
     "output_type": "execute_result"
    },
    {
     "data": {
      "image/png": "[encoded data removed]",
      "text/plain": [
       "<Figure size 640x480 with 1 Axes>"
      ]
     },
     "metadata": {},
     "output_type": "display_data"
    }
   ],
   "source": [
    "plt.hist(data['USB_Ports'])"
   ]
  },
  {
   "cell_type": "code",
   "execution_count": 181,
   "id": "d8888763",
   "metadata": {},
   "outputs": [
    {
     "data": {
      "text/plain": [
       "<seaborn.axisgrid.FacetGrid at 0x15012fc8100>"
      ]
     },
     "execution_count": 181,
     "metadata": {},
     "output_type": "execute_result"
    },
    {
     "data": {
      "image/png": "[encoded data removed]",
      "text/plain": [
       "<Figure size 500x500 with 1 Axes>"
      ]
     },
     "metadata": {},
     "output_type": "display_data"
    }
   ],
   "source": [
    "sns.displot(data['Ex-Showroom_Price'])"
   ]
  },
  {
   "cell_type": "code",
   "execution_count": 182,
   "id": "e4db408c",
   "metadata": {},
   "outputs": [
    {
     "data": {
      "text/plain": [
       "<seaborn.axisgrid.FacetGrid at 0x15020193f10>"
      ]
     },
     "execution_count": 182,
     "metadata": {},
     "output_type": "execute_result"
    },
    {
     "data": {
      "image/png": "[encoded data removed]",
      "text/plain": [
       "<Figure size 500x500 with 1 Axes>"
      ]
     },
     "metadata": {},
     "output_type": "display_data"
    }
   ],
   "source": [
    "sns.displot(data['Number_of_Airbags'])"
   ]
  },
  {
   "cell_type": "code",
   "execution_count": 183,
   "id": "8d78bd37",
   "metadata": {},
   "outputs": [
    {
     "data": {
      "text/plain": [
       "{'whiskers': [<matplotlib.lines.Line2D at 0x150216763e0>,\n",
       "  <matplotlib.lines.Line2D at 0x15021676680>],\n",
       " 'caps': [<matplotlib.lines.Line2D at 0x15021676920>,\n",
       "  <matplotlib.lines.Line2D at 0x15021676bc0>],\n",
       " 'boxes': [<matplotlib.lines.Line2D at 0x15021676140>],\n",
       " 'medians': [<matplotlib.lines.Line2D at 0x15021676e60>],\n",
       " 'fliers': [<matplotlib.lines.Line2D at 0x15021677100>],\n",
       " 'means': []}"
      ]
     },
     "execution_count": 183,
     "metadata": {},
     "output_type": "execute_result"
    },
    {
     "data": {
      "image/png": "[encoded data removed]",
      "text/plain": [
       "<Figure size 640x480 with 1 Axes>"
      ]
     },
     "metadata": {},
     "output_type": "display_data"
    }
   ],
   "source": [
    "plt.boxplot(data['Cylinders'])"
   ]
  },
  {
   "cell_type": "code",
   "execution_count": 184,
   "id": "52e90ea9",
   "metadata": {},
   "outputs": [
    {
     "data": {
      "text/plain": [
       "{'whiskers': [<matplotlib.lines.Line2D at 0x150216fc790>,\n",
       "  <matplotlib.lines.Line2D at 0x150216fca30>],\n",
       " 'caps': [<matplotlib.lines.Line2D at 0x150216fccd0>,\n",
       "  <matplotlib.lines.Line2D at 0x150216fcf70>],\n",
       " 'boxes': [<matplotlib.lines.Line2D at 0x150216fc4f0>],\n",
       " 'medians': [<matplotlib.lines.Line2D at 0x150216fd210>],\n",
       " 'fliers': [<matplotlib.lines.Line2D at 0x150216fd4b0>],\n",
       " 'means': []}"
      ]
     },
     "execution_count": 184,
     "metadata": {},
     "output_type": "execute_result"
    },
    {
     "data": {
      "image/png": "[encoded data removed]",
      "text/plain": [
       "<Figure size 640x480 with 1 Axes>"
      ]
     },
     "metadata": {},
     "output_type": "display_data"
    }
   ],
   "source": [
    "plt.boxplot(data['Ex-Showroom_Price'])"
   ]
  },
  {
   "cell_type": "code",
   "execution_count": 185,
   "id": "89f9f0b3",
   "metadata": {},
   "outputs": [
    {
     "data": {
      "text/plain": [
       "<Axes: ylabel='count'>"
      ]
     },
     "execution_count": 185,
     "metadata": {},
     "output_type": "execute_result"
    },
    {
     "data": {
      "image/png": "[encoded data removed]",
      "text/plain": [
       "<Figure size 640x480 with 1 Axes>"
      ]
     },
     "metadata": {},
     "output_type": "display_data"
    }
   ],
   "source": [
    "sns.countplot(data['Ex-Showroom_Price'])"
   ]
  },
  {
   "cell_type": "code",
   "execution_count": 186,
   "id": "1293cd1d",
   "metadata": {},
   "outputs": [
    {
     "name": "stderr",
     "output_type": "stream",
     "text": [
      "C:\\Users\\RAKSHITHA\\anaconda3\\lib\\site-packages\\seaborn\\axisgrid.py:118: UserWarning: Tight layout not applied. The left and right margins cannot be made large enough to accommodate all axes decorations.\n",
      "  self._figure.tight_layout(*args, **kwargs)\n"
     ]
    },
    {
     "data": {
      "text/plain": [
       "<seaborn.axisgrid.FacetGrid at 0x1502161faf0>"
      ]
     },
     "execution_count": 186,
     "metadata": {},
     "output_type": "execute_result"
    },
    {
     "data": {
      "image/png": "[encoded data removed]",
      "text/plain": [
       "<Figure size 500x500 with 1 Axes>"
      ]
     },
     "metadata": {},
     "output_type": "display_data"
    }
   ],
   "source": [
    "sns.catplot(data=data, x=\"Doors\", y=\"Battery\", kind=\"box\")\n"
   ]
  },
  {
   "cell_type": "code",
   "execution_count": 187,
   "id": "c346338a",
   "metadata": {},
   "outputs": [
    {
     "data": {
      "text/plain": [
       "<seaborn.axisgrid.FacetGrid at 0x150218fd360>"
      ]
     },
     "execution_count": 187,
     "metadata": {},
     "output_type": "execute_result"
    },
    {
     "data": {
      "image/png": "[encoded data removed]",
      "text/plain": [
       "<Figure size 500x500 with 1 Axes>"
      ]
     },
     "metadata": {},
     "output_type": "display_data"
    }
   ],
   "source": [
    "sns.catplot(data=data, x=\"Ex-Showroom_Price\", y=\"USB_Ports\", kind=\"box\")\n"
   ]
  },
  {
   "cell_type": "code",
   "execution_count": 188,
   "id": "8f798ce3",
   "metadata": {},
   "outputs": [
    {
     "data": {
      "text/plain": [
       "<seaborn.axisgrid.FacetGrid at 0x15021cdc430>"
      ]
     },
     "execution_count": 188,
     "metadata": {},
     "output_type": "execute_result"
    },
    {
     "data": {
      "image/png": "[encoded data removed]",
      "text/plain": [
       "<Figure size 572.125x500 with 1 Axes>"
      ]
     },
     "metadata": {},
     "output_type": "display_data"
    }
   ],
   "source": [
    "\n",
    "sns.displot(data=data, x=\"Cylinders\", hue=\"Doors\", multiple=\"stack\")"
   ]
  },
  {
   "cell_type": "code",
   "execution_count": 193,
   "id": "49267e2f",
   "metadata": {},
   "outputs": [
    {
     "data": {
      "text/html": [
       "<div>\n",
       "<style scoped>\n",
       "    .dataframe tbody tr th:only-of-type {\n",
       "        vertical-align: middle;\n",
       "    }\n",
       "\n",
       "    .dataframe tbody tr th {\n",
       "        vertical-align: top;\n",
       "    }\n",
       "\n",
       "    .dataframe thead th {\n",
       "        text-align: right;\n",
       "    }\n",
       "</style>\n",
       "<table border=\"1\" class=\"dataframe\">\n",
       "  <thead>\n",
       "    <tr style=\"text-align: right;\">\n",
       "      <th></th>\n",
       "      <th>Make</th>\n",
       "      <th>Model</th>\n",
       "      <th>Variant</th>\n",
       "      <th>Ex-Showroom_Price</th>\n",
       "      <th>Displacement</th>\n",
       "      <th>Cylinders</th>\n",
       "      <th>Valves_Per_Cylinder</th>\n",
       "      <th>Drivetrain</th>\n",
       "      <th>Cylinder_Configuration</th>\n",
       "      <th>Emission_Norm</th>\n",
       "      <th>...</th>\n",
       "      <th>Automatic_Headlamps</th>\n",
       "      <th>Engine_Type</th>\n",
       "      <th>ASR_/_Traction_Control</th>\n",
       "      <th>Cruise_Control</th>\n",
       "      <th>USB_Ports</th>\n",
       "      <th>Heads-Up_Display</th>\n",
       "      <th>Welcome_Lights</th>\n",
       "      <th>Battery</th>\n",
       "      <th>Electric_Range</th>\n",
       "      <th>car_type</th>\n",
       "    </tr>\n",
       "  </thead>\n",
       "  <tbody>\n",
       "    <tr>\n",
       "      <th>1271</th>\n",
       "      <td>Honda</td>\n",
       "      <td>City</td>\n",
       "      <td>Vx Mt Diesel</td>\n",
       "      <td>1302000</td>\n",
       "      <td>1498 cc</td>\n",
       "      <td>4.0</td>\n",
       "      <td>4.0</td>\n",
       "      <td>4WD</td>\n",
       "      <td>In-line</td>\n",
       "      <td>BS IV</td>\n",
       "      <td>...</td>\n",
       "      <td>NaN</td>\n",
       "      <td>NaN</td>\n",
       "      <td>NaN</td>\n",
       "      <td>Yes</td>\n",
       "      <td>2</td>\n",
       "      <td>NaN</td>\n",
       "      <td>NaN</td>\n",
       "      <td>NaN</td>\n",
       "      <td>NaN</td>\n",
       "      <td>HondaModel</td>\n",
       "    </tr>\n",
       "    <tr>\n",
       "      <th>1272</th>\n",
       "      <td>Honda</td>\n",
       "      <td>City</td>\n",
       "      <td>Zx Mt Diesel</td>\n",
       "      <td>1421000</td>\n",
       "      <td>1498 cc</td>\n",
       "      <td>4.0</td>\n",
       "      <td>4.0</td>\n",
       "      <td>4WD</td>\n",
       "      <td>In-line</td>\n",
       "      <td>BS IV</td>\n",
       "      <td>...</td>\n",
       "      <td>Yes</td>\n",
       "      <td>NaN</td>\n",
       "      <td>NaN</td>\n",
       "      <td>Yes</td>\n",
       "      <td>2</td>\n",
       "      <td>NaN</td>\n",
       "      <td>NaN</td>\n",
       "      <td>NaN</td>\n",
       "      <td>NaN</td>\n",
       "      <td>HondaModel</td>\n",
       "    </tr>\n",
       "    <tr>\n",
       "      <th>1273</th>\n",
       "      <td>Honda</td>\n",
       "      <td>City</td>\n",
       "      <td>Zx Cvt Petrol</td>\n",
       "      <td>1431000</td>\n",
       "      <td>1497 cc</td>\n",
       "      <td>4.0</td>\n",
       "      <td>4.0</td>\n",
       "      <td>4WD</td>\n",
       "      <td>In-line</td>\n",
       "      <td>BS 6</td>\n",
       "      <td>...</td>\n",
       "      <td>Yes</td>\n",
       "      <td>NaN</td>\n",
       "      <td>NaN</td>\n",
       "      <td>Yes</td>\n",
       "      <td>2</td>\n",
       "      <td>NaN</td>\n",
       "      <td>NaN</td>\n",
       "      <td>NaN</td>\n",
       "      <td>NaN</td>\n",
       "      <td>HondaModel</td>\n",
       "    </tr>\n",
       "    <tr>\n",
       "      <th>1274</th>\n",
       "      <td>Honda</td>\n",
       "      <td>City</td>\n",
       "      <td>V Cvt Petrol</td>\n",
       "      <td>1201000</td>\n",
       "      <td>1497 cc</td>\n",
       "      <td>4.0</td>\n",
       "      <td>4.0</td>\n",
       "      <td>4WD</td>\n",
       "      <td>In-line</td>\n",
       "      <td>BS 6</td>\n",
       "      <td>...</td>\n",
       "      <td>NaN</td>\n",
       "      <td>NaN</td>\n",
       "      <td>NaN</td>\n",
       "      <td>Yes</td>\n",
       "      <td>2</td>\n",
       "      <td>NaN</td>\n",
       "      <td>NaN</td>\n",
       "      <td>NaN</td>\n",
       "      <td>NaN</td>\n",
       "      <td>HondaModel</td>\n",
       "    </tr>\n",
       "    <tr>\n",
       "      <th>1275</th>\n",
       "      <td>Mitsubishi</td>\n",
       "      <td>Montero</td>\n",
       "      <td>3.2 At</td>\n",
       "      <td>6862560</td>\n",
       "      <td>3200 cc</td>\n",
       "      <td>4.0</td>\n",
       "      <td>5.0</td>\n",
       "      <td>4WD</td>\n",
       "      <td>In-line</td>\n",
       "      <td>BS IV</td>\n",
       "      <td>...</td>\n",
       "      <td>NaN</td>\n",
       "      <td>NaN</td>\n",
       "      <td>Yes</td>\n",
       "      <td>Yes</td>\n",
       "      <td>2</td>\n",
       "      <td>NaN</td>\n",
       "      <td>NaN</td>\n",
       "      <td>NaN</td>\n",
       "      <td>NaN</td>\n",
       "      <td>MitsubishiModel</td>\n",
       "    </tr>\n",
       "  </tbody>\n",
       "</table>\n",
       "<p>5 rows × 141 columns</p>\n",
       "</div>"
      ],
      "text/plain": [
       "            Make    Model        Variant  Ex-Showroom_Price Displacement  \\\n",
       "1271       Honda     City   Vx Mt Diesel            1302000      1498 cc   \n",
       "1272       Honda     City   Zx Mt Diesel            1421000      1498 cc   \n",
       "1273       Honda     City  Zx Cvt Petrol            1431000      1497 cc   \n",
       "1274       Honda     City   V Cvt Petrol            1201000      1497 cc   \n",
       "1275  Mitsubishi  Montero         3.2 At            6862560      3200 cc   \n",
       "\n",
       "      Cylinders  Valves_Per_Cylinder Drivetrain Cylinder_Configuration  \\\n",
       "1271        4.0                  4.0        4WD                In-line   \n",
       "1272        4.0                  4.0        4WD                In-line   \n",
       "1273        4.0                  4.0        4WD                In-line   \n",
       "1274        4.0                  4.0        4WD                In-line   \n",
       "1275        4.0                  5.0        4WD                In-line   \n",
       "\n",
       "     Emission_Norm  ... Automatic_Headlamps Engine_Type  \\\n",
       "1271         BS IV  ...                 NaN         NaN   \n",
       "1272         BS IV  ...                 Yes         NaN   \n",
       "1273          BS 6  ...                 Yes         NaN   \n",
       "1274          BS 6  ...                 NaN         NaN   \n",
       "1275         BS IV  ...                 NaN         NaN   \n",
       "\n",
       "     ASR_/_Traction_Control Cruise_Control USB_Ports Heads-Up_Display  \\\n",
       "1271                    NaN            Yes         2              NaN   \n",
       "1272                    NaN            Yes         2              NaN   \n",
       "1273                    NaN            Yes         2              NaN   \n",
       "1274                    NaN            Yes         2              NaN   \n",
       "1275                    Yes            Yes         2              NaN   \n",
       "\n",
       "     Welcome_Lights Battery  Electric_Range         car_type  \n",
       "1271            NaN     NaN             NaN       HondaModel  \n",
       "1272            NaN     NaN             NaN       HondaModel  \n",
       "1273            NaN     NaN             NaN       HondaModel  \n",
       "1274            NaN     NaN             NaN       HondaModel  \n",
       "1275            NaN     NaN             NaN  MitsubishiModel  \n",
       "\n",
       "[5 rows x 141 columns]"
      ]
     },
     "execution_count": 193,
     "metadata": {},
     "output_type": "execute_result"
    }
   ],
   "source": [
    "data.tail()"
   ]
  },
  {
   "cell_type": "code",
   "execution_count": null,
   "id": "ffb724ec",
   "metadata": {},
   "outputs": [],
   "source": []
  },
  {
   "cell_type": "code",
   "execution_count": null,
   "id": "ef88d946",
   "metadata": {},
   "outputs": [],
   "source": []
  },
  {
   "cell_type": "code",
   "execution_count": null,
   "id": "837c62a4",
   "metadata": {},
   "outputs": [],
   "source": []
  },
  {
   "cell_type": "code",
   "execution_count": null,
   "id": "15f8e845",
   "metadata": {},
   "outputs": [],
   "source": []
  }
 ],
 "metadata": {
  "kernelspec": {
   "display_name": "Python 3 (ipykernel)",
   "language": "python",
   "name": "python3"
  },
  "language_info": {
   "codemirror_mode": {
    "name": "ipython",
    "version": 3
   },
   "file_extension": ".py",
   "mimetype": "text/x-python",
   "name": "python",
   "nbconvert_exporter": "python",
   "pygments_lexer": "ipython3",
   "version": "3.10.9"
  }
 },
 "nbformat": 4,
 "nbformat_minor": 5
}
