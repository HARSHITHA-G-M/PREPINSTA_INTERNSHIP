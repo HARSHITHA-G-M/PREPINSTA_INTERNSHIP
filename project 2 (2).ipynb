{
 "cells": [
  {
   "cell_type": "code",
   "execution_count": null,
   "id": "2257b3da",
   "metadata": {},
   "outputs": [],
   "source": [
    "positions = ['G', 'G', 'G', '-', 'B', 'B', 'B']\n",
    "print(\"[ 0 ,  1 ,  2 ,  3 ,  4 ,  5 ,  6 ]\")\n",
    "print(positions)\n",
    "\n",
    "# Step 2\n",
    "while True:\n",
    "    # Step 3\n",
    "    user_input = input(\"Press 'q' to quit else Enter position of piece: \")\n",
    "    \n",
    "    # Step 4\n",
    "    if user_input == 'q':\n",
    "        print(\"You Lose\")\n",
    "        break\n",
    "\n",
    "    selected_position = int(user_input)\n",
    "\n",
    "    # Step 5\n",
    "    if selected_position < 0 or selected_position > 6:\n",
    "        print(\"Invalid Move\")\n",
    "        continue\n",
    "\n",
    "    # Step 6\n",
    "    if positions[selected_position] == '-':\n",
    "        print(\"Invalid Move\")\n",
    "        continue\n",
    "\n",
    "    # Step 7\n",
    "    pos2 = 0\n",
    "\n",
    "    if positions[selected_position] == 'G':\n",
    "        if selected_position + 1 <= 6 and positions[selected_position + 1] == '-':\n",
    "            pos2 = selected_position + 1\n",
    "        elif selected_position + 2 <= 6 and positions[selected_position + 2] == '-' and positions[selected_position + 1] == 'B':\n",
    "            pos2 = selected_position + 2\n",
    "        else:\n",
    "            print(\"Invalid Move\")\n",
    "            continue\n",
    "    elif positions[selected_position] == 'B':\n",
    "        if selected_position - 1 >= 0 and positions[selected_position - 1] == '-':\n",
    "            pos2 = selected_position - 1\n",
    "        elif selected_position - 2 >= 0 and positions[selected_position - 2] == '-' and positions[selected_position - 1] == 'G':\n",
    "            pos2 = selected_position - 2\n",
    "        else:\n",
    "            print(\"Invalid Move\")\n",
    "            continue\n",
    "\n",
    "    # Step 8\n",
    "    positions[selected_position], positions[pos2] = positions[pos2], positions[selected_position]\n",
    "\n",
    "    # Step 9\n",
    "    print(\"[ 0 ,  1 ,  2 ,  3 ,  4 ,  5 ,  6 ]\")\n",
    "    print(positions)\n",
    "\n",
    "    # Step 10\n",
    "    if positions == ['B', 'B', 'B', '-', 'G', 'G', 'G']:\n",
    "        print(\"You Win\")\n",
    "        break"
   ]
  },
  {
   "cell_type": "code",
   "execution_count": null,
   "id": "6d5f1f6c",
   "metadata": {},
   "outputs": [],
   "source": []
  }
 ],
 "metadata": {
  "kernelspec": {
   "display_name": "Python 3 (ipykernel)",
   "language": "python",
   "name": "python3"
  },
  "language_info": {
   "codemirror_mode": {
    "name": "ipython",
    "version": 3
   },
   "file_extension": ".py",
   "mimetype": "text/x-python",
   "name": "python",
   "nbconvert_exporter": "python",
   "pygments_lexer": "ipython3",
   "version": "3.10.9"
  }
 },
 "nbformat": 4,
 "nbformat_minor": 5
}
