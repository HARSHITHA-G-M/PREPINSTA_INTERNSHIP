{
 "cells": [
  {
   "cell_type": "code",
   "execution_count": 40,
   "id": "69356e07",
   "metadata": {},
   "outputs": [],
   "source": [
    "import numpy as np\n",
    "import pandas as pd"
   ]
  },
  {
   "cell_type": "code",
   "execution_count": 45,
   "id": "a6558a9b",
   "metadata": {},
   "outputs": [],
   "source": [
    "data=pd.read_csv('train.csv',index_col=0)"
   ]
  },
  {
   "cell_type": "code",
   "execution_count": 46,
   "id": "ae9cb4cd",
   "metadata": {},
   "outputs": [
    {
     "data": {
      "text/html": [
       "<div>\n",
       "<style scoped>\n",
       "    .dataframe tbody tr th:only-of-type {\n",
       "        vertical-align: middle;\n",
       "    }\n",
       "\n",
       "    .dataframe tbody tr th {\n",
       "        vertical-align: top;\n",
       "    }\n",
       "\n",
       "    .dataframe thead th {\n",
       "        text-align: right;\n",
       "    }\n",
       "</style>\n",
       "<table border=\"1\" class=\"dataframe\">\n",
       "  <thead>\n",
       "    <tr style=\"text-align: right;\">\n",
       "      <th></th>\n",
       "      <th>Order ID</th>\n",
       "      <th>Order Date</th>\n",
       "      <th>Ship Date</th>\n",
       "      <th>Ship Mode</th>\n",
       "      <th>Customer ID</th>\n",
       "      <th>Customer Name</th>\n",
       "      <th>Segment</th>\n",
       "      <th>Country</th>\n",
       "      <th>City</th>\n",
       "      <th>State</th>\n",
       "      <th>Postal Code</th>\n",
       "      <th>Region</th>\n",
       "      <th>Product ID</th>\n",
       "      <th>Category</th>\n",
       "      <th>Sub-Category</th>\n",
       "      <th>Product Name</th>\n",
       "      <th>Sales</th>\n",
       "    </tr>\n",
       "    <tr>\n",
       "      <th>Row ID</th>\n",
       "      <th></th>\n",
       "      <th></th>\n",
       "      <th></th>\n",
       "      <th></th>\n",
       "      <th></th>\n",
       "      <th></th>\n",
       "      <th></th>\n",
       "      <th></th>\n",
       "      <th></th>\n",
       "      <th></th>\n",
       "      <th></th>\n",
       "      <th></th>\n",
       "      <th></th>\n",
       "      <th></th>\n",
       "      <th></th>\n",
       "      <th></th>\n",
       "      <th></th>\n",
       "    </tr>\n",
       "  </thead>\n",
       "  <tbody>\n",
       "    <tr>\n",
       "      <th>1</th>\n",
       "      <td>CA-2017-152156</td>\n",
       "      <td>08/11/2017</td>\n",
       "      <td>11/11/2017</td>\n",
       "      <td>Second Class</td>\n",
       "      <td>CG-12520</td>\n",
       "      <td>Claire Gute</td>\n",
       "      <td>Consumer</td>\n",
       "      <td>United States</td>\n",
       "      <td>Henderson</td>\n",
       "      <td>Kentucky</td>\n",
       "      <td>42420.0</td>\n",
       "      <td>South</td>\n",
       "      <td>FUR-BO-10001798</td>\n",
       "      <td>Furniture</td>\n",
       "      <td>Bookcases</td>\n",
       "      <td>Bush Somerset Collection Bookcase</td>\n",
       "      <td>261.9600</td>\n",
       "    </tr>\n",
       "    <tr>\n",
       "      <th>2</th>\n",
       "      <td>CA-2017-152156</td>\n",
       "      <td>08/11/2017</td>\n",
       "      <td>11/11/2017</td>\n",
       "      <td>Second Class</td>\n",
       "      <td>CG-12520</td>\n",
       "      <td>Claire Gute</td>\n",
       "      <td>Consumer</td>\n",
       "      <td>United States</td>\n",
       "      <td>Henderson</td>\n",
       "      <td>Kentucky</td>\n",
       "      <td>42420.0</td>\n",
       "      <td>South</td>\n",
       "      <td>FUR-CH-10000454</td>\n",
       "      <td>Furniture</td>\n",
       "      <td>Chairs</td>\n",
       "      <td>Hon Deluxe Fabric Upholstered Stacking Chairs,...</td>\n",
       "      <td>731.9400</td>\n",
       "    </tr>\n",
       "    <tr>\n",
       "      <th>3</th>\n",
       "      <td>CA-2017-138688</td>\n",
       "      <td>12/06/2017</td>\n",
       "      <td>16/06/2017</td>\n",
       "      <td>Second Class</td>\n",
       "      <td>DV-13045</td>\n",
       "      <td>Darrin Van Huff</td>\n",
       "      <td>Corporate</td>\n",
       "      <td>United States</td>\n",
       "      <td>Los Angeles</td>\n",
       "      <td>California</td>\n",
       "      <td>90036.0</td>\n",
       "      <td>West</td>\n",
       "      <td>OFF-LA-10000240</td>\n",
       "      <td>Office Supplies</td>\n",
       "      <td>Labels</td>\n",
       "      <td>Self-Adhesive Address Labels for Typewriters b...</td>\n",
       "      <td>14.6200</td>\n",
       "    </tr>\n",
       "    <tr>\n",
       "      <th>4</th>\n",
       "      <td>US-2016-108966</td>\n",
       "      <td>11/10/2016</td>\n",
       "      <td>18/10/2016</td>\n",
       "      <td>Standard Class</td>\n",
       "      <td>SO-20335</td>\n",
       "      <td>Sean O'Donnell</td>\n",
       "      <td>Consumer</td>\n",
       "      <td>United States</td>\n",
       "      <td>Fort Lauderdale</td>\n",
       "      <td>Florida</td>\n",
       "      <td>33311.0</td>\n",
       "      <td>South</td>\n",
       "      <td>FUR-TA-10000577</td>\n",
       "      <td>Furniture</td>\n",
       "      <td>Tables</td>\n",
       "      <td>Bretford CR4500 Series Slim Rectangular Table</td>\n",
       "      <td>957.5775</td>\n",
       "    </tr>\n",
       "    <tr>\n",
       "      <th>5</th>\n",
       "      <td>US-2016-108966</td>\n",
       "      <td>11/10/2016</td>\n",
       "      <td>18/10/2016</td>\n",
       "      <td>Standard Class</td>\n",
       "      <td>SO-20335</td>\n",
       "      <td>Sean O'Donnell</td>\n",
       "      <td>Consumer</td>\n",
       "      <td>United States</td>\n",
       "      <td>Fort Lauderdale</td>\n",
       "      <td>Florida</td>\n",
       "      <td>33311.0</td>\n",
       "      <td>South</td>\n",
       "      <td>OFF-ST-10000760</td>\n",
       "      <td>Office Supplies</td>\n",
       "      <td>Storage</td>\n",
       "      <td>Eldon Fold 'N Roll Cart System</td>\n",
       "      <td>22.3680</td>\n",
       "    </tr>\n",
       "    <tr>\n",
       "      <th>6</th>\n",
       "      <td>CA-2015-115812</td>\n",
       "      <td>09/06/2015</td>\n",
       "      <td>14/06/2015</td>\n",
       "      <td>Standard Class</td>\n",
       "      <td>BH-11710</td>\n",
       "      <td>Brosina Hoffman</td>\n",
       "      <td>Consumer</td>\n",
       "      <td>United States</td>\n",
       "      <td>Los Angeles</td>\n",
       "      <td>California</td>\n",
       "      <td>90032.0</td>\n",
       "      <td>West</td>\n",
       "      <td>FUR-FU-10001487</td>\n",
       "      <td>Furniture</td>\n",
       "      <td>Furnishings</td>\n",
       "      <td>Eldon Expressions Wood and Plastic Desk Access...</td>\n",
       "      <td>48.8600</td>\n",
       "    </tr>\n",
       "    <tr>\n",
       "      <th>7</th>\n",
       "      <td>CA-2015-115812</td>\n",
       "      <td>09/06/2015</td>\n",
       "      <td>14/06/2015</td>\n",
       "      <td>Standard Class</td>\n",
       "      <td>BH-11710</td>\n",
       "      <td>Brosina Hoffman</td>\n",
       "      <td>Consumer</td>\n",
       "      <td>United States</td>\n",
       "      <td>Los Angeles</td>\n",
       "      <td>California</td>\n",
       "      <td>90032.0</td>\n",
       "      <td>West</td>\n",
       "      <td>OFF-AR-10002833</td>\n",
       "      <td>Office Supplies</td>\n",
       "      <td>Art</td>\n",
       "      <td>Newell 322</td>\n",
       "      <td>7.2800</td>\n",
       "    </tr>\n",
       "  </tbody>\n",
       "</table>\n",
       "</div>"
      ],
      "text/plain": [
       "              Order ID  Order Date   Ship Date       Ship Mode Customer ID  \\\n",
       "Row ID                                                                       \n",
       "1       CA-2017-152156  08/11/2017  11/11/2017    Second Class    CG-12520   \n",
       "2       CA-2017-152156  08/11/2017  11/11/2017    Second Class    CG-12520   \n",
       "3       CA-2017-138688  12/06/2017  16/06/2017    Second Class    DV-13045   \n",
       "4       US-2016-108966  11/10/2016  18/10/2016  Standard Class    SO-20335   \n",
       "5       US-2016-108966  11/10/2016  18/10/2016  Standard Class    SO-20335   \n",
       "6       CA-2015-115812  09/06/2015  14/06/2015  Standard Class    BH-11710   \n",
       "7       CA-2015-115812  09/06/2015  14/06/2015  Standard Class    BH-11710   \n",
       "\n",
       "          Customer Name    Segment        Country             City  \\\n",
       "Row ID                                                               \n",
       "1           Claire Gute   Consumer  United States        Henderson   \n",
       "2           Claire Gute   Consumer  United States        Henderson   \n",
       "3       Darrin Van Huff  Corporate  United States      Los Angeles   \n",
       "4        Sean O'Donnell   Consumer  United States  Fort Lauderdale   \n",
       "5        Sean O'Donnell   Consumer  United States  Fort Lauderdale   \n",
       "6       Brosina Hoffman   Consumer  United States      Los Angeles   \n",
       "7       Brosina Hoffman   Consumer  United States      Los Angeles   \n",
       "\n",
       "             State  Postal Code Region       Product ID         Category  \\\n",
       "Row ID                                                                     \n",
       "1         Kentucky      42420.0  South  FUR-BO-10001798        Furniture   \n",
       "2         Kentucky      42420.0  South  FUR-CH-10000454        Furniture   \n",
       "3       California      90036.0   West  OFF-LA-10000240  Office Supplies   \n",
       "4          Florida      33311.0  South  FUR-TA-10000577        Furniture   \n",
       "5          Florida      33311.0  South  OFF-ST-10000760  Office Supplies   \n",
       "6       California      90032.0   West  FUR-FU-10001487        Furniture   \n",
       "7       California      90032.0   West  OFF-AR-10002833  Office Supplies   \n",
       "\n",
       "       Sub-Category                                       Product Name  \\\n",
       "Row ID                                                                   \n",
       "1         Bookcases                  Bush Somerset Collection Bookcase   \n",
       "2            Chairs  Hon Deluxe Fabric Upholstered Stacking Chairs,...   \n",
       "3            Labels  Self-Adhesive Address Labels for Typewriters b...   \n",
       "4            Tables      Bretford CR4500 Series Slim Rectangular Table   \n",
       "5           Storage                     Eldon Fold 'N Roll Cart System   \n",
       "6       Furnishings  Eldon Expressions Wood and Plastic Desk Access...   \n",
       "7               Art                                         Newell 322   \n",
       "\n",
       "           Sales  \n",
       "Row ID            \n",
       "1       261.9600  \n",
       "2       731.9400  \n",
       "3        14.6200  \n",
       "4       957.5775  \n",
       "5        22.3680  \n",
       "6        48.8600  \n",
       "7         7.2800  "
      ]
     },
     "execution_count": 46,
     "metadata": {},
     "output_type": "execute_result"
    }
   ],
   "source": [
    "data.head(7)"
   ]
  },
  {
   "cell_type": "code",
   "execution_count": 8,
   "id": "a682a5d7",
   "metadata": {},
   "outputs": [
    {
     "data": {
      "text/html": [
       "<div>\n",
       "<style scoped>\n",
       "    .dataframe tbody tr th:only-of-type {\n",
       "        vertical-align: middle;\n",
       "    }\n",
       "\n",
       "    .dataframe tbody tr th {\n",
       "        vertical-align: top;\n",
       "    }\n",
       "\n",
       "    .dataframe thead th {\n",
       "        text-align: right;\n",
       "    }\n",
       "</style>\n",
       "<table border=\"1\" class=\"dataframe\">\n",
       "  <thead>\n",
       "    <tr style=\"text-align: right;\">\n",
       "      <th></th>\n",
       "      <th>Postal Code</th>\n",
       "      <th>Sales</th>\n",
       "    </tr>\n",
       "  </thead>\n",
       "  <tbody>\n",
       "    <tr>\n",
       "      <th>count</th>\n",
       "      <td>9789.000000</td>\n",
       "      <td>9800.000000</td>\n",
       "    </tr>\n",
       "    <tr>\n",
       "      <th>mean</th>\n",
       "      <td>55273.322403</td>\n",
       "      <td>230.769059</td>\n",
       "    </tr>\n",
       "    <tr>\n",
       "      <th>std</th>\n",
       "      <td>32041.223413</td>\n",
       "      <td>626.651875</td>\n",
       "    </tr>\n",
       "    <tr>\n",
       "      <th>min</th>\n",
       "      <td>1040.000000</td>\n",
       "      <td>0.444000</td>\n",
       "    </tr>\n",
       "    <tr>\n",
       "      <th>25%</th>\n",
       "      <td>23223.000000</td>\n",
       "      <td>17.248000</td>\n",
       "    </tr>\n",
       "    <tr>\n",
       "      <th>50%</th>\n",
       "      <td>58103.000000</td>\n",
       "      <td>54.490000</td>\n",
       "    </tr>\n",
       "    <tr>\n",
       "      <th>75%</th>\n",
       "      <td>90008.000000</td>\n",
       "      <td>210.605000</td>\n",
       "    </tr>\n",
       "    <tr>\n",
       "      <th>max</th>\n",
       "      <td>99301.000000</td>\n",
       "      <td>22638.480000</td>\n",
       "    </tr>\n",
       "  </tbody>\n",
       "</table>\n",
       "</div>"
      ],
      "text/plain": [
       "        Postal Code         Sales\n",
       "count   9789.000000   9800.000000\n",
       "mean   55273.322403    230.769059\n",
       "std    32041.223413    626.651875\n",
       "min     1040.000000      0.444000\n",
       "25%    23223.000000     17.248000\n",
       "50%    58103.000000     54.490000\n",
       "75%    90008.000000    210.605000\n",
       "max    99301.000000  22638.480000"
      ]
     },
     "execution_count": 8,
     "metadata": {},
     "output_type": "execute_result"
    }
   ],
   "source": [
    "data.describe()"
   ]
  },
  {
   "cell_type": "code",
   "execution_count": 20,
   "id": "43096e41",
   "metadata": {},
   "outputs": [
    {
     "data": {
      "text/plain": [
       "dtype('float64')"
      ]
     },
     "execution_count": 20,
     "metadata": {},
     "output_type": "execute_result"
    }
   ],
   "source": [
    "data['Postal Code'].dtype"
   ]
  },
  {
   "cell_type": "code",
   "execution_count": 22,
   "id": "c70d195c",
   "metadata": {},
   "outputs": [],
   "source": [
    "data['Postal Code'] = data['Postal Code'].astype(float).round().astype('Int64')"
   ]
  },
  {
   "cell_type": "code",
   "execution_count": 23,
   "id": "5b66aece",
   "metadata": {},
   "outputs": [
    {
     "data": {
      "text/plain": [
       "Row ID\n",
       "1    42420\n",
       "2    42420\n",
       "3    90036\n",
       "4    33311\n",
       "5    33311\n",
       "Name: Postal Code, dtype: Int64"
      ]
     },
     "execution_count": 23,
     "metadata": {},
     "output_type": "execute_result"
    }
   ],
   "source": [
    "data['Postal Code'].head()"
   ]
  },
  {
   "cell_type": "code",
   "execution_count": 24,
   "id": "576f3693",
   "metadata": {},
   "outputs": [
    {
     "data": {
      "text/plain": [
       "dtype('float64')"
      ]
     },
     "execution_count": 24,
     "metadata": {},
     "output_type": "execute_result"
    }
   ],
   "source": [
    "data['Sales'].dtype"
   ]
  },
  {
   "cell_type": "code",
   "execution_count": 25,
   "id": "3f8e9a4c",
   "metadata": {},
   "outputs": [
    {
     "data": {
      "text/plain": [
       "array([261.96 , 731.94 ,  14.62 , ..., 235.188,  26.376,  10.384])"
      ]
     },
     "execution_count": 25,
     "metadata": {},
     "output_type": "execute_result"
    }
   ],
   "source": [
    "data['Sales'].unique()"
   ]
  },
  {
   "cell_type": "code",
   "execution_count": 36,
   "id": "eaf16537",
   "metadata": {},
   "outputs": [],
   "source": [
    "data['Sales']=data['Sales'].apply(lambda x: round(x, 1))"
   ]
  },
  {
   "cell_type": "code",
   "execution_count": 38,
   "id": "f124ebdf",
   "metadata": {},
   "outputs": [
    {
     "data": {
      "text/plain": [
       "Row ID\n",
       "1    262.0\n",
       "2    731.9\n",
       "3     14.6\n",
       "4    957.6\n",
       "5     22.4\n",
       "Name: Sales, dtype: float64"
      ]
     },
     "execution_count": 38,
     "metadata": {},
     "output_type": "execute_result"
    }
   ],
   "source": [
    "data['Sales'].head()"
   ]
  },
  {
   "cell_type": "code",
   "execution_count": 42,
   "id": "9449089a",
   "metadata": {},
   "outputs": [],
   "source": [
    "data['Sales']=data['Sales'].replace('...', np.nan)"
   ]
  },
  {
   "cell_type": "code",
   "execution_count": 44,
   "id": "67ef2d6e",
   "metadata": {},
   "outputs": [
    {
     "data": {
      "text/plain": [
       "Row ID\n",
       "1       262.0\n",
       "2       731.9\n",
       "3        14.6\n",
       "4       957.6\n",
       "5        22.4\n",
       "        ...  \n",
       "9796      3.8\n",
       "9797     10.4\n",
       "9798    235.2\n",
       "9799     26.4\n",
       "9800     10.4\n",
       "Name: Sales, Length: 9800, dtype: float64"
      ]
     },
     "execution_count": 44,
     "metadata": {},
     "output_type": "execute_result"
    }
   ],
   "source": [
    "data['Sales']"
   ]
  },
  {
   "cell_type": "code",
   "execution_count": 47,
   "id": "21417a0d",
   "metadata": {},
   "outputs": [
    {
     "data": {
      "text/plain": [
       "array(['CA-2017-152156', 'CA-2017-138688', 'US-2016-108966', ...,\n",
       "       'CA-2015-127166', 'CA-2017-125920', 'CA-2016-128608'], dtype=object)"
      ]
     },
     "execution_count": 47,
     "metadata": {},
     "output_type": "execute_result"
    }
   ],
   "source": [
    "data['Order ID'].unique()"
   ]
  },
  {
   "cell_type": "code",
   "execution_count": 48,
   "id": "9f0d5b20",
   "metadata": {},
   "outputs": [
    {
     "data": {
      "text/plain": [
       "array(['08/11/2017', '12/06/2017', '11/10/2016', ..., '18/06/2015',\n",
       "       '28/02/2018', '09/05/2016'], dtype=object)"
      ]
     },
     "execution_count": 48,
     "metadata": {},
     "output_type": "execute_result"
    }
   ],
   "source": [
    "data['Order Date'].unique()"
   ]
  },
  {
   "cell_type": "code",
   "execution_count": 50,
   "id": "cb1c669e",
   "metadata": {},
   "outputs": [
    {
     "data": {
      "text/plain": [
       "0"
      ]
     },
     "execution_count": 50,
     "metadata": {},
     "output_type": "execute_result"
    }
   ],
   "source": [
    "data['Order Date'].isna().sum()"
   ]
  },
  {
   "cell_type": "code",
   "execution_count": 51,
   "id": "4b92981b",
   "metadata": {},
   "outputs": [
    {
     "data": {
      "text/plain": [
       "dtype('O')"
      ]
     },
     "execution_count": 51,
     "metadata": {},
     "output_type": "execute_result"
    }
   ],
   "source": [
    "data['Order Date'].dtype"
   ]
  },
  {
   "cell_type": "code",
   "execution_count": null,
   "id": "2902544f",
   "metadata": {},
   "outputs": [],
   "source": [
    "data[]"
   ]
  },
  {
   "cell_type": "code",
   "execution_count": 56,
   "id": "573a18d4",
   "metadata": {},
   "outputs": [],
   "source": [
    "data['Order Date'] = pd.to_datetime(data['Order Date'], format='%d/%m/%Y')"
   ]
  },
  {
   "cell_type": "code",
   "execution_count": 57,
   "id": "1dae809c",
   "metadata": {},
   "outputs": [
    {
     "data": {
      "text/plain": [
       "dtype('<M8[ns]')"
      ]
     },
     "execution_count": 57,
     "metadata": {},
     "output_type": "execute_result"
    }
   ],
   "source": [
    "data['Order Date'].dtype"
   ]
  },
  {
   "cell_type": "code",
   "execution_count": 58,
   "id": "195fd656",
   "metadata": {},
   "outputs": [
    {
     "data": {
      "text/plain": [
       "dtype('O')"
      ]
     },
     "execution_count": 58,
     "metadata": {},
     "output_type": "execute_result"
    }
   ],
   "source": [
    "data['Ship Date'].dtype"
   ]
  },
  {
   "cell_type": "code",
   "execution_count": 59,
   "id": "ada905c9",
   "metadata": {},
   "outputs": [],
   "source": [
    "data['Ship Date']=pd.to_datetime(data['Ship Date'], format='%d/%m/%Y')"
   ]
  },
  {
   "cell_type": "code",
   "execution_count": 60,
   "id": "64665017",
   "metadata": {},
   "outputs": [
    {
     "data": {
      "text/plain": [
       "dtype('<M8[ns]')"
      ]
     },
     "execution_count": 60,
     "metadata": {},
     "output_type": "execute_result"
    }
   ],
   "source": [
    "data['Ship Date'].dtype"
   ]
  },
  {
   "cell_type": "code",
   "execution_count": 61,
   "id": "b3be97e3",
   "metadata": {},
   "outputs": [
    {
     "data": {
      "text/plain": [
       "dtype('O')"
      ]
     },
     "execution_count": 61,
     "metadata": {},
     "output_type": "execute_result"
    }
   ],
   "source": [
    "data['Ship Mode'].dtype"
   ]
  },
  {
   "cell_type": "code",
   "execution_count": 62,
   "id": "64802a09",
   "metadata": {},
   "outputs": [
    {
     "data": {
      "text/plain": [
       "array(['Second Class', 'Standard Class', 'First Class', 'Same Day'],\n",
       "      dtype=object)"
      ]
     },
     "execution_count": 62,
     "metadata": {},
     "output_type": "execute_result"
    }
   ],
   "source": [
    "data['Ship Mode'].unique()"
   ]
  },
  {
   "cell_type": "code",
   "execution_count": 63,
   "id": "6100afca",
   "metadata": {},
   "outputs": [
    {
     "data": {
      "text/plain": [
       "0"
      ]
     },
     "execution_count": 63,
     "metadata": {},
     "output_type": "execute_result"
    }
   ],
   "source": [
    "data['Ship Mode'].isna().sum()"
   ]
  },
  {
   "cell_type": "code",
   "execution_count": 66,
   "id": "0cec9e70",
   "metadata": {},
   "outputs": [
    {
     "data": {
      "text/plain": [
       "0"
      ]
     },
     "execution_count": 66,
     "metadata": {},
     "output_type": "execute_result"
    }
   ],
   "source": [
    "data['Customer ID'].isna().sum()"
   ]
  },
  {
   "cell_type": "code",
   "execution_count": 68,
   "id": "df2c576a",
   "metadata": {},
   "outputs": [
    {
     "data": {
      "text/plain": [
       "dtype('O')"
      ]
     },
     "execution_count": 68,
     "metadata": {},
     "output_type": "execute_result"
    }
   ],
   "source": [
    "data['Customer ID'].dtype"
   ]
  },
  {
   "cell_type": "code",
   "execution_count": 67,
   "id": "91b2c3fa",
   "metadata": {},
   "outputs": [
    {
     "data": {
      "text/plain": [
       "array(['CG-12520', 'DV-13045', 'SO-20335', 'BH-11710', 'AA-10480',\n",
       "       'IM-15070', 'HP-14815', 'PK-19075', 'AG-10270', 'ZD-21925',\n",
       "       'KB-16585', 'SF-20065', 'EB-13870', 'EH-13945', 'TB-21520',\n",
       "       'MA-17560', 'GH-14485', 'SN-20710', 'LC-16930', 'RA-19885',\n",
       "       'ES-14080', 'ON-18715', 'PO-18865', 'LH-16900', 'DP-13000',\n",
       "       'JM-15265', 'TB-21055', 'KM-16720', 'PS-18970', 'BS-11590',\n",
       "       'KD-16270', 'HM-14980', 'JE-15745', 'KB-16600', 'SC-20770',\n",
       "       'DN-13690', 'JC-16105', 'CS-12400', 'PG-18895', 'GM-14455',\n",
       "       'JS-15685', 'KB-16315', 'RB-19705', 'PN-18775', 'KD-16345',\n",
       "       'ER-13855', 'RB-19465', 'GZ-14470', 'LC-16870', 'JM-15250',\n",
       "       'PA-19060', 'CV-12805', 'CL-12565', 'RC-19960', 'DK-13090',\n",
       "       'GG-14650', 'SC-20725', 'AD-10180', 'PF-19165', 'TS-21610',\n",
       "       'LS-16975', 'DW-13585', 'LC-16885', 'JD-15895', 'SH-19975',\n",
       "       'SG-20080', 'HA-14920', 'MG-17680', 'JE-16165', 'TW-21025',\n",
       "       'SP-20650', 'NK-18490', 'DB-13060', 'NP-18670', 'TT-21070',\n",
       "       'EM-13960', 'RD-19900', 'MJ-17740', 'BM-11140', 'CS-12130',\n",
       "       'JB-15400', 'SJ-20500', 'JK-15640', 'DK-13150', 'RM-19675',\n",
       "       'SK-19990', 'FM-14290', 'AM-10360', 'MP-17470', 'MZ-17515',\n",
       "       'CB-12025', 'VM-21685', 'FH-14365', 'MB-17305', 'BS-11755',\n",
       "       'LC-17140', 'HK-14890', 'LE-16810', 'JH-15985', 'MS-17980',\n",
       "       'VW-21775', 'JH-15910', 'JB-15925', 'DS-13180', 'VD-21670',\n",
       "       'EA-14035', 'DB-13120', 'KL-16645', 'DW-13480', 'LH-17155',\n",
       "       'KC-16540', 'DL-13315', 'DR-12880', 'CC-12670', 'Dl-13600',\n",
       "       'SB-20290', 'RC-19825', 'AH-10210', 'CB-12535', 'CA-12310',\n",
       "       'KH-16690', 'BB-10990', 'AG-10495', 'JO-15280', 'AH-10195',\n",
       "       'NZ-18565', 'KL-16555', 'AS-10225', 'CR-12625', 'SH-20395',\n",
       "       'BP-11185', 'TS-21205', 'AG-10525', 'SP-20860', 'NM-18445',\n",
       "       'FA-14230', 'GK-14620', 'DJ-13510', 'PO-18850', 'JL-15850',\n",
       "       'DB-13615', 'AC-10420', 'CC-12550', 'TD-20995', 'AB-10060',\n",
       "       'JL-15505', 'VB-21745', 'KW-16435', 'JD-16060', 'MK-17905',\n",
       "       'GT-14755', 'AG-10900', 'MM-18280', 'AR-10405', 'RA-19915',\n",
       "       'AS-10285', 'LA-16780', 'DO-13435', 'DK-13225', 'NG-18430',\n",
       "       'MV-18190', 'JG-15115', 'BP-11095', 'VP-21730', 'SS-20140',\n",
       "       'AG-10675', 'LF-17185', 'RF-19840', 'KH-16510', 'KC-16675',\n",
       "       'CJ-12010', 'PB-19150', 'MP-17965', 'NF-18385', 'SD-20485',\n",
       "       'KH-16630', 'RB-19795', 'MK-18160', 'PO-19180', 'BB-11545',\n",
       "       'TB-21595', 'RB-19360', 'EB-13705', 'SC-20095', 'TN-21040',\n",
       "       'JS-15940', 'MH-17785', 'JP-15520', 'JE-15475', 'JG-15805',\n",
       "       'XP-21865', 'EM-14065', 'MT-18070', 'SA-20830', 'CW-11905',\n",
       "       'AJ-10960', 'SS-20590', 'RO-19780', 'MD-17350', 'MY-17380',\n",
       "       'CM-12385', 'LS-17245', 'BN-11515', 'DB-13210', 'MC-17605',\n",
       "       'BD-11605', 'PH-18790', 'MG-18145', 'KB-16240', 'JC-15340',\n",
       "       'RL-19615', 'AA-10375', 'EP-13915', 'DK-12985', 'BD-11500',\n",
       "       'LM-17065', 'AS-10135', 'BD-11320', 'GT-14710', 'AJ-10945',\n",
       "       'OT-18730', 'LP-17080', 'CA-12775', 'JF-15490', 'FP-14320',\n",
       "       'EB-13840', 'JF-15415', 'SF-20200', 'TG-21640', 'CS-11950',\n",
       "       'CC-12145', 'DV-13465', 'BD-11725', 'ZC-21910', 'MS-17830',\n",
       "       'LR-16915', 'TP-21130', 'CK-12205', 'AS-10240', 'AR-10510',\n",
       "       'NB-18655', 'GD-14590', 'CK-12595', 'NG-18355', 'CA-12265',\n",
       "       'SF-20965', 'MO-17800', 'AT-10735', 'FM-14380', 'DJ-13420',\n",
       "       'ME-17725', 'JD-16150', 'JL-15835', 'SC-20305', 'CC-12430',\n",
       "       'AR-10825', 'SR-20740', 'CR-12730', 'EH-14125', 'SP-20545',\n",
       "       'TH-21235', 'RP-19390', 'RB-19570', 'CD-11980', 'DJ-13630',\n",
       "       'GT-14635', 'MC-17845', 'RA-19285', 'NP-18325', 'AB-10165',\n",
       "       'JO-15550', 'JK-15370', 'BN-11470', 'DP-13165', 'TH-21550',\n",
       "       'AP-10915', 'RS-19765', 'SV-20365', 'CK-12325', 'RD-19810',\n",
       "       'MR-17545', 'SC-20695', 'JF-15355', 'EG-13900', 'DS-13030',\n",
       "       'PO-19195', 'SS-20875', 'PB-19105', 'RF-19735', 'YC-21895',\n",
       "       'DC-13285', 'CP-12340', 'BF-11020', 'LH-17020', 'CS-12250',\n",
       "       'AJ-10795', 'BV-11245', 'DL-12865', 'BM-11785', 'LT-17110',\n",
       "       'JK-15730', 'ES-14020', 'RH-19495', 'CD-11920', 'HW-14935',\n",
       "       'MC-18130', 'GM-14440', 'PJ-19015', 'BW-11110', 'TR-21325',\n",
       "       'PG-18820', 'JL-15175', 'BM-11650', 'EM-14095', 'AF-10885',\n",
       "       'GA-14725', 'CK-12760', 'DP-13105', 'BK-11260', 'SJ-20125',\n",
       "       'CM-12445', 'AJ-10780', 'LS-16945', 'GP-14740', 'PK-18910',\n",
       "       'SM-20005', 'AG-10765', 'PM-19135', 'LL-16840', 'JS-15595',\n",
       "       'EL-13735', 'PC-18745', 'HL-15040', 'MS-17365', 'GB-14530',\n",
       "       'JR-16210', 'BE-11335', 'SC-20050', 'RW-19630', 'SE-20110',\n",
       "       'AH-10075', 'JM-15535', 'JJ-15760', 'RK-19300', 'CG-12040',\n",
       "       'RP-19270', 'KC-16255', 'KH-16360', 'GH-14665', 'SW-20275',\n",
       "       'JA-15970', 'DL-12925', 'LW-16990', 'TB-21190', 'BS-11800',\n",
       "       'RW-19690', 'TZ-21580', 'AS-10630', 'TS-21340', 'SL-20155',\n",
       "       'MW-18235', 'RD-19585', 'RA-19945', 'MT-17815', 'VG-21790',\n",
       "       'JS-15880', 'KM-16225', 'HR-14770', 'DE-13255', 'AG-10390',\n",
       "       'JJ-15445', 'JH-15430', 'RD-19660', 'MO-17500', 'NS-18640',\n",
       "       'DG-13300', 'NF-18595', 'MG-17650', 'TS-21160', 'BD-11620',\n",
       "       'CM-12160', 'SN-20560', 'EH-14005', 'FO-14305', 'MS-17710',\n",
       "       'CC-12100', 'DW-13540', 'BT-11395', 'CY-12745', 'BT-11485',\n",
       "       'PS-19045', 'PV-18985', 'NM-18520', 'DL-13495', 'CS-12355',\n",
       "       'FH-14275', 'NC-18340', 'AA-10315', 'LT-16765', 'AP-10720',\n",
       "       'PM-18940', 'AT-10435', 'CA-12055', 'HR-14830', 'BT-11530',\n",
       "       'LH-16750', 'SW-20755', 'SP-20620', 'BF-11170', 'KT-16480',\n",
       "       'BG-11695', 'GM-14680', 'EJ-14155', 'NP-18700', 'MH-18115',\n",
       "       'JR-15700', 'SM-20950', 'CC-12220', 'PF-19225', 'DC-12850',\n",
       "       'BD-11770', 'GM-14500', 'TB-21355', 'JH-16180', 'EB-13975',\n",
       "       'QJ-19255', 'TC-21535', 'CS-12460', 'HG-14965', 'LW-16825',\n",
       "       'MC-17575', 'LP-17095', 'EB-14170', 'GZ-14545', 'CP-12085',\n",
       "       'FG-14260', 'LD-17005', 'AB-10255', 'MN-17935', 'JR-15670',\n",
       "       'JF-15190', 'CM-12115', 'AS-10045', 'BP-11290', 'ND-18370',\n",
       "       'LB-16735', 'KT-16465', 'HM-14860', 'AB-10600', 'SZ-20035',\n",
       "       'MG-17890', 'JK-16120', 'PP-18955', 'YS-21880', 'KM-16375',\n",
       "       'AB-10105', 'HA-14905', 'BT-11305', 'SV-20815', 'RW-19540',\n",
       "       'DK-12835', 'ST-20530', 'MM-17920', 'PW-19030', 'SC-20440',\n",
       "       'TS-21085', 'MC-17425', 'ME-17320', 'NH-18610', 'MB-18085',\n",
       "       'KD-16495', 'KN-16390', 'NP-18685', 'CS-12505', 'MS-17770',\n",
       "       'CM-12655', 'Co-12640', 'TS-21370', 'JW-15220', 'JD-15790',\n",
       "       'PC-19000', 'AR-10540', 'AI-10855', 'TB-21400', 'PL-18925',\n",
       "       'GH-14425', 'MP-18175', 'JM-15655', 'CL-11890', 'DB-13270',\n",
       "       'IG-15085', 'BO-11425', 'AB-10150', 'JW-16075', 'EB-13750',\n",
       "       'SG-20470', 'CM-12190', 'AW-10840', 'MC-18100', 'TT-21460',\n",
       "       'VG-21805', 'MY-18295', 'RD-19480', 'DP-13390', 'ML-17395',\n",
       "       'JC-15385', 'JG-15160', 'MC-17275', 'NW-18400', 'TB-21280',\n",
       "       'BS-11380', 'HH-15010', 'CD-12280', 'TH-21100', 'MM-18055',\n",
       "       'NS-18505', 'RB-19645', 'SW-20455', 'EB-13930', 'PS-18760',\n",
       "       'HF-14995', 'HZ-14950', 'CD-12790', 'JK-15205', 'FM-14215',\n",
       "       'ED-13885', 'DA-13450', 'JW-15955', 'RM-19375', 'ML-17755',\n",
       "       'CC-12685', 'JE-15610', 'RP-19855', 'TB-21175', 'BE-11455',\n",
       "       'JF-15565', 'PB-19210', 'BT-11680', 'JL-15235', 'CH-12070',\n",
       "       'ND-18460', 'BF-10975', 'KH-16330', 'GW-14605', 'NC-18625',\n",
       "       'ME-18010', 'BP-11230', 'JC-15775', 'AS-10090', 'AC-10450',\n",
       "       'MD-17860', 'DB-13660', 'EH-13990', 'EH-13765', 'SC-20230',\n",
       "       'JE-15715', 'AC-10615', 'JD-16015', 'CB-12415', 'JS-16030',\n",
       "       'LW-17215', 'SC-20800', 'AM-10705', 'RH-19510', 'CT-11995',\n",
       "       'MC-17590', 'CC-12610', 'KA-16525', 'TC-20980', 'BF-11080',\n",
       "       'MM-17260', 'AH-10120', 'BW-11200', 'SW-20245', 'BS-11665',\n",
       "       'RF-19345', 'WB-21850', 'TB-21625', 'AF-10870', 'RB-19435',\n",
       "       'KF-16285', 'JH-15820', 'IL-15100', 'PB-18805', 'RH-19600',\n",
       "       'AW-10930', 'ML-17410', 'DB-13555', 'MH-17620', 'DK-13375',\n",
       "       'BT-11440', 'DB-13405', 'TG-21310', 'BF-11005', 'JM-16195',\n",
       "       'MZ-17335', 'MW-18220', 'MV-17485', 'SM-20320', 'TP-21415',\n",
       "       'JK-15625', 'PJ-18835', 'RS-19420', 'SV-20935', 'BC-11125',\n",
       "       'EM-13825', 'BM-11575', 'KN-16705', 'KW-16570', 'SC-20260',\n",
       "       'CV-12295', 'SG-20605', 'TM-21010', 'EM-13810', 'ML-18040',\n",
       "       'CR-12580', 'AZ-10750', 'PW-19240', 'SC-20380', 'CM-11935',\n",
       "       'GM-14695', 'TB-21250', 'JM-15865', 'SC-20575', 'LS-17200',\n",
       "       'RR-19315', 'DB-12910', 'TT-21220', 'LO-17170', 'KD-16615',\n",
       "       'NB-18580', 'BD-11635', 'CM-12235', 'EN-13780', 'KN-16450',\n",
       "       'BO-11350', 'AG-10300', 'MC-17635', 'TA-21385', 'JF-15295',\n",
       "       'TT-21265', 'SB-20170', 'CL-12700', 'HG-15025', 'NL-18310',\n",
       "       'RR-19525', 'TC-21295', 'SV-20785', 'BE-11410', 'SC-20680',\n",
       "       'DF-13135', 'FH-14350', 'MS-17530', 'RH-19555', 'GA-14515',\n",
       "       'JP-16135', 'Dp-13240', 'MO-17950', 'DL-13330', 'MH-18025',\n",
       "       'DR-12940', 'DM-13015', 'CA-11965', 'AC-10660', 'DM-13345',\n",
       "       'VF-21715', 'CC-12370', 'BF-11275', 'HG-14845', 'BP-11155',\n",
       "       'EM-14140', 'MA-17995', 'AY-10555', 'GB-14575', 'JB-16045',\n",
       "       'MG-17875', 'SR-20425', 'JB-16000', 'DM-12955', 'TC-21475',\n",
       "       'SW-20350', 'RE-19450', 'BF-11215', 'KB-16405', 'JG-15310',\n",
       "       'EC-14050', 'EB-14110', 'JP-15460', 'CS-11845', 'GH-14410',\n",
       "       'PT-19090', 'JL-15130', 'AH-10030', 'CC-12475', 'DW-13195',\n",
       "       'SJ-20215', 'BG-11740', 'LB-16795', 'CM-11815', 'EH-14185',\n",
       "       'TS-21505', 'PR-18880', 'LC-17050', 'CS-12490', 'DH-13075',\n",
       "       'JO-15145', 'AH-10690', 'HJ-14875', 'MH-17455', 'RD-19930',\n",
       "       'SC-20020', 'SU-20665', 'FC-14335', 'RB-19330', 'NC-18535',\n",
       "       'DB-12970', 'MF-17665', 'RM-19750', 'VM-21835', 'EJ-13720',\n",
       "       'NC-18415', 'LS-17230', 'KE-16420', 'DH-13675', 'PF-19120',\n",
       "       'VT-21700', 'MG-17695', 'SP-20920', 'CS-12175', 'DK-12895',\n",
       "       'KM-16660', 'AA-10645', 'DD-13570', 'AH-10465', 'TP-21565',\n",
       "       'EK-13795', 'CR-12820', 'SG-20890', 'AH-10585', 'NF-18475',\n",
       "       'BS-11365', 'SH-20635', 'RD-19720', 'AG-10330', 'GR-14560',\n",
       "       'VS-21820', 'TM-21490', 'TS-21430', 'DB-13360', 'NR-18550',\n",
       "       'CS-11860', 'MF-18250', 'LW-17125', 'AR-10345', 'KS-16300',\n",
       "       'AB-10015', 'LR-17035', 'SS-20410', 'JM-15580', 'JK-15325',\n",
       "       'DM-13525', 'ML-18265', 'MH-17290', 'FC-14245', 'TH-21115',\n",
       "       'JK-16090', 'SB-20185', 'BG-11035', 'BW-11065', 'MG-18205',\n",
       "       'DO-13645', 'BP-11050', 'TS-21655', 'EM-14200', 'AO-10810',\n",
       "       'MH-17440', 'SS-20515', 'LD-16855', 'VP-21760', 'TC-21145',\n",
       "       'IM-15055', 'AR-10570', 'CM-12715', 'FW-14395', 'LC-16960',\n",
       "       'HE-14800', 'BD-11560', 'HD-14785', 'CJ-11875', 'RS-19870',\n",
       "       'SC-20845', 'RE-19405', 'SM-20905'], dtype=object)"
      ]
     },
     "execution_count": 67,
     "metadata": {},
     "output_type": "execute_result"
    }
   ],
   "source": [
    "data['Customer ID'].unique()"
   ]
  },
  {
   "cell_type": "code",
   "execution_count": 72,
   "id": "a499f91a",
   "metadata": {},
   "outputs": [
    {
     "data": {
      "text/plain": [
       "dtype('O')"
      ]
     },
     "execution_count": 72,
     "metadata": {},
     "output_type": "execute_result"
    }
   ],
   "source": [
    "data['Customer Name'].dtype"
   ]
  },
  {
   "cell_type": "code",
   "execution_count": 73,
   "id": "2831f652",
   "metadata": {},
   "outputs": [
    {
     "data": {
      "text/plain": [
       "array(['Claire Gute', 'Darrin Van Huff', \"Sean O'Donnell\",\n",
       "       'Brosina Hoffman', 'Andrew Allen', 'Irene Maddox', 'Harold Pawlan',\n",
       "       'Pete Kriz', 'Alejandro Grove', 'Zuschuss Donatelli', 'Ken Black',\n",
       "       'Sandra Flanagan', 'Emily Burns', 'Eric Hoffmann',\n",
       "       'Tracy Blumstein', 'Matt Abelman', 'Gene Hale', 'Steve Nguyen',\n",
       "       'Linda Cazamias', 'Ruben Ausman', 'Erin Smith', 'Odella Nelson',\n",
       "       \"Patrick O'Donnell\", 'Lena Hernandez', 'Darren Powers',\n",
       "       'Janet Molinari', 'Ted Butterfield', 'Kunst Miller',\n",
       "       'Paul Stevenson', 'Brendan Sweed', 'Karen Daniels',\n",
       "       'Henry MacAllister', 'Joel Eaton', 'Ken Brennan',\n",
       "       'Stewart Carmichael', 'Duane Noonan', 'Julie Creighton',\n",
       "       'Christopher Schild', 'Paul Gonzalez', 'Gary Mitchum', 'Jim Sink',\n",
       "       'Karl Braun', 'Roger Barcio', 'Parhena Norris', 'Katherine Ducich',\n",
       "       'Elpida Rittenbach', 'Rick Bensley', 'Gary Zandusky',\n",
       "       'Lena Cacioppo', 'Janet Martin', 'Pete Armstrong', 'Cynthia Voltz',\n",
       "       'Clay Ludtke', 'Ryan Crowe', 'Dave Kipp', 'Greg Guthrie',\n",
       "       'Steven Cartwright', 'Alan Dominguez', 'Philip Fox',\n",
       "       'Troy Staebel', 'Lindsay Shagiari', 'Dorothy Wardle',\n",
       "       'Lena Creighton', 'Jonathan Doherty', 'Sally Hughsby',\n",
       "       'Sandra Glassco', 'Helen Andreada', 'Maureen Gastineau',\n",
       "       'Justin Ellison', 'Tamara Willingham', 'Stephanie Phelps',\n",
       "       'Neil Knudson', 'Dave Brooks', 'Nora Paige', 'Ted Trevino',\n",
       "       'Eric Murdock', 'Ruben Dartt', 'Max Jones', 'Becky Martin',\n",
       "       'Chad Sievert', 'Jennifer Braxton', 'Shirley Jackson', 'Jim Kriz',\n",
       "       'David Kendrick', 'Robert Marley', 'Sally Knutson', 'Frank Merwin',\n",
       "       'Alice McCarthy', 'Mark Packer', 'Mary Zewe', 'Cassandra Brandow',\n",
       "       'Valerie Mitchum', 'Fred Hopkins', 'Maria Bertelson',\n",
       "       'Bruce Stewart', 'Logan Currie', 'Heather Kirkland',\n",
       "       'Laurel Elliston', 'Joseph Holt', 'Michael Stewart',\n",
       "       'Victoria Wilson', 'Jonathan Howell', 'Joni Blumstein',\n",
       "       'David Smith', 'Valerie Dominguez', 'Erin Ashbrook',\n",
       "       'David Bremer', 'Ken Lonsdale', 'Dianna Wilson',\n",
       "       'Logan Haushalter', 'Kelly Collister', 'Delfina Latchford',\n",
       "       'Dan Reichenbach', 'Craig Carreira', 'Dorris liebe',\n",
       "       'Sean Braxton', 'Roy Collins', 'Alan Hwang', 'Claudia Bergmann',\n",
       "       'Christine Abelman', 'Kristen Hastings', 'Barry Blumstein',\n",
       "       'Andrew Gjertsen', \"Jas O'Carroll\", 'Alan Haines', 'Nick Zandusky',\n",
       "       'Kelly Lampkin', 'Alan Schoenberger', 'Corey Roper',\n",
       "       'Shahid Hopkins', 'Ben Peterman', 'Thomas Seio', 'Andy Gerbode',\n",
       "       'Sung Pak', 'Nathan Mautz', 'Frank Atkinson', 'Grace Kelly',\n",
       "       'Don Jones', \"Patrick O'Brill\", 'John Lucas', 'Doug Bickford',\n",
       "       'Alyssa Crouse', 'Clay Cheatham', 'Tamara Dahlen',\n",
       "       'Adam Bellavance', 'Jeremy Lonsdale', 'Victoria Brennan',\n",
       "       'Katrina Willman', 'Julia Dunbar', 'Michael Kennedy',\n",
       "       'Guy Thornton', 'Arthur Gainer', 'Muhammed MacIntyre',\n",
       "       'Allen Rosenblatt', 'Russell Applegate', 'Alejandro Savely',\n",
       "       'Laura Armstrong', 'Denny Ordway', 'Dean Katz', 'Nathan Gelder',\n",
       "       'Mike Vittorini', 'Jack Garza', 'Bart Pistole', 'Victor Preis',\n",
       "       'Saphhira Shifley', 'Anna Gayman', 'Luke Foster',\n",
       "       'Roy Französisch', 'Keith Herrera', 'Kimberly Carter',\n",
       "       'Caroline Jumper', 'Philip Brown', 'Michael Paige',\n",
       "       'Natalie Fritzler', 'Shirley Daniels', 'Ken Heidel', 'Ross Baird',\n",
       "       'Mike Kennedy', 'Philisse Overcash', 'Brenda Bowman',\n",
       "       'Troy Blackwell', 'Raymond Buch', 'Ed Braxton', 'Sanjit Chand',\n",
       "       'Tanja Norvell', 'Joni Sundaresam', 'Maya Herman', 'Jeremy Pistek',\n",
       "       'Jeremy Ellison', 'John Grady', 'Xylona Preis', 'Erin Mull',\n",
       "       'Michelle Tran', 'Sue Ann Reed', 'Carl Weiss', 'Astrea Jones',\n",
       "       'Sonia Sunley', \"Rose O'Brian\", 'Maribeth Dona', 'Maribeth Yedwab',\n",
       "       'Christopher Martinez', 'Lynn Smith', 'Bradley Nguyen',\n",
       "       'Dean Braden', 'Matt Connell', 'Brian Dahlen', 'Patricia Hirasaki',\n",
       "       'Mike Gockenbach', 'Karen Bern', 'Jasper Cacioppo', 'Rob Lucas',\n",
       "       'Allen Armold', 'Emily Phan', 'Darren Koutras', 'Bradley Drucker',\n",
       "       'Liz MacKendrick', 'Adrian Shami', 'Bill Donatelli', 'Greg Tran',\n",
       "       'Ashley Jarboe', 'Olvera Toch', 'Liz Pelletier', 'Cynthia Arntzen',\n",
       "       'Jeremy Farry', 'Frank Preis', 'Ellis Ballard',\n",
       "       'Jennifer Ferguson', 'Sarah Foster', 'Trudy Glocke',\n",
       "       'Carlos Soltero', 'Charles Crestani', 'Dianna Vittorini',\n",
       "       'Bruce Degenhardt', 'Zuschuss Carroll', 'Melanie Seite',\n",
       "       'Lena Radford', 'Theone Pippenger', 'Chloris Kastensmidt',\n",
       "       'Alan Shonely', 'Andrew Roberts', 'Nona Balk', 'Giulietta Dortch',\n",
       "       'Clytie Kelty', 'Nat Gilpin', 'Christina Anderson',\n",
       "       'Sylvia Foulston', \"Meg O'Connel\", 'Annie Thurman', 'Fred McMath',\n",
       "       'Denny Joy', 'Max Engle', 'Justin Deggeller', 'John Lee',\n",
       "       'Sean Christensen', 'Chuck Clark', 'Anthony Rawles',\n",
       "       'Steven Roelle', 'Craig Reiter', 'Eugene Hildebrand',\n",
       "       'Sibella Parks', 'Tiffany House', 'Resi Pölking', 'Rob Beeghly',\n",
       "       'Carol Darley', 'Doug Jacobs', 'Grant Thornton', 'Michael Chen',\n",
       "       'Ralph Arnett', 'Naresj Patel', 'Alan Barnes', 'Jesus Ocampo',\n",
       "       'Jay Kimmel', 'Brad Norvell', 'David Philippe', 'Tracy Hopkins',\n",
       "       'Arthur Prichep', 'Roland Schwarz', 'Seth Vernon',\n",
       "       'Christine Kargatis', 'Ross DeVincentis', 'Mathew Reese',\n",
       "       'Steve Chapman', 'Jay Fein', 'Emily Grady', 'Darrin Sayre',\n",
       "       'Phillina Ober', 'Sung Shariari', 'Peter Bühler', 'Roland Fjeld',\n",
       "       'Yoseph Carroll', 'Debra Catini', 'Christine Phan',\n",
       "       'Barry Französisch', 'Lisa Hazard', 'Chris Selesnick',\n",
       "       'Anthony Johnson', 'Benjamin Venier', 'Dan Lawera', 'Bryan Mills',\n",
       "       'Liz Thompson', 'Joe Kamberova', 'Erica Smith', 'Rick Hansen',\n",
       "       'Carlos Daly', 'Helen Wasserman', 'Mike Caudle', 'Gary McGarr',\n",
       "       'Pauline Johnson', 'Bart Watters', 'Toby Ritter',\n",
       "       'Patrick Gardner', 'James Lanier', 'Brian Moss', 'Eudokia Martin',\n",
       "       'Art Foster', 'Guy Armstrong', 'Cyma Kinney', 'Dave Poirier',\n",
       "       'Berenike Kampe', 'Sanjit Jacobs', 'Chuck Magee', 'Anthony Jacobs',\n",
       "       'Linda Southworth', 'Guy Phonely', 'Paul Knutson',\n",
       "       'Sally Matthias', 'Anthony Garverick', 'Peter McVee',\n",
       "       'Lauren Leatherbury', 'Jill Stevenson', 'Ed Ludwig',\n",
       "       'Pamela Coakley', 'Hunter Lopez', 'Maribeth Schnelling',\n",
       "       'George Bell', 'Justin Ritter', 'Bill Eplett', 'Sample Company A',\n",
       "       'Rob Williams', 'Sanjit Engle', 'Adam Hart', 'Jessica Myrick',\n",
       "       'Joel Jenkins', 'Ralph Kennedy', 'Catherine Glotzbach',\n",
       "       'Rachel Payne', 'Karen Carlisle', 'Katherine Hughes',\n",
       "       'Greg Hansen', 'Scott Williamson', 'Joseph Airdo', 'Daniel Lacy',\n",
       "       'Lindsay Williams', 'Thomas Brumley', 'Bryan Spruell',\n",
       "       'Robert Waldorf', 'Tracy Zic', 'Ann Steele', 'Toby Swindell',\n",
       "       'Sara Luxemburg', 'Mitch Willingham', 'Rob Dowd', 'Ryan Akin',\n",
       "       'Meg Tillman', 'Vivek Gonzalez', 'John Stevenson', 'Kalyca Meade',\n",
       "       'Hallie Redmond', 'Deanra Eno', 'Allen Goldenen',\n",
       "       'Jennifer Jackson', 'Jennifer Halladay', 'Robert Dilbeck',\n",
       "       \"Mary O'Rourke\", 'Noel Staavos', 'Deirdre Greer', 'Nicole Fjeld',\n",
       "       'Matthew Grinstein', 'Theresa Swint', 'Brian DeCherney',\n",
       "       'Charles McCrossin', 'Skye Norling', 'Erica Hernandez',\n",
       "       'Frank Olsen', 'Maurice Satty', 'Chad Cunningham', 'Don Weiss',\n",
       "       'Bill Tyler', 'Craig Yedwab', 'Brad Thomas', 'Penelope Sewall',\n",
       "       'Paul Van Hugh', 'Neoma Murray', 'Dionis Lloyd',\n",
       "       'Christine Sundaresam', 'Frank Hawley', 'Nat Carroll',\n",
       "       'Alex Avila', 'Larry Tron', 'Anne Pryor', 'Paul MacIntyre',\n",
       "       'Alyssa Tate', 'Cathy Armstrong', 'Harold Ryan', 'Bradley Talbott',\n",
       "       'Larry Hughes', 'Steven Ward', 'Stefania Perrino', 'Ben Ferrer',\n",
       "       'Kean Thornton', 'Brooke Gillingham', 'Greg Matthias',\n",
       "       'Eva Jacobs', 'Nora Preis', 'Mick Hernandez', 'Jocasta Rupert',\n",
       "       'Suzanne McNair', 'Chris Cortes', 'Phillip Flathmann',\n",
       "       'Dan Campbell', 'Bryan Davis', 'Gene McClure', 'Todd Boyes',\n",
       "       'Justin Hirsh', 'Erica Bern', 'Quincy Jones', 'Tracy Collins',\n",
       "       'Chuck Sachs', 'Henry Goldwyn', 'Laurel Workman', 'Matt Collins',\n",
       "       'Liz Preis', 'Evan Bailliet', 'George Zrebassa', 'Cathy Prescott',\n",
       "       'Frank Gastineau', 'Lisa DeCherney', 'Alejandro Ballentine',\n",
       "       'Michael Nguyen', 'Jim Radford', 'Jamie Frazer', 'Chad McGuire',\n",
       "       'Aaron Smayling', 'Beth Paige', 'Natalie DeCherney',\n",
       "       'Larry Blacks', 'Kean Takahito', 'Harry Marie', 'Ann Blume',\n",
       "       'Sam Zeldin', 'Michael Granlund', 'Julie Kriz', 'Paul Prost',\n",
       "       'Yana Sorensen', 'Katherine Murray', 'Adrian Barton',\n",
       "       'Helen Abelman', 'Beth Thompson', 'Stuart Van', 'Rick Wilson',\n",
       "       'Damala Kotsonis', 'Shui Tom', 'Michael Moore', 'Pauline Webber',\n",
       "       'Shaun Chance', 'Thais Sissman', 'Mark Cousins', 'Maria Etezadi',\n",
       "       'Nicole Hansen', 'Mick Brown', 'Keith Dawkins',\n",
       "       'Katherine Nockton', 'Nora Pelletier', 'Cindy Stewart',\n",
       "       'Maxwell Schwartz', 'Corinna Mitchell', 'Corey-Lock',\n",
       "       'Todd Sumrall', 'Jane Waco', 'John Dryer', 'Pauline Chand',\n",
       "       'Andy Reiter', 'Arianne Irving', 'Tom Boeckenhauer', 'Paul Lucas',\n",
       "       'Gary Hwang', 'Mike Pelletier', 'Jim Mitchum', 'Carl Ludwig',\n",
       "       'Deborah Brumfield', 'Ivan Gibson', 'Bobby Odegard', 'Aimee Bixby',\n",
       "       'Julia West', 'Edward Becker', 'Sheri Gordon', 'Charlotte Melton',\n",
       "       'Anthony Witt', 'Mick Crebagga', 'Tonja Turnell', 'Vivek Grady',\n",
       "       'Muhammed Yedwab', 'Rick Duston', 'Dennis Pardue',\n",
       "       'Marina Lichtenstein', 'Jenna Caffey', 'James Galang',\n",
       "       'Marc Crier', 'Natalie Webber', 'Toby Braunhardt', 'Bill Stewart',\n",
       "       'Hilary Holden', 'Christina DeMoss', 'Thea Hendricks',\n",
       "       'Michelle Moray', 'Neola Schneider', 'Robert Barroso',\n",
       "       'Shaun Weien', 'Eric Barreto', 'Pamela Stobb', 'Herbert Flentye',\n",
       "       'Henia Zydlo', 'Cynthia Delaney', 'Jamie Kunitz', 'Filia McAdams',\n",
       "       'Emily Ducich', 'Dianna Arnett', 'Joni Wasserman', 'Raymond Messe',\n",
       "       'Max Ludwig', 'Craig Carroll', 'Jim Epp', 'Roy Phan',\n",
       "       'Thomas Boland', 'Brad Eason', 'Jill Fjeld', 'Phillip Breyer',\n",
       "       'Brian Thompson', 'Janet Lee', 'Cathy Hwang', 'Neil Ducich',\n",
       "       'Barbara Fisher', 'Katharine Harms', 'Giulietta Weimer',\n",
       "       'Noah Childs', 'Michelle Ellison', 'Benjamin Patterson',\n",
       "       'John Castell', 'Adam Shillingsburg', 'Amy Cox',\n",
       "       'Michael Dominguez', 'Duane Benoit', 'Erica Hackney',\n",
       "       'Edward Hooks', 'Scot Coram', 'Joe Elijah', 'Ann Chong',\n",
       "       'Joy Daniels', 'Christy Brittain', 'Joy Smith', 'Luke Weiss',\n",
       "       'Stuart Calhoun', 'Anne McFarland', 'Rick Huthwaite',\n",
       "       'Carol Triggs', 'Matt Collister', 'Corey Catlett',\n",
       "       'Kelly Andreada', 'Tamara Chand', 'Bart Folk', 'Magdelene Morse',\n",
       "       'Adrian Hane', 'Ben Wallace', 'Scot Wooten', 'Brian Stugart',\n",
       "       'Randy Ferguson', 'William Brown', 'Trudy Brown', 'Art Ferguson',\n",
       "       'Richard Bierner', 'Karen Ferguson', 'John Huston', 'Ivan Liston',\n",
       "       'Patrick Bzostek', 'Rob Haberlin', 'Arthur Wiediger',\n",
       "       'Maris LaWare', 'Dorothy Badders', 'Matt Hagelstein',\n",
       "       'Dennis Kane', 'Bobby Trafton', 'Denny Blanton', 'Toby Gnade',\n",
       "       'Barry Franz', 'Justin MacKendrick', 'Maria Zettner',\n",
       "       'Mitch Webber', 'Mark Van Huff', 'Sean Miller', 'Tom Prescott',\n",
       "       'Jim Karlsson', 'Patrick Jones', 'Ricardo Sperren',\n",
       "       'Susan Vittorini', 'Becky Castell', 'Elizabeth Moffitt',\n",
       "       'Brendan Murry', 'Kristina Nunn', 'Kelly Williams', 'Scott Cohen',\n",
       "       'Christina VanderZanden', 'Speros Goranitis', 'Tamara Manning',\n",
       "       'Eleni McCrary', 'Michelle Lonsdale', 'Clay Rozendal',\n",
       "       'Annie Zypern', 'Pierre Wener', 'Shahid Collister',\n",
       "       'Carlos Meador', 'Greg Maxwell', 'Tim Brockman', 'John Murray',\n",
       "       'Sonia Cooley', 'Luke Schmidt', 'Ralph Ritter', 'Daniel Byrd',\n",
       "       'Thomas Thornton', 'Lori Olson', 'Ken Dana', 'Nicole Brennan',\n",
       "       'Brian Derr', 'Chris McAfee', 'Edward Nazzal', 'Kean Nguyen',\n",
       "       'Bill Overfelt', 'Aleksandra Gannaway', 'Matthew Clasen',\n",
       "       'Tom Ashbrook', 'Jason Fortune-', 'Tim Taslimi', 'Sarah Bern',\n",
       "       'Craig Leslie', 'Hunter Glantz', 'Nancy Lomonaco', 'Rick Reed',\n",
       "       'Toby Carlisle', 'Stewart Visinsky', 'Bobby Elias',\n",
       "       'Steve Carroll', 'David Flashing', 'Fred Harton', 'MaryBeth Skach',\n",
       "       'Ritsa Hightower', 'George Ashbrook', 'Julie Prescott',\n",
       "       'Dean percer', 'Michael Oakman', 'Denise Leinenbach',\n",
       "       'Michelle Huthwaite', 'Daniel Raglin', 'Darrin Martin',\n",
       "       'Carol Adams', 'Anna Chung', 'Denise Monton', 'Vicky Freymann',\n",
       "       'Christopher Conant', 'Beth Fritzler', 'Harry Greene', 'Becky Pak',\n",
       "       'Eugene Moren', 'Michelle Arnett', 'Andy Yotov',\n",
       "       'Giulietta Baptist', 'Julia Barnett', 'Michael Grace',\n",
       "       'Sharelle Roach', 'Joy Bell-', 'Dario Medina', 'Tony Chapman',\n",
       "       'Sean Wendt', 'Richard Eichhorn', 'Benjamin Farhat',\n",
       "       'Katrina Bavinger', 'Jason Gross', 'Erin Creighton',\n",
       "       'Eugene Barchas', 'Jennifer Patt', 'Cari Sayre', 'Gary Hansen',\n",
       "       'Pete Takahito', 'Jack Lebron', 'Aaron Hawkins', 'Cindy Chapman',\n",
       "       'David Wiener', 'Sarah Jordon', 'Bruce Geld', 'Laurel Beltran',\n",
       "       'Candace McMahon', 'Evan Henry', 'Tony Sayre', 'Patrick Ryan',\n",
       "       'Liz Carlisle', 'Cindy Schnelling', 'Dave Hallsten',\n",
       "       \"Jack O'Briant\", 'Anna Häberlin', 'Heather Jas', 'Mark Hamilton',\n",
       "       \"Russell D'Ascenzo\", 'Sam Craven', 'Stephanie Ulpright',\n",
       "       'Fred Chung', 'Randy Bradley', 'Nick Crebassa', 'Darren Budd',\n",
       "       'Maureen Fritzler', 'Roland Murray', 'Vivian Mathis', 'Ed Jacobs',\n",
       "       'Nathan Cano', 'Lycoris Saunders', 'Katrina Edelman',\n",
       "       'Duane Huffman', 'Peter Fuller', 'Valerie Takahito',\n",
       "       'Maureen Gnade', 'Susan Pistek', 'Charles Sheldon', 'Dana Kaydos',\n",
       "       'Khloe Miller', 'Anna Andreadi', 'Dorothy Dickinson', 'Amy Hunt',\n",
       "       'Tracy Poddar', 'Eileen Kiefer', 'Cyra Reiten', 'Susan Gilcrest',\n",
       "       'Angele Hood', 'Neil Französisch', 'Bill Shonely',\n",
       "       'Stefanie Holloman', 'Roger Demir', 'Alex Grayson',\n",
       "       'Georgia Rosenberg', 'Vivek Sundaresam', 'Tony Molinari',\n",
       "       'Tom Stivers', 'Dennis Bolton', 'Nick Radford', 'Cari Schnelling',\n",
       "       'Monica Federle', 'Liz Willingham', 'Alex Russell', 'Karen Seio',\n",
       "       'Aaron Bergman', 'Lisa Ryan', 'Shahid Shariari', 'Jill Matthias',\n",
       "       'Jason Klamczynski', 'Don Miller', 'Muhammed Lee', 'Marc Harrigan',\n",
       "       'Frank Carlisle', 'Thea Hudgings', 'Juliana Krohn', 'Sarah Brown',\n",
       "       'Barry Gonzalez', 'Barry Weirich', 'Mitch Gastineau',\n",
       "       \"Doug O'Connell\", 'Barry Pond', 'Trudy Schmidt', 'Evan Minnotte',\n",
       "       \"Anthony O'Donnell\", 'Mark Haberlin', 'Shirley Schmidt',\n",
       "       'Lela Donovan', 'Victoria Pisteka', 'Theresa Coyne',\n",
       "       'Ionia McGrath', 'Anemone Ratner', 'Craig Molinari',\n",
       "       'Fred Wasserman', 'Lindsay Castell', 'Harold Engle',\n",
       "       'Brendan Dodson', 'Harold Dahlen', 'Carl Jackson', 'Roy Skaria',\n",
       "       'Sung Chung', 'Ricardo Emerson', 'Susan MacKendrick'], dtype=object)"
      ]
     },
     "execution_count": 73,
     "metadata": {},
     "output_type": "execute_result"
    }
   ],
   "source": [
    "data['Customer Name'].unique()"
   ]
  },
  {
   "cell_type": "code",
   "execution_count": 75,
   "id": "8a395773",
   "metadata": {},
   "outputs": [
    {
     "data": {
      "text/plain": [
       "dtype('float64')"
      ]
     },
     "execution_count": 75,
     "metadata": {},
     "output_type": "execute_result"
    }
   ],
   "source": [
    "data['Sales'].dtype"
   ]
  },
  {
   "cell_type": "code",
   "execution_count": 76,
   "id": "3894aae7",
   "metadata": {},
   "outputs": [
    {
     "data": {
      "text/plain": [
       "0"
      ]
     },
     "execution_count": 76,
     "metadata": {},
     "output_type": "execute_result"
    }
   ],
   "source": [
    "data['Sales'].isna().sum()"
   ]
  },
  {
   "cell_type": "code",
   "execution_count": 81,
   "id": "16b4f931",
   "metadata": {},
   "outputs": [
    {
     "data": {
      "text/plain": [
       "dtype('O')"
      ]
     },
     "execution_count": 81,
     "metadata": {},
     "output_type": "execute_result"
    }
   ],
   "source": [
    "data['Product Name'].dtype"
   ]
  },
  {
   "cell_type": "code",
   "execution_count": 82,
   "id": "280d07f9",
   "metadata": {},
   "outputs": [
    {
     "data": {
      "text/plain": [
       "array(['Bush Somerset Collection Bookcase',\n",
       "       'Hon Deluxe Fabric Upholstered Stacking Chairs, Rounded Back',\n",
       "       'Self-Adhesive Address Labels for Typewriters by Universal', ...,\n",
       "       'Cisco 8961 IP Phone Charcoal', 'Eureka Hand Vacuum, Bagless',\n",
       "       'LG G2'], dtype=object)"
      ]
     },
     "execution_count": 82,
     "metadata": {},
     "output_type": "execute_result"
    }
   ],
   "source": [
    "data['Product Name'].unique()"
   ]
  },
  {
   "cell_type": "code",
   "execution_count": 86,
   "id": "8f9c7dce",
   "metadata": {},
   "outputs": [
    {
     "data": {
      "text/plain": [
       "array(['Bookcases', 'Chairs', 'Labels', 'Tables', 'Storage',\n",
       "       'Furnishings', 'Art', 'Phones', 'Binders', 'Appliances', 'Paper',\n",
       "       'Accessories', 'Envelopes', 'Fasteners', 'Supplies', 'Machines',\n",
       "       'Copiers'], dtype=object)"
      ]
     },
     "execution_count": 86,
     "metadata": {},
     "output_type": "execute_result"
    }
   ],
   "source": [
    "data['Sub-Category'].unique()"
   ]
  },
  {
   "cell_type": "code",
   "execution_count": 87,
   "id": "c227be2c",
   "metadata": {},
   "outputs": [
    {
     "data": {
      "text/plain": [
       "array(['Furniture', 'Office Supplies', 'Technology'], dtype=object)"
      ]
     },
     "execution_count": 87,
     "metadata": {},
     "output_type": "execute_result"
    }
   ],
   "source": [
    "data['Category'].unique()"
   ]
  },
  {
   "cell_type": "code",
   "execution_count": 89,
   "id": "71333a2d",
   "metadata": {},
   "outputs": [
    {
     "data": {
      "text/plain": [
       "0"
      ]
     },
     "execution_count": 89,
     "metadata": {},
     "output_type": "execute_result"
    }
   ],
   "source": [
    "data['Category'].isna().sum()"
   ]
  },
  {
   "cell_type": "code",
   "execution_count": 90,
   "id": "de2b62d4",
   "metadata": {},
   "outputs": [
    {
     "data": {
      "text/plain": [
       "array(['FUR-BO-10001798', 'FUR-CH-10000454', 'OFF-LA-10000240', ...,\n",
       "       'TEC-MA-10003589', 'OFF-AP-10003099', 'TEC-PH-10002645'],\n",
       "      dtype=object)"
      ]
     },
     "execution_count": 90,
     "metadata": {},
     "output_type": "execute_result"
    }
   ],
   "source": [
    "data['Product ID'].unique()"
   ]
  },
  {
   "cell_type": "code",
   "execution_count": 91,
   "id": "e9e8cfdb",
   "metadata": {},
   "outputs": [
    {
     "data": {
      "text/plain": [
       "0"
      ]
     },
     "execution_count": 91,
     "metadata": {},
     "output_type": "execute_result"
    }
   ],
   "source": [
    "data['Product ID'].isna().sum()"
   ]
  },
  {
   "cell_type": "code",
   "execution_count": 92,
   "id": "91642d85",
   "metadata": {},
   "outputs": [
    {
     "data": {
      "text/plain": [
       "array(['South', 'West', 'Central', 'East'], dtype=object)"
      ]
     },
     "execution_count": 92,
     "metadata": {},
     "output_type": "execute_result"
    }
   ],
   "source": [
    "data['Region'].unique()"
   ]
  },
  {
   "cell_type": "code",
   "execution_count": 93,
   "id": "0a5ec6f9",
   "metadata": {},
   "outputs": [
    {
     "data": {
      "text/plain": [
       "0"
      ]
     },
     "execution_count": 93,
     "metadata": {},
     "output_type": "execute_result"
    }
   ],
   "source": [
    "data['Region'].isna().sum()"
   ]
  },
  {
   "cell_type": "code",
   "execution_count": 95,
   "id": "b55f121c",
   "metadata": {},
   "outputs": [
    {
     "data": {
      "text/plain": [
       "11"
      ]
     },
     "execution_count": 95,
     "metadata": {},
     "output_type": "execute_result"
    }
   ],
   "source": [
    "data['Postal Code'].isna().sum()"
   ]
  },
  {
   "cell_type": "code",
   "execution_count": 96,
   "id": "4d60daa2",
   "metadata": {},
   "outputs": [
    {
     "data": {
      "text/plain": [
       "array([42420., 90036., 33311., 90032., 28027., 98103., 76106., 53711.,\n",
       "       84084., 94109., 68025., 19140., 84057., 90049., 77095., 75080.,\n",
       "       77041., 60540., 32935., 55122., 48185., 19901., 47150., 10024.,\n",
       "       12180., 90004., 60610., 85234., 22153., 10009., 49201., 38109.,\n",
       "       77070., 35601., 94122., 27707., 60623., 29203., 55901., 55407.,\n",
       "       97206., 55106., 80013., 28205., 60462., 10035., 50322., 43229.,\n",
       "       37620., 19805., 61701., 85023., 95661., 64055., 91104., 43055.,\n",
       "       53132., 85254., 95123., 98105., 98115., 73034., 90045., 19134.,\n",
       "       88220., 78207., 77036., 62521., 71203.,  6824., 75051., 92374.,\n",
       "       45011.,  7090., 19120., 44312., 80219., 75220., 37064., 90604.,\n",
       "       48601., 44256., 43017., 48227., 38401., 33614., 95051., 55044.,\n",
       "       92037., 77506., 94513., 27514.,  7960., 45231., 94110., 90301.,\n",
       "       33319., 80906.,  7109., 48180.,  8701., 22204., 80004.,  7601.,\n",
       "       33710., 19143., 90805., 92345., 37130., 84041., 78745.,  1852.,\n",
       "       31907.,  6040., 78550., 85705., 62301.,  2038., 33024., 98198.,\n",
       "       61604., 89115.,  2886., 33180., 28403., 92646., 40475., 80027.,\n",
       "        1841., 39212., 48187., 10801., 28052., 32216., 47201., 13021.,\n",
       "       73071., 94521., 60068., 79109., 11757., 90008., 92024., 77340.,\n",
       "       14609., 72701., 92627., 80134., 30318., 64118., 59405., 48234.,\n",
       "       33801., 36116., 85204., 60653., 54302., 45503., 92804., 98270.,\n",
       "       97301., 78041., 75217., 43123., 10011., 48126., 31088., 94591.,\n",
       "       92691., 48307.,  7060., 85635., 98661., 60505., 76017., 40214.,\n",
       "       75081., 44105., 75701., 27217., 22980., 19013., 27511., 32137.,\n",
       "       10550., 48205., 33012., 11572., 92105., 60201., 48183., 55016.,\n",
       "       71111., 50315., 93534., 23223., 28806., 92530., 68104., 98026.,\n",
       "       92704., 53209., 41042., 44052.,  7036., 93905.,  8901., 17602.,\n",
       "        3301., 21044., 75043.,  6360., 22304., 43615., 87401., 92503.,\n",
       "       90503., 78664., 92054., 33433., 23464., 92563., 28540., 52601.,\n",
       "       98502., 20016., 65109., 63376., 61107., 33142., 78521., 10701.,\n",
       "       94601., 28110., 20735., 30076., 72401., 47374., 94509., 33030.,\n",
       "       46350., 48911., 44221., 89502., 22801., 92025., 48073., 20852.,\n",
       "       33065., 14215., 33437., 39503., 93727., 27834., 11561., 35630.,\n",
       "       31204., 52402.,  2908., 81001., 94533., 32725., 42071.,  6457.,\n",
       "       11520., 90660., 84604., 84062., 30080., 24153., 44134., 36608.,\n",
       "        2740., 75061.,  8360., 85301., 14304., 27360., 92683., 38301.,\n",
       "       75019., 91767., 89031., 18103., 19711., 85281., 92677.,  8302.,\n",
       "        2149., 13601., 54915., 98006., 75002., 79907., 76051., 75007.,\n",
       "       37167., 98031., 70506., 97224., 60076., 75023., 23434., 46203.,\n",
       "        7002., 28314., 27405., 21215., 53142., 66062., 98002., 74133.,\n",
       "       97756., 27604., 74403.,  6450., 42104., 46614.,  6010., 89015.,\n",
       "       99207., 76248., 45014., 32127., 97504., 22901., 59801., 33178.,\n",
       "       29501., 97477., 32712., 19601., 80020., 65807.,  7501., 73120.,\n",
       "       23320., 79424., 65203., 37604., 36830., 92404.,  1453., 59715.,\n",
       "       85345., 44107.,  8861., 91761., 91730., 56560., 75150., 95207.,\n",
       "       32174., 94086.,  3820., 17403., 77840., 63116.,  2169., 95336.,\n",
       "       44240., 76903., 84106., 35810., 37918., 72209., 48146., 43302.,\n",
       "       80122.,    nan,  4401., 38671., 47362., 48640., 57103., 80525.,\n",
       "       47905., 37042., 95823., 91360.,  2148.,  1040., 87105., 89431.,\n",
       "       92236., 60126.,  7055., 29406., 23602., 14701., 46544., 43402.,\n",
       "       92253., 32303., 37211., 98226., 60098., 76117., 60090., 29483.,\n",
       "       71901., 80112., 43130., 88001., 35244., 75034., 95687., 84107.,\n",
       "       53186., 93309., 33068., 45373., 78415., 90278., 32839.,  7050.,\n",
       "       70601., 60035., 11550., 46060., 55124., 29464., 48310., 54703.,\n",
       "       78577., 59102., 97030., 37421., 83642., 92307., 60440., 55369.,\n",
       "       95695., 77489., 77581., 94403., 49505., 93277., 66212., 92592.,\n",
       "       92399.,  2151., 77301., 60477., 52001., 48127., 87505., 28601.,\n",
       "       60188., 56301., 33161., 46226., 33317., 34952., 29730., 79762.,\n",
       "       53214., 91911., 66502., 16602., 80229., 61821., 47401., 71854.,\n",
       "       78539., 77520., 46142., 90712.,  2895., 54880., 76021., 98042.,\n",
       "       74012., 33023., 33021., 77536., 67212., 78501., 52240., 83704.,\n",
       "        2920., 61032., 77642., 95610., 75056., 98052., 32114., 86442.,\n",
       "       46368., 58103., 46514., 91776., 33063., 30328., 44060., 73505.,\n",
       "       23666., 13440., 54601., 83501., 39401., 94526., 48858., 84321.,\n",
       "        6708., 30605.,  4240., 61832., 85323., 30062., 85364., 54401.,\n",
       "       99301., 60302., 32503., 77573., 20877., 84043., 35401., 92553.,\n",
       "       40324., 80538., 85224., 59601., 63122., 76706., 48066., 60423.,\n",
       "       18018., 55113., 68801., 55125., 48237., 72756., 88101., 33458.,\n",
       "       93101., 75104., 68701., 84020., 48104., 91941., 83201., 49423.,\n",
       "        6460., 60089., 92630., 96003., 95928., 13501., 72032., 82001.,\n",
       "       42301., 83605., 70065.,  3060., 38134., 94061., 37087., 93454.,\n",
       "       60016., 98632., 37075., 50701.,  2138., 60067.,  1915., 97405.,\n",
       "       93030., 98059., 60025., 33445., 80022., 77590., 27893., 87124.,\n",
       "       27534., 98208., 90640., 92020., 77705., 33407., 79605., 61761.,\n",
       "       63301., 60174., 93010., 97123., 91505., 95351., 67846.,  8401.,\n",
       "       80501., 95616., 26003., 95037.,  7011., 53081., 30344., 57701.,\n",
       "        1810., 34741.,  6484.,  6810., 52302., 32771., 78666., 80634.,\n",
       "       76063., 44035., 83301., 33134., 60441.,  1752., 20707., 77803.,\n",
       "       71603., 57401., 21740.,  7017., 60004., 60543., 55433., 92672.,\n",
       "       94568., 93405., 72762.])"
      ]
     },
     "execution_count": 96,
     "metadata": {},
     "output_type": "execute_result"
    }
   ],
   "source": [
    "data['Postal Code'].unique()"
   ]
  },
  {
   "cell_type": "code",
   "execution_count": 97,
   "id": "2f08fe5b",
   "metadata": {},
   "outputs": [
    {
     "data": {
      "text/plain": [
       "0    10035.0\n",
       "Name: Postal Code, dtype: float64"
      ]
     },
     "execution_count": 97,
     "metadata": {},
     "output_type": "execute_result"
    }
   ],
   "source": [
    "data['Postal Code'].mode()"
   ]
  },
  {
   "cell_type": "code",
   "execution_count": 98,
   "id": "b233d009",
   "metadata": {},
   "outputs": [],
   "source": [
    " data['Postal Code']=data['Postal Code'].fillna(10035.0)"
   ]
  },
  {
   "cell_type": "code",
   "execution_count": 99,
   "id": "23ed7c3c",
   "metadata": {},
   "outputs": [
    {
     "data": {
      "text/plain": [
       "0"
      ]
     },
     "execution_count": 99,
     "metadata": {},
     "output_type": "execute_result"
    }
   ],
   "source": [
    " data['Postal Code'].isna().sum()"
   ]
  },
  {
   "cell_type": "code",
   "execution_count": 100,
   "id": "33de23be",
   "metadata": {},
   "outputs": [
    {
     "data": {
      "text/plain": [
       "array(['Kentucky', 'California', 'Florida', 'North Carolina',\n",
       "       'Washington', 'Texas', 'Wisconsin', 'Utah', 'Nebraska',\n",
       "       'Pennsylvania', 'Illinois', 'Minnesota', 'Michigan', 'Delaware',\n",
       "       'Indiana', 'New York', 'Arizona', 'Virginia', 'Tennessee',\n",
       "       'Alabama', 'South Carolina', 'Oregon', 'Colorado', 'Iowa', 'Ohio',\n",
       "       'Missouri', 'Oklahoma', 'New Mexico', 'Louisiana', 'Connecticut',\n",
       "       'New Jersey', 'Massachusetts', 'Georgia', 'Nevada', 'Rhode Island',\n",
       "       'Mississippi', 'Arkansas', 'Montana', 'New Hampshire', 'Maryland',\n",
       "       'District of Columbia', 'Kansas', 'Vermont', 'Maine',\n",
       "       'South Dakota', 'Idaho', 'North Dakota', 'Wyoming',\n",
       "       'West Virginia'], dtype=object)"
      ]
     },
     "execution_count": 100,
     "metadata": {},
     "output_type": "execute_result"
    }
   ],
   "source": [
    "data['State'].unique()"
   ]
  },
  {
   "cell_type": "code",
   "execution_count": 101,
   "id": "579084bd",
   "metadata": {},
   "outputs": [
    {
     "data": {
      "text/plain": [
       "0"
      ]
     },
     "execution_count": 101,
     "metadata": {},
     "output_type": "execute_result"
    }
   ],
   "source": [
    "data['State'].isna().sum()"
   ]
  },
  {
   "cell_type": "code",
   "execution_count": 104,
   "id": "929a527c",
   "metadata": {},
   "outputs": [
    {
     "data": {
      "text/plain": [
       "0"
      ]
     },
     "execution_count": 104,
     "metadata": {},
     "output_type": "execute_result"
    }
   ],
   "source": [
    "data['City'].isna().sum()"
   ]
  },
  {
   "cell_type": "code",
   "execution_count": 105,
   "id": "81b74117",
   "metadata": {},
   "outputs": [
    {
     "data": {
      "text/plain": [
       "array(['Henderson', 'Los Angeles', 'Fort Lauderdale', 'Concord',\n",
       "       'Seattle', 'Fort Worth', 'Madison', 'West Jordan', 'San Francisco',\n",
       "       'Fremont', 'Philadelphia', 'Orem', 'Houston', 'Richardson',\n",
       "       'Naperville', 'Melbourne', 'Eagan', 'Westland', 'Dover',\n",
       "       'New Albany', 'New York City', 'Troy', 'Chicago', 'Gilbert',\n",
       "       'Springfield', 'Jackson', 'Memphis', 'Decatur', 'Durham',\n",
       "       'Columbia', 'Rochester', 'Minneapolis', 'Portland', 'Saint Paul',\n",
       "       'Aurora', 'Charlotte', 'Orland Park', 'Urbandale', 'Columbus',\n",
       "       'Bristol', 'Wilmington', 'Bloomington', 'Phoenix', 'Roseville',\n",
       "       'Independence', 'Pasadena', 'Newark', 'Franklin', 'Scottsdale',\n",
       "       'San Jose', 'Edmond', 'Carlsbad', 'San Antonio', 'Monroe',\n",
       "       'Fairfield', 'Grand Prairie', 'Redlands', 'Hamilton', 'Westfield',\n",
       "       'Akron', 'Denver', 'Dallas', 'Whittier', 'Saginaw', 'Medina',\n",
       "       'Dublin', 'Detroit', 'Tampa', 'Santa Clara', 'Lakeville',\n",
       "       'San Diego', 'Brentwood', 'Chapel Hill', 'Morristown',\n",
       "       'Cincinnati', 'Inglewood', 'Tamarac', 'Colorado Springs',\n",
       "       'Belleville', 'Taylor', 'Lakewood', 'Arlington', 'Arvada',\n",
       "       'Hackensack', 'Saint Petersburg', 'Long Beach', 'Hesperia',\n",
       "       'Murfreesboro', 'Layton', 'Austin', 'Lowell', 'Manchester',\n",
       "       'Harlingen', 'Tucson', 'Quincy', 'Pembroke Pines', 'Des Moines',\n",
       "       'Peoria', 'Las Vegas', 'Warwick', 'Miami', 'Huntington Beach',\n",
       "       'Richmond', 'Louisville', 'Lawrence', 'Canton', 'New Rochelle',\n",
       "       'Gastonia', 'Jacksonville', 'Auburn', 'Norman', 'Park Ridge',\n",
       "       'Amarillo', 'Lindenhurst', 'Huntsville', 'Fayetteville',\n",
       "       'Costa Mesa', 'Parker', 'Atlanta', 'Gladstone', 'Great Falls',\n",
       "       'Lakeland', 'Montgomery', 'Mesa', 'Green Bay', 'Anaheim',\n",
       "       'Marysville', 'Salem', 'Laredo', 'Grove City', 'Dearborn',\n",
       "       'Warner Robins', 'Vallejo', 'Mission Viejo', 'Rochester Hills',\n",
       "       'Plainfield', 'Sierra Vista', 'Vancouver', 'Cleveland', 'Tyler',\n",
       "       'Burlington', 'Waynesboro', 'Chester', 'Cary', 'Palm Coast',\n",
       "       'Mount Vernon', 'Hialeah', 'Oceanside', 'Evanston', 'Trenton',\n",
       "       'Cottage Grove', 'Bossier City', 'Lancaster', 'Asheville',\n",
       "       'Lake Elsinore', 'Omaha', 'Edmonds', 'Santa Ana', 'Milwaukee',\n",
       "       'Florence', 'Lorain', 'Linden', 'Salinas', 'New Brunswick',\n",
       "       'Garland', 'Norwich', 'Alexandria', 'Toledo', 'Farmington',\n",
       "       'Riverside', 'Torrance', 'Round Rock', 'Boca Raton',\n",
       "       'Virginia Beach', 'Murrieta', 'Olympia', 'Washington',\n",
       "       'Jefferson City', 'Saint Peters', 'Rockford', 'Brownsville',\n",
       "       'Yonkers', 'Oakland', 'Clinton', 'Encinitas', 'Roswell',\n",
       "       'Jonesboro', 'Antioch', 'Homestead', 'La Porte', 'Lansing',\n",
       "       'Cuyahoga Falls', 'Reno', 'Harrisonburg', 'Escondido', 'Royal Oak',\n",
       "       'Rockville', 'Coral Springs', 'Buffalo', 'Boynton Beach',\n",
       "       'Gulfport', 'Fresno', 'Greenville', 'Macon', 'Cedar Rapids',\n",
       "       'Providence', 'Pueblo', 'Deltona', 'Murray', 'Middletown',\n",
       "       'Freeport', 'Pico Rivera', 'Provo', 'Pleasant Grove', 'Smyrna',\n",
       "       'Parma', 'Mobile', 'New Bedford', 'Irving', 'Vineland', 'Glendale',\n",
       "       'Niagara Falls', 'Thomasville', 'Westminster', 'Coppell', 'Pomona',\n",
       "       'North Las Vegas', 'Allentown', 'Tempe', 'Laguna Niguel',\n",
       "       'Bridgeton', 'Everett', 'Watertown', 'Appleton', 'Bellevue',\n",
       "       'Allen', 'El Paso', 'Grapevine', 'Carrollton', 'Kent', 'Lafayette',\n",
       "       'Tigard', 'Skokie', 'Plano', 'Suffolk', 'Indianapolis', 'Bayonne',\n",
       "       'Greensboro', 'Baltimore', 'Kenosha', 'Olathe', 'Tulsa', 'Redmond',\n",
       "       'Raleigh', 'Muskogee', 'Meriden', 'Bowling Green', 'South Bend',\n",
       "       'Spokane', 'Keller', 'Port Orange', 'Medford', 'Charlottesville',\n",
       "       'Missoula', 'Apopka', 'Reading', 'Broomfield', 'Paterson',\n",
       "       'Oklahoma City', 'Chesapeake', 'Lubbock', 'Johnson City',\n",
       "       'San Bernardino', 'Leominster', 'Bozeman', 'Perth Amboy',\n",
       "       'Ontario', 'Rancho Cucamonga', 'Moorhead', 'Mesquite', 'Stockton',\n",
       "       'Ormond Beach', 'Sunnyvale', 'York', 'College Station',\n",
       "       'Saint Louis', 'Manteca', 'San Angelo', 'Salt Lake City',\n",
       "       'Knoxville', 'Little Rock', 'Lincoln Park', 'Marion', 'Littleton',\n",
       "       'Bangor', 'Southaven', 'New Castle', 'Midland', 'Sioux Falls',\n",
       "       'Fort Collins', 'Clarksville', 'Sacramento', 'Thousand Oaks',\n",
       "       'Malden', 'Holyoke', 'Albuquerque', 'Sparks', 'Coachella',\n",
       "       'Elmhurst', 'Passaic', 'North Charleston', 'Newport News',\n",
       "       'Jamestown', 'Mishawaka', 'La Quinta', 'Tallahassee', 'Nashville',\n",
       "       'Bellingham', 'Woodstock', 'Haltom City', 'Wheeling',\n",
       "       'Summerville', 'Hot Springs', 'Englewood', 'Las Cruces', 'Hoover',\n",
       "       'Frisco', 'Vacaville', 'Waukesha', 'Bakersfield', 'Pompano Beach',\n",
       "       'Corpus Christi', 'Redondo Beach', 'Orlando', 'Orange',\n",
       "       'Lake Charles', 'Highland Park', 'Hempstead', 'Noblesville',\n",
       "       'Apple Valley', 'Mount Pleasant', 'Sterling Heights', 'Eau Claire',\n",
       "       'Pharr', 'Billings', 'Gresham', 'Chattanooga', 'Meridian',\n",
       "       'Bolingbrook', 'Maple Grove', 'Woodland', 'Missouri City',\n",
       "       'Pearland', 'San Mateo', 'Grand Rapids', 'Visalia',\n",
       "       'Overland Park', 'Temecula', 'Yucaipa', 'Revere', 'Conroe',\n",
       "       'Tinley Park', 'Dubuque', 'Dearborn Heights', 'Santa Fe',\n",
       "       'Hickory', 'Carol Stream', 'Saint Cloud', 'North Miami',\n",
       "       'Plantation', 'Port Saint Lucie', 'Rock Hill', 'Odessa',\n",
       "       'West Allis', 'Chula Vista', 'Manhattan', 'Altoona', 'Thornton',\n",
       "       'Champaign', 'Texarkana', 'Edinburg', 'Baytown', 'Greenwood',\n",
       "       'Woonsocket', 'Superior', 'Bedford', 'Covington', 'Broken Arrow',\n",
       "       'Miramar', 'Hollywood', 'Deer Park', 'Wichita', 'Mcallen',\n",
       "       'Iowa City', 'Boise', 'Cranston', 'Port Arthur', 'Citrus Heights',\n",
       "       'The Colony', 'Daytona Beach', 'Bullhead City', 'Portage', 'Fargo',\n",
       "       'Elkhart', 'San Gabriel', 'Margate', 'Sandy Springs', 'Mentor',\n",
       "       'Lawton', 'Hampton', 'Rome', 'La Crosse', 'Lewiston',\n",
       "       'Hattiesburg', 'Danville', 'Logan', 'Waterbury', 'Athens',\n",
       "       'Avondale', 'Marietta', 'Yuma', 'Wausau', 'Pasco', 'Oak Park',\n",
       "       'Pensacola', 'League City', 'Gaithersburg', 'Lehi', 'Tuscaloosa',\n",
       "       'Moreno Valley', 'Georgetown', 'Loveland', 'Chandler', 'Helena',\n",
       "       'Kirkwood', 'Waco', 'Frankfort', 'Bethlehem', 'Grand Island',\n",
       "       'Woodbury', 'Rogers', 'Clovis', 'Jupiter', 'Santa Barbara',\n",
       "       'Cedar Hill', 'Norfolk', 'Draper', 'Ann Arbor', 'La Mesa',\n",
       "       'Pocatello', 'Holland', 'Milford', 'Buffalo Grove', 'Lake Forest',\n",
       "       'Redding', 'Chico', 'Utica', 'Conway', 'Cheyenne', 'Owensboro',\n",
       "       'Caldwell', 'Kenner', 'Nashua', 'Bartlett', 'Redwood City',\n",
       "       'Lebanon', 'Santa Maria', 'Des Plaines', 'Longview',\n",
       "       'Hendersonville', 'Waterloo', 'Cambridge', 'Palatine', 'Beverly',\n",
       "       'Eugene', 'Oxnard', 'Renton', 'Glenview', 'Delray Beach',\n",
       "       'Commerce City', 'Texas City', 'Wilson', 'Rio Rancho', 'Goldsboro',\n",
       "       'Montebello', 'El Cajon', 'Beaumont', 'West Palm Beach', 'Abilene',\n",
       "       'Normal', 'Saint Charles', 'Camarillo', 'Hillsboro', 'Burbank',\n",
       "       'Modesto', 'Garden City', 'Atlantic City', 'Longmont', 'Davis',\n",
       "       'Morgan Hill', 'Clifton', 'Sheboygan', 'East Point', 'Rapid City',\n",
       "       'Andover', 'Kissimmee', 'Shelton', 'Danbury', 'Sanford',\n",
       "       'San Marcos', 'Greeley', 'Mansfield', 'Elyria', 'Twin Falls',\n",
       "       'Coral Gables', 'Romeoville', 'Marlborough', 'Laurel', 'Bryan',\n",
       "       'Pine Bluff', 'Aberdeen', 'Hagerstown', 'East Orange',\n",
       "       'Arlington Heights', 'Oswego', 'Coon Rapids', 'San Clemente',\n",
       "       'San Luis Obispo', 'Springdale'], dtype=object)"
      ]
     },
     "execution_count": 105,
     "metadata": {},
     "output_type": "execute_result"
    }
   ],
   "source": [
    "data['City'].unique()"
   ]
  },
  {
   "cell_type": "code",
   "execution_count": 106,
   "id": "57dfe7d2",
   "metadata": {},
   "outputs": [
    {
     "data": {
      "text/plain": [
       "0"
      ]
     },
     "execution_count": 106,
     "metadata": {},
     "output_type": "execute_result"
    }
   ],
   "source": [
    "data['Country'].isna().sum()"
   ]
  },
  {
   "cell_type": "code",
   "execution_count": 107,
   "id": "d01e86b3",
   "metadata": {},
   "outputs": [
    {
     "data": {
      "text/plain": [
       "array(['United States'], dtype=object)"
      ]
     },
     "execution_count": 107,
     "metadata": {},
     "output_type": "execute_result"
    }
   ],
   "source": [
    "data['Country'].unique()"
   ]
  },
  {
   "cell_type": "code",
   "execution_count": 108,
   "id": "1464e587",
   "metadata": {},
   "outputs": [
    {
     "data": {
      "text/plain": [
       "0"
      ]
     },
     "execution_count": 108,
     "metadata": {},
     "output_type": "execute_result"
    }
   ],
   "source": [
    "data['Segment'].isna().sum()"
   ]
  },
  {
   "cell_type": "code",
   "execution_count": 109,
   "id": "80fff487",
   "metadata": {},
   "outputs": [
    {
     "data": {
      "text/plain": [
       "array(['Consumer', 'Corporate', 'Home Office'], dtype=object)"
      ]
     },
     "execution_count": 109,
     "metadata": {},
     "output_type": "execute_result"
    }
   ],
   "source": [
    "data['Segment'].unique()"
   ]
  },
  {
   "cell_type": "code",
   "execution_count": 110,
   "id": "898d863e",
   "metadata": {},
   "outputs": [],
   "source": [
    "import seaborn as sns\n",
    "import matplotlib.pyplot as plt\n",
    "import pandas as pd\n"
   ]
  },
  {
   "cell_type": "code",
   "execution_count": 154,
   "id": "9a19f565",
   "metadata": {},
   "outputs": [
    {
     "data": {
      "image/png": "[encoded data removed]",
      "text/plain": [
       "<Figure size 640x480 with 1 Axes>"
      ]
     },
     "metadata": {},
     "output_type": "display_data"
    }
   ],
   "source": [
    "sns.lineplot(x='Ship Mode', y='Region', data=data)\n",
    "plt.show()"
   ]
  },
  {
   "cell_type": "code",
   "execution_count": 149,
   "id": "40e8dc38",
   "metadata": {},
   "outputs": [
    {
     "data": {
      "image/png": "[encoded data removed]",
      "text/plain": [
       "<Figure size 500x500 with 6 Axes>"
      ]
     },
     "metadata": {},
     "output_type": "display_data"
    }
   ],
   "source": [
    "sns.pairplot( data=data)\n",
    "plt.show()"
   ]
  },
  {
   "cell_type": "code",
   "execution_count": 118,
   "id": "65f1aea2",
   "metadata": {},
   "outputs": [
    {
     "data": {
      "image/png": "[encoded data removed]",
      "text/plain": [
       "<Figure size 640x480 with 1 Axes>"
      ]
     },
     "metadata": {},
     "output_type": "display_data"
    }
   ],
   "source": [
    "sns.boxplot(x='Ship Mode', y='Sales', data=data)\n",
    "plt.show()"
   ]
  },
  {
   "cell_type": "code",
   "execution_count": 124,
   "id": "529801ff",
   "metadata": {},
   "outputs": [
    {
     "data": {
      "image/png": "[encoded data removed]",
      "text/plain": [
       "<Figure size 640x480 with 1 Axes>"
      ]
     },
     "metadata": {},
     "output_type": "display_data"
    }
   ],
   "source": [
    "sns.scatterplot(x='Ship Date', y='Sales', data=data)\n",
    "plt.show()"
   ]
  },
  {
   "cell_type": "code",
   "execution_count": 129,
   "id": "03f4ec3d",
   "metadata": {},
   "outputs": [
    {
     "data": {
      "image/png": "[encoded data removed]",
      "text/plain": [
       "<Figure size 640x480 with 1 Axes>"
      ]
     },
     "metadata": {},
     "output_type": "display_data"
    }
   ],
   "source": [
    "sns.scatterplot(x='Category', y='Sales', data=data)\n",
    "plt.show()"
   ]
  },
  {
   "cell_type": "code",
   "execution_count": 142,
   "id": "1dfaa907",
   "metadata": {},
   "outputs": [
    {
     "data": {
      "image/png": "[encoded data removed]",
      "text/plain": [
       "<Figure size 640x480 with 1 Axes>"
      ]
     },
     "metadata": {},
     "output_type": "display_data"
    }
   ],
   "source": [
    "sns.scatterplot(x='Sales', y='Sub-Category', data=data)\n",
    "plt.show()"
   ]
  },
  {
   "cell_type": "code",
   "execution_count": 150,
   "id": "25dde4bb",
   "metadata": {},
   "outputs": [
    {
     "data": {
      "image/png": "[encoded data removed]",
      "text/plain": [
       "<Figure size 640x480 with 1 Axes>"
      ]
     },
     "metadata": {},
     "output_type": "display_data"
    }
   ],
   "source": [
    "sns.boxplot(x='Sales', y='Sub-Category', data=data)\n",
    "plt.show()"
   ]
  },
  {
   "cell_type": "code",
   "execution_count": 156,
   "id": "f87e4eb1",
   "metadata": {},
   "outputs": [
    {
     "data": {
      "image/png": "[encoded data removed]",
      "text/plain": [
       "<Figure size 640x480 with 1 Axes>"
      ]
     },
     "metadata": {},
     "output_type": "display_data"
    }
   ],
   "source": [
    "sns.boxplot(x='Segment', y='Sales', data=data)\n",
    "plt.show()"
   ]
  },
  {
   "cell_type": "code",
   "execution_count": null,
   "id": "dfc7a776",
   "metadata": {},
   "outputs": [],
   "source": []
  }
 ],
 "metadata": {
  "kernelspec": {
   "display_name": "Python 3 (ipykernel)",
   "language": "python",
   "name": "python3"
  },
  "language_info": {
   "codemirror_mode": {
    "name": "ipython",
    "version": 3
   },
   "file_extension": ".py",
   "mimetype": "text/x-python",
   "name": "python",
   "nbconvert_exporter": "python",
   "pygments_lexer": "ipython3",
   "version": "3.10.9"
  }
 },
 "nbformat": 4,
 "nbformat_minor": 5
}
